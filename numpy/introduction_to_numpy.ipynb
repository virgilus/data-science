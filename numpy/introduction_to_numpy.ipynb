{
 "cells": [
  {
   "cell_type": "markdown",
   "id": "AY1s8kLXH5A4",
   "metadata": {
    "id": "AY1s8kLXH5A4"
   },
   "source": [
    "# NUMPY"
   ]
  },
  {
   "cell_type": "markdown",
   "id": "MZ8P-UnEH5A7",
   "metadata": {
    "id": "MZ8P-UnEH5A7"
   },
   "source": [
    "**Attribution**:\n",
    "\n",
    "- Parts of this notebook come from the following [Google colab file](https://colab.research.google.com/github/ffund/ml-notebooks/blob/master/notebooks/1-python-numpy-tutorial.ipynb). Which is based on the following sources:\n",
    "    -   Parts of this notebook are adapted from a [tutorial from CS231N at Stanford University](https://cs231n.github.io/python-numpy-tutorial/), which is shared under the [MIT license]((https://opensource.org/licenses/MIT)).\n",
    "    -   Parts of this notebook are adapted from Jake VanderPlas’s [Whirlwind Tour of Python](https://colab.research.google.com/github/jakevdp/WhirlwindTourOfPython/blob/master/Index.ipynb), which is shared under the [Creative Commons CC0 Public Domain Dedication license](https://github.com/jakevdp/WhirlwindTourOfPython/blob/master/LICENSE).\n",
    "    -   The visualizations in this notebook are from [A Visual Intro to NumPy](http://jalammar.github.io/visual-numpy/) by Jay Alammar, which is licensed under a Creative Commons Attribution-NonCommercial-ShareAlike 4.0 International License.\n",
    "    -   Parts of this notebook (and some images) about numpy broadcasting are adapted from Sebastian Raschka’s [STATS451](https://github.com/rasbt/stat451-machine-learning-fs20) materials.\n",
    "\n",
    "- Also some content come from wikipedia, like the [numpy page](https://en.wikipedia.org/wiki/NumPy)\n",
    "- Exercices come from various websites including Kaggle.\n"
   ]
  },
  {
   "cell_type": "markdown",
   "id": "bTj5UuV2H5A7",
   "metadata": {
    "id": "bTj5UuV2H5A7"
   },
   "source": [
    "## Introduction\n",
    "\n",
    "Using Python for scientific activites or data science is made very easy thanks to three very popular librairies : \"numpy\", \"pandas\" and \"matplotlib\". They are all designed to work well together and, almost every time, objects from one library can be reused in the two others.\n",
    "\n",
    "## What is Numpy?\n",
    "\n",
    "Numpy is the core library for scientific computing in Python. It provides a high-performance multidimensional array object, and tools for working with these arrays.\n",
    "\n",
    "From 1995 to 2006 there were two librairies mainly used to deal with arrays and matrices: \"numeric\" and \"numarray\". But in early 2005, Travis Oliphant wanted to unify the community around a single array package and ported Numarray's features to Numeric, releasing the result as **NumPy 1.0 in 2006** (Wikipedia).\n",
    "\n",
    "To use Numpy, we first need to import the `numpy` package. By convention, we import it using the alias `np`. Then, when we want to use modules or functions in this library, we preface them with `np.`"
   ]
  },
  {
   "cell_type": "code",
   "execution_count": null,
   "id": "VnoEgwrrH5BF",
   "metadata": {
    "id": "VnoEgwrrH5BF"
   },
   "outputs": [],
   "source": [
    "import numpy as np"
   ]
  },
  {
   "cell_type": "markdown",
   "id": "O1UlxyEdH5BF",
   "metadata": {
    "id": "O1UlxyEdH5BF"
   },
   "source": [
    "## Arrays and array construction\n",
    "\n",
    "A numpy array is a grid of values, all of the same type, and is indexed by a tuple of non-negative integers. The number of dimensions is the rank of the array; the shape of an array is a tuple of integers giving the size of the array along each dimension.\n",
    "\n",
    "### 1d Array\n",
    "\n",
    "We can create a `numpy` array by passing a Python list to `np.array()`."
   ]
  },
  {
   "cell_type": "code",
   "execution_count": null,
   "id": "jH_OMongH5BF",
   "metadata": {
    "id": "jH_OMongH5BF"
   },
   "outputs": [],
   "source": [
    "a = np.array([1, 2, 3]) # Create a rank 1 array\n",
    "print(\"Type:\", type(a))\n",
    "print(\"Elements:\", a[0], a[1], a[2])\n",
    "print(\"Shape:\", a.shape)\n",
    "print(\"Number of dimensions:\", len(a.shape))\n",
    "print(a)"
   ]
  },
  {
   "cell_type": "markdown",
   "id": "UZjh5KS-H5BF",
   "metadata": {
    "id": "UZjh5KS-H5BF"
   },
   "source": [
    "Let's say the first dimension is verticality, then we can think of this array as a column.\n",
    "![](files/create-numpy-array-1.png)"
   ]
  },
  {
   "cell_type": "markdown",
   "id": "66551068-bc2b-4f89-8f23-a50804997528",
   "metadata": {
    "id": "fCLNzXXUH5BH"
   },
   "source": [
    "### Arrays with multiple dimensions\n",
    "\n",
    "To create a numpy array with more dimensions, we can pass nested lists, like this:"
   ]
  },
  {
   "cell_type": "code",
   "execution_count": null,
   "id": "JGKbd3dFH5BH",
   "metadata": {
    "id": "JGKbd3dFH5BH"
   },
   "outputs": [],
   "source": [
    "b = np.array([[1,2],[3,4]]) # Create a rank 2 array\n",
    "print(\"Shape:\", b.shape)\n",
    "print(\"Number of dimensions:\", len(b.shape))\n",
    "print(b)"
   ]
  },
  {
   "cell_type": "markdown",
   "id": "d137d152-3f20-42c0-a92d-024f1179b315",
   "metadata": {
    "id": "fCLNzXXUH5BH"
   },
   "source": [
    "![](files/numpy-array-create-2d.png)"
   ]
  },
  {
   "cell_type": "code",
   "execution_count": null,
   "id": "df0f18bb-8295-4149-92c7-59f7c6d125b0",
   "metadata": {
    "tags": []
   },
   "outputs": [],
   "source": [
    "c = np.array([[[1,2],[3,4]],[[5,6],[7,8]]]) # Create a rank 3 array\n",
    "print(\"Shape:\", c.shape)\n",
    "print(\"Number of dimensions:\", len(c.shape))\n",
    "print(c)"
   ]
  },
  {
   "cell_type": "markdown",
   "id": "826c07b7-692f-4c98-8b43-d7f950267cb5",
   "metadata": {
    "id": "fCLNzXXUH5BH"
   },
   "source": [
    "![](files/numpy-3d-array.png)"
   ]
  },
  {
   "cell_type": "markdown",
   "id": "46722911-bf41-4546-b3c3-5b5e675e5edf",
   "metadata": {
    "id": "5ckg0U0zH5BH"
   },
   "source": [
    "## One-dimensional array with values already set\n",
    "\n",
    "There are often cases when we want numpy to initialize the values of the array for us. numpy provides methods like `.ones()`, `.zeros()`, and `.random.random()` for these cases. We just pass them the number of elements we want it to generate:"
   ]
  },
  {
   "cell_type": "code",
   "execution_count": null,
   "id": "89347f0f-54bc-4ec0-96e6-2a9278a518bd",
   "metadata": {
    "tags": []
   },
   "outputs": [],
   "source": [
    "print(\"np.ones(3):\", np.ones(3))\n",
    "print(\"np.zeros(3):\", np.zeros(3))\n",
    "print(\"np.random.random(3):\", np.random.random(3))"
   ]
  },
  {
   "cell_type": "markdown",
   "id": "962f3b01-a04f-4e2d-8a1c-eb1f41b3bdca",
   "metadata": {
    "id": "5ckg0U0zH5BH"
   },
   "source": [
    "![](files/create-numpy-array-ones-zeros-random.png)"
   ]
  },
  {
   "cell_type": "markdown",
   "id": "1uqGs1hBH5BB",
   "metadata": {
    "id": "1uqGs1hBH5BB"
   },
   "source": [
    "## What is a tuple?\n",
    "\n",
    "A tuple is an (immutable) ordered list of values. A tuple is in many ways similar to a list; one of the most important differences is that tuples can be used as keys in dictionaries and as elements of sets, while lists cannot. Here is a trivial example:"
   ]
  },
  {
   "cell_type": "code",
   "execution_count": null,
   "id": "5sxVwniNH5BB",
   "metadata": {
    "id": "5sxVwniNH5BB"
   },
   "outputs": [],
   "source": [
    "d = {(x, x + 1): x for x in range(5)} # Create a dictionary with tuple keys\n",
    "t = (3, 4) # Create a tuple\n",
    "print(d)\n",
    "print(type(t))\n",
    "print(d[t])\n",
    "print(d[(1, 2)])"
   ]
  },
  {
   "cell_type": "code",
   "execution_count": null,
   "id": "42846ab9-9701-4b45-857c-f54ae0d40be6",
   "metadata": {
    "id": "Q1FN1r5OH5BC",
    "tags": []
   },
   "outputs": [],
   "source": [
    "t = (3, 4)\n",
    "# t[0] = 1 # this statement raises an error! 'tuple' object does not support item assignment"
   ]
  },
  {
   "cell_type": "markdown",
   "id": "a443b995-e1af-450a-91f5-ac27923ba35f",
   "metadata": {
    "id": "mb87Mb-wH5BH"
   },
   "source": [
    "## Multi-dimensional array with values already set\n",
    "\n",
    "We can also use these methods to produce multi-dimensional arrays, as long as we pass them a list or a tuple describing the dimensions of the matrix we want to create. Sometimes, we need an array of a specific shape with \"placeholder\" values that we plan to fill in with the result of a computation, the `zeros` or `ones` functions are handy for this. As for random matrices, they are useful, among other things, to test functions."
   ]
  },
  {
   "cell_type": "code",
   "execution_count": null,
   "id": "1035b70c-b975-4c6e-8a62-665e5ac13fca",
   "metadata": {
    "tags": []
   },
   "outputs": [],
   "source": [
    "print(\"np.ones((3, 2)):\\n\", np.ones((3, 2)))\n",
    "print(\"np.zeros((3, 2)):\\n\", np.zeros((3, 2)))\n",
    "print(\"np.random.random((3, 2)):\\n\", np.random.random((3, 2)))"
   ]
  },
  {
   "cell_type": "markdown",
   "id": "c19d9a91-d07b-4c68-9990-02799e112c9b",
   "metadata": {
    "id": "mb87Mb-wH5BH"
   },
   "source": [
    "![](files/numpy-matrix-ones-zeros-random.png)"
   ]
  },
  {
   "cell_type": "code",
   "execution_count": null,
   "id": "8f2fba75-a684-4d86-aa77-a8c3dd4661ee",
   "metadata": {
    "tags": []
   },
   "outputs": [],
   "source": [
    "print(\"np.ones((4, 3, 2)):\\n\", np.ones((4, 3, 2)))\n",
    "print(\"np.zeros((4, 3, 2)):\\n\", np.zeros((4, 3, 2)))\n",
    "print(\"np.random.random((4, 3, 2)):\\n\", np.random.random((4, 3, 2)))"
   ]
  },
  {
   "cell_type": "markdown",
   "id": "4a2d738e-a3ef-4150-82cb-c1b4795e2af1",
   "metadata": {
    "id": "mb87Mb-wH5BH"
   },
   "source": [
    "![](files/numpy-3d-array-creation.png)"
   ]
  },
  {
   "cell_type": "markdown",
   "id": "vygsyVpOH5BH",
   "metadata": {
    "id": "vygsyVpOH5BH"
   },
   "source": [
    "You can also create a matrix full with a constant, or an identity matrix."
   ]
  },
  {
   "cell_type": "code",
   "execution_count": null,
   "id": "6YQ3i8e2H5BH",
   "metadata": {
    "id": "6YQ3i8e2H5BH"
   },
   "outputs": [],
   "source": [
    "d = np.full((2,2), 7) # Create a constant array\n",
    "print(d)"
   ]
  },
  {
   "cell_type": "code",
   "execution_count": null,
   "id": "imf_de2HH5BH",
   "metadata": {
    "id": "imf_de2HH5BH"
   },
   "outputs": [],
   "source": [
    "e = np.eye(5) # Create a 5x5 identity matrix\n",
    "print(e)"
   ]
  },
  {
   "cell_type": "markdown",
   "id": "5ff09064-f2ad-450f-8c47-d2e6866f7734",
   "metadata": {},
   "source": [
    "## Exercice\n",
    "\n",
    "Create an array that looks like this:\n",
    "\n",
    "```python\n",
    "      [[[ 78,  87],\n",
    "        [ 17,  71]],\n",
    "\n",
    "       [[ 98,  89],\n",
    "        [ 92,  28]],\n",
    "\n",
    "       [[112, 211],\n",
    "        [ 45,  54]]]\n",
    "```\n"
   ]
  },
  {
   "cell_type": "code",
   "execution_count": null,
   "id": "92f6d4bc-e110-4cd9-8038-918e83a6c14e",
   "metadata": {},
   "outputs": [],
   "source": [
    "# Code here!\n",
    "\n"
   ]
  },
  {
   "cell_type": "markdown",
   "id": "1c00eb98-0d99-4dbc-8c74-2fd0a8f8553d",
   "metadata": {},
   "source": [
    "## Exercice\n",
    "\n",
    "Create an array that looks like this:\n",
    "\n",
    "```python\n",
    "[[[12 12 12 12 12]\n",
    "  [12 12 12 12 12]\n",
    "  [12 12 12 12 12]]\n",
    "\n",
    " [[12 12 12 12 12]\n",
    "  [12 12 12 12 12]\n",
    "  [12 12 12 12 12]]]\n",
    "```"
   ]
  },
  {
   "cell_type": "code",
   "execution_count": null,
   "id": "654d3284-1b2e-4cf7-95a4-d158d53f1b62",
   "metadata": {},
   "outputs": [],
   "source": [
    "# Code here!\n"
   ]
  },
  {
   "cell_type": "markdown",
   "id": "b4d0609b-4de2-4b98-8787-b91e41839eb2",
   "metadata": {},
   "source": [
    "## Exercice\n",
    "\n",
    "Create an array that looks like this. **Find a short way to generate it** (do not copy/paste or type all the data!).\n",
    "\n",
    "```python\n",
    "      [[10.,  9.,  9.,  9.,  9.,  9.,  9.,  9.,  9.,  9.,  9.,  9.,  9.],\n",
    "       [ 9., 10.,  9.,  9.,  9.,  9.,  9.,  9.,  9.,  9.,  9.,  9.,  9.],\n",
    "       [ 9.,  9., 10.,  9.,  9.,  9.,  9.,  9.,  9.,  9.,  9.,  9.,  9.],\n",
    "       [ 9.,  9.,  9., 10.,  9.,  9.,  9.,  9.,  9.,  9.,  9.,  9.,  9.],\n",
    "       [ 9.,  9.,  9.,  9., 10.,  9.,  9.,  9.,  9.,  9.,  9.,  9.,  9.],\n",
    "       [ 9.,  9.,  9.,  9.,  9., 10.,  9.,  9.,  9.,  9.,  9.,  9.,  9.],\n",
    "       [ 9.,  9.,  9.,  9.,  9.,  9., 10.,  9.,  9.,  9.,  9.,  9.,  9.],\n",
    "       [ 9.,  9.,  9.,  9.,  9.,  9.,  9., 10.,  9.,  9.,  9.,  9.,  9.],\n",
    "       [ 9.,  9.,  9.,  9.,  9.,  9.,  9.,  9., 10.,  9.,  9.,  9.,  9.],\n",
    "       [ 9.,  9.,  9.,  9.,  9.,  9.,  9.,  9.,  9., 10.,  9.,  9.,  9.],\n",
    "       [ 9.,  9.,  9.,  9.,  9.,  9.,  9.,  9.,  9.,  9., 10.,  9.,  9.],\n",
    "       [ 9.,  9.,  9.,  9.,  9.,  9.,  9.,  9.,  9.,  9.,  9., 10.,  9.],\n",
    "       [ 9.,  9.,  9.,  9.,  9.,  9.,  9.,  9.,  9.,  9.,  9.,  9., 10.]]\n",
    "```"
   ]
  },
  {
   "cell_type": "code",
   "execution_count": null,
   "id": "989f8521-240e-41af-b1e6-fcd5e1c6d9b0",
   "metadata": {},
   "outputs": [],
   "source": [
    "# Code here!\n"
   ]
  },
  {
   "cell_type": "markdown",
   "id": "b33fd130-112d-4454-b525-328d46b68c70",
   "metadata": {
    "tags": []
   },
   "source": [
    "## Exercice\n",
    "\n",
    "Create an array that looks like this. **Find a short way to generate it** (do not copy/paste or type all the data!).\n",
    "\n",
    "```python\n",
    "      [[[[99, 99, 99, 99, 99],\n",
    "         [99, 99, 99, 99, 99],\n",
    "         [99, 99, 99, 99, 99],\n",
    "         [99, 99, 99, 99, 99]],\n",
    "\n",
    "        [[99, 99, 99, 99, 99],\n",
    "         [99, 99, 99, 99, 99],\n",
    "         [99, 99, 99, 99, 99],\n",
    "         [99, 99, 99, 99, 99]],\n",
    "\n",
    "        [[99, 99, 99, 99, 99],\n",
    "         [99, 99, 99, 99, 99],\n",
    "         [99, 99, 99, 99, 99],\n",
    "         [99, 99, 99, 99, 99]]],\n",
    "\n",
    "\n",
    "       [[[99, 99, 99, 99, 99],\n",
    "         [99, 99, 99, 99, 99],\n",
    "         [99, 99, 99, 99, 99],\n",
    "         [99, 99, 99, 99, 99]],\n",
    "\n",
    "        [[99, 99, 99, 99, 99],\n",
    "         [99, 99, 99, 99, 99],\n",
    "         [99, 99, 99, 99, 99],\n",
    "         [99, 99, 99, 99, 99]],\n",
    "\n",
    "        [[99, 99, 99, 99, 99],\n",
    "         [99, 99, 99, 99, 99],\n",
    "         [99, 99, 99, 99, 99],\n",
    "         [99, 99, 99, 99, 99]]]]\n",
    "```"
   ]
  },
  {
   "cell_type": "code",
   "execution_count": null,
   "id": "de29bb77-3ec0-41eb-a31d-0a24f3607e20",
   "metadata": {
    "tags": []
   },
   "outputs": [],
   "source": [
    "# Code here!\n"
   ]
  },
  {
   "cell_type": "markdown",
   "id": "dhIP5e8nH5BI",
   "metadata": {
    "id": "dhIP5e8nH5BI"
   },
   "source": [
    "## Creating sequences of numbers\n"
   ]
  },
  {
   "cell_type": "markdown",
   "id": "b58e52b6-efb8-4504-a231-8f2bec06b004",
   "metadata": {},
   "source": [
    "Numpy also has two useful functions for creating sequences of numbers: `arange()` and `linspace()`.\n",
    "\n",
    "- The `arange()` function accepts three arguments, which define the start value, stop value of a half-open interval, and step size. (The default step size, if not explicitly specified, is 1; the default start value, if not explicitly specified, is 0.)"
   ]
  },
  {
   "cell_type": "code",
   "execution_count": null,
   "id": "69H2tCkbH5BI",
   "metadata": {
    "id": "69H2tCkbH5BI"
   },
   "outputs": [],
   "source": [
    "f = np.arange(10,50,5) # Create an array of values starting at 10 in increments of 5\n",
    "print(f)"
   ]
  },
  {
   "cell_type": "markdown",
   "id": "GPt2LnT8H5BI",
   "metadata": {
    "id": "GPt2LnT8H5BI"
   },
   "source": [
    "Note this ends on 45, not 50 (does not include the top end of the interval)."
   ]
  },
  {
   "cell_type": "markdown",
   "id": "30d053c1-c96c-429b-a2ba-eaad2ebec2dc",
   "metadata": {},
   "source": [
    "- The `linspace()` function is similar, but we can specify the number of values instead of the step size, and it will create a sequence of evenly spaced values."
   ]
  },
  {
   "cell_type": "code",
   "execution_count": null,
   "id": "27WxZQQcH5BI",
   "metadata": {
    "id": "27WxZQQcH5BI"
   },
   "outputs": [],
   "source": [
    "g = np.linspace(0, 1, num=5)\n",
    "print(g)"
   ]
  },
  {
   "cell_type": "markdown",
   "id": "2b22ac48-5620-47ab-b42d-068809a79a2e",
   "metadata": {},
   "source": [
    "# Exercise\n",
    "\n",
    "Use `np.arange()` to create this array:\n",
    "\n",
    "```python\n",
    "[104, 121, 138, 155, 172, 189, 206]\n",
    "```"
   ]
  },
  {
   "cell_type": "code",
   "execution_count": null,
   "id": "eedbc9f7-b86b-4ec6-adda-cd0fe427bb99",
   "metadata": {
    "tags": []
   },
   "outputs": [],
   "source": [
    "# Code here!\n"
   ]
  },
  {
   "cell_type": "code",
   "execution_count": null,
   "id": "b9ad7adb-9fc8-4610-abdb-7ea430aa85f0",
   "metadata": {},
   "outputs": [],
   "source": []
  },
  {
   "cell_type": "markdown",
   "id": "ebd5def2-fddc-4ed5-ab21-352c70adefb4",
   "metadata": {},
   "source": [
    "# Exercise\n",
    "\n",
    "Use `np.linspace()` to create this array:\n",
    "\n",
    "```python\n",
    "[112.  , 112.75, 113.5 , 114.25, 115.  , 115.75, 116.5 , 117.25,\n",
    "       118.  ]\n",
    "```"
   ]
  },
  {
   "cell_type": "code",
   "execution_count": null,
   "id": "af878256-b9ea-4071-ba1d-40b75972ecec",
   "metadata": {
    "tags": []
   },
   "outputs": [],
   "source": [
    "# Code here!\n"
   ]
  },
  {
   "cell_type": "markdown",
   "id": "K3layg0qH5BI",
   "metadata": {
    "id": "K3layg0qH5BI"
   },
   "source": [
    "### Stacking arrays\n",
    "\n",
    "Sometimes, we may want to construct an array from existing arrays by “stacking” the existing arrays, either vertically or horizontally. We can use `vstack()` (or `row_stack()`) and `hstack()` (or `column_stack()`), respectively."
   ]
  },
  {
   "cell_type": "code",
   "execution_count": null,
   "id": "WzaFOjl-H5BI",
   "metadata": {
    "id": "WzaFOjl-H5BI"
   },
   "outputs": [],
   "source": [
    "a = np.array([1, 2, 3])\n",
    "b = np.array([4, 5, 6])\n",
    "np.vstack((a,b))"
   ]
  },
  {
   "cell_type": "code",
   "execution_count": null,
   "id": "qgMwySFoH5BI",
   "metadata": {
    "id": "qgMwySFoH5BI"
   },
   "outputs": [],
   "source": [
    "a = np.array([[7], [8], [9]])\n",
    "b = np.array([[4], [5], [6]])\n",
    "np.hstack((a,b))"
   ]
  },
  {
   "cell_type": "markdown",
   "id": "2cef7be6-1730-41ee-8afc-32b977d3274f",
   "metadata": {
    "id": "4GK3GstSH5BI"
   },
   "source": [
    "### Array indexing\n",
    "\n",
    "Numpy offers several ways to index into arrays.\n",
    "\n",
    "We can index and slice numpy arrays in all the ways we can slice Python lists:"
   ]
  },
  {
   "cell_type": "code",
   "execution_count": null,
   "id": "18550f6b-96ae-46bb-ae75-9e807207eef3",
   "metadata": {
    "tags": []
   },
   "outputs": [],
   "source": [
    "data = np.array([1, 2, 3])\n",
    "print(data)\n",
    "print(data[0])\n",
    "print(data[1])\n",
    "print(data[0:2])\n",
    "print(data[1:])"
   ]
  },
  {
   "cell_type": "markdown",
   "id": "cefb50f8-b6bf-4b44-b6e3-38f65c3c36a0",
   "metadata": {
    "id": "4GK3GstSH5BI"
   },
   "source": [
    "![](files/numpy-array-slice.png)\n",
    "\n",
    "And you can index and slice numpy arrays in multiple dimensions. If slicing an array with more than one dimension, you should specify a slice for each dimension:"
   ]
  },
  {
   "cell_type": "code",
   "execution_count": null,
   "id": "01509297-a9ca-4cdc-9f3a-7815f9fc02e5",
   "metadata": {
    "tags": []
   },
   "outputs": [],
   "source": [
    "sep = \"\\n------------\"\n",
    "data = np.array([[1, 2], [3, 4], [5, 6]])\n",
    "print(\"data \\n\", data, sep)\n",
    "print(\"data[0, 1] \\n\", data[0,1], sep)\n",
    "print(\"data[1:3] \\n\", data[1:3], sep)\n",
    "print(\"data[1:3] \\n\", data[0:2,0], sep)"
   ]
  },
  {
   "cell_type": "markdown",
   "id": "703bab4a-dbc8-4467-b4ce-1bb57e2aeac8",
   "metadata": {
    "id": "4GK3GstSH5BI"
   },
   "source": [
    "![](files/numpy-matrix-indexing.png)"
   ]
  },
  {
   "cell_type": "code",
   "execution_count": null,
   "id": "x190RUvIH5BI",
   "metadata": {
    "id": "x190RUvIH5BI"
   },
   "outputs": [],
   "source": [
    "sep = \"\\n--------------\"\n",
    "a = np.array([[1,2,3,4], [5,6,7,8], [9,10,11,12]])\n",
    "print(\"a: \\n\", a, sep)\n",
    "# Use slicing to pull out the subarray consisting of the first 2 rows\n",
    "# and columns 1 and 2\n",
    "b = a[:2, 1:3]\n",
    "print(\"b : \\n\", b)"
   ]
  },
  {
   "cell_type": "markdown",
   "id": "204nHuB4H5BI",
   "metadata": {
    "id": "204nHuB4H5BI"
   },
   "source": [
    "A slice of an array is a view into the same data, so modifying it will modify the original array."
   ]
  },
  {
   "cell_type": "code",
   "execution_count": null,
   "id": "DOUCzcReH5BI",
   "metadata": {
    "id": "DOUCzcReH5BI"
   },
   "outputs": [],
   "source": [
    "sep = \"\\n-------------------\"\n",
    "a = np.array([[1,2,3,4], [5,6,7,8], [9,10,11,12]])\n",
    "print(\"a: \\n\", a, sep)\n",
    "b = a[:2, 1:3]\n",
    "print(\"b: \\n\", b, sep)\n",
    "print(\"Let's set the value of b [0, 0] to 1337\", sep)\n",
    "b[0, 0] = 1337 # b[0, 0] is the same piece of data as a[0, 1]\n",
    "print(\"b: \\n\", b, sep)\n",
    "print(\"a: \\n\", a, sep)"
   ]
  },
  {
   "cell_type": "markdown",
   "id": "6f898b58-bd15-4b0d-9559-0b61a8a74cd3",
   "metadata": {
    "tags": []
   },
   "source": [
    "# Exercice\n",
    "\n",
    "Slice the \"z\" array array so it outputs:\n",
    "```python\n",
    "[[ 7, 11],\n",
    " [19, 23]]\n",
    "```"
   ]
  },
  {
   "cell_type": "code",
   "execution_count": null,
   "id": "e7ef9744-561b-438e-a0a0-c257349d3b97",
   "metadata": {
    "tags": []
   },
   "outputs": [],
   "source": [
    "z = np.array([[[1,2,3,4], [5,6,7,8], [9,10,11,12]], [[13,14,15,16], [17,18,19,20], [21,22,23,24]]])\n",
    "print(\"z array: \\n\", z)\n",
    "# Code here\n",
    "\n"
   ]
  },
  {
   "cell_type": "code",
   "execution_count": null,
   "id": "80bf66a6-f5bf-4653-b0ca-55edadbbad2d",
   "metadata": {
    "tags": []
   },
   "outputs": [],
   "source": [
    "# Solution\n",
    "\n",
    "z = np.array([[[1,2,3,4], [5,6,7,8], [9,10,11,12]], [[13,14,15,16], [17,18,19,20], [21,22,23,24]]])\n",
    "z[:, 1:3, 2]"
   ]
  },
  {
   "cell_type": "markdown",
   "id": "8coZMMl7H5BI",
   "metadata": {
    "id": "8coZMMl7H5BI"
   },
   "source": [
    "### Mixing integer indexing and slice indexing\n",
    "\n",
    "You can also mix integer indexing with slice indexing. However, doing so will yield an array of lower rank than the original array. There are two ways of accessing the data in the middle row of the array. Mixing integer indexing with slices yields an array of lower rank, while using only slices yields an array of the same rank as the original array:"
   ]
  },
  {
   "cell_type": "code",
   "execution_count": null,
   "id": "s28eRaR-H5BI",
   "metadata": {
    "id": "s28eRaR-H5BI"
   },
   "outputs": [],
   "source": [
    "sep = \"\\n-------------------\"\n",
    "a = np.array([[1,2,3,4], [5,6,7,8], [9,10,11,12]])\n",
    "print(a, sep)\n",
    "\n",
    "row_r1 = a[1, :]    # Rank 1 view of the second row of a  \n",
    "row_r2 = a[1:2, :]  # Rank 2 view of the second row of a\n",
    "print(row_r1, \"  shape:\", row_r1.shape)\n",
    "print(row_r2, \"shape:\", row_r2.shape)"
   ]
  },
  {
   "cell_type": "code",
   "execution_count": null,
   "id": "Rg-PGWJOH5BI",
   "metadata": {
    "id": "Rg-PGWJOH5BI"
   },
   "outputs": [],
   "source": [
    "sep = \"\\n-------------------\"\n",
    "a = np.array([[1,2,3,4], [5,6,7,8], [9,10,11,12]])\n",
    "print(a, sep)\n",
    "\n",
    "# We can make the same distinction when accessing columns of an array:\n",
    "col_r1 = a[:, 1]\n",
    "col_r2 = a[:, 1:2]\n",
    "print(\"shape:\", col_r1.shape)\n",
    "print(col_r1, sep)\n",
    "print(\"shape:\", col_r2.shape)\n",
    "print(col_r2, sep)"
   ]
  },
  {
   "cell_type": "markdown",
   "id": "c7ogfl1_H5BI",
   "metadata": {
    "id": "c7ogfl1_H5BI"
   },
   "source": [
    "### Slice array indexing and integer array indexing\n",
    "\n",
    "When you index into numpy arrays using slicing, the resulting array view will always be a subarray of the original array. In contrast, integer array indexing allows you to construct arbitrary arrays using the data from another array. Here is an example:"
   ]
  },
  {
   "cell_type": "markdown",
   "id": "091057fa-27fe-4a4b-bb4c-63e6a3210865",
   "metadata": {
    "tags": []
   },
   "source": [
    "#### Integer array indexing"
   ]
  },
  {
   "cell_type": "code",
   "execution_count": null,
   "id": "e74d01ec-6cbd-4c8c-b778-30122adef708",
   "metadata": {
    "tags": []
   },
   "outputs": [],
   "source": [
    "sep = \"\\n-------------------\"\n",
    "a = np.array([[1,2,3,4], [5,6,7,8], [9,10,11,12]])\n",
    "print(a, sep)\n",
    "\n",
    "a[[0, 1, 2]] # Let's create an array with the rows order"
   ]
  },
  {
   "cell_type": "code",
   "execution_count": null,
   "id": "5d0fe17c-a115-4c2a-a568-003154a79dc7",
   "metadata": {
    "tags": []
   },
   "outputs": [],
   "source": [
    "sep = \"\\n-------------------\"\n",
    "a = np.array([[1,2,3,4], [5,6,7,8], [9,10,11,12]])\n",
    "print(a, sep)\n",
    "\n",
    "a[[1, 0, 2]] # Let's swap rows"
   ]
  },
  {
   "cell_type": "code",
   "execution_count": null,
   "id": "996dc06b-ef82-4f7e-a4c4-cfa6da5205c4",
   "metadata": {
    "tags": []
   },
   "outputs": [],
   "source": [
    "sep = \"\\n-------------------\"\n",
    "a = np.array([[1,2,3,4], [5,6,7,8], [9,10,11,12]])\n",
    "print(a, sep)\n",
    "\n",
    "a[[1, 0, 2], [3, 1, 0]] # Let's select some numbers inside the others dimensions."
   ]
  },
  {
   "cell_type": "code",
   "execution_count": null,
   "id": "5c874a76-10dd-45f3-9af1-c004538bd8a5",
   "metadata": {
    "tags": []
   },
   "outputs": [],
   "source": [
    "# An other example\n",
    "\n",
    "sep = \"\\n-------------------\"\n",
    "a = np.array([[1,2,3,4], [5,6,7,8], [9,10,11,12]])\n",
    "print(\"a:\\n\", a, sep)\n",
    "\n",
    "# An example of integer array indexing (creates a new array)\n",
    "b = a[[0, 1, 2], [0, 1, 0]]\n",
    "print(\"b:\\n\", b, sep)"
   ]
  },
  {
   "cell_type": "code",
   "execution_count": null,
   "id": "406fcad8-3ff5-41ac-a95b-6ee39a098b3b",
   "metadata": {
    "tags": []
   },
   "outputs": [],
   "source": [
    "# Using that syntax above is equivalent to the following one (creates a new array)\n",
    "c = np.array([a[0, 0], a[1, 1], a[2, 0]])\n",
    "print(\"c:\\n\", c, sep)\n",
    "\n",
    "print(\"Let's modify b and c\")\n",
    "b[0] = 789\n",
    "c[0] = 456\n",
    "\n",
    "print(\"b:\\n\", b, sep)\n",
    "print(\"c:\\n\", c, sep)\n",
    "\n",
    "print(\"a:\\n\", a, sep) # a has not been modified"
   ]
  },
  {
   "cell_type": "code",
   "execution_count": null,
   "id": "pmlOhFU4H5BI",
   "metadata": {
    "id": "pmlOhFU4H5BI"
   },
   "outputs": [],
   "source": [
    "# When using integer array indexing, you can reuse the same\n",
    "# element from the source array:\n",
    "sep = \"\\n-------------------\"\n",
    "a = np.array([[1,2,3,4], [5,6,7,8], [9,10,11,12]])\n",
    "print(a, sep)\n",
    "\n",
    "print(a[[0, 0], [1, 1]])\n",
    "\n",
    "# Equivalent to the previous integer array indexing example\n",
    "print(np.array([a[0, 1], a[0, 1]]))"
   ]
  },
  {
   "cell_type": "markdown",
   "id": "kNdalCbRH5BJ",
   "metadata": {
    "id": "kNdalCbRH5BJ"
   },
   "source": [
    "One useful trick with integer array indexing is selecting or mutating one element from each row of a matrix:"
   ]
  },
  {
   "cell_type": "code",
   "execution_count": null,
   "id": "uaOPDIfeH5BJ",
   "metadata": {
    "id": "uaOPDIfeH5BJ"
   },
   "outputs": [],
   "source": [
    "# Create a new array from which we will select elements\n",
    "sep = \"\\n-------------------\"\n",
    "a = np.array([[1,2,3,4], [5,6,7,8], [9,10,11,12]])\n",
    "print(\"a:\\n\", a, sep)\n",
    "\n",
    "# Create an array of indices\n",
    "\n",
    "b = np.arange(3) # [0 1 2]\n",
    "\n",
    "print(\"b:\\n\", b, sep)\n",
    "\n",
    "c = np.array([0, 2, 0])\n",
    "print(\"c:\\n\", c, sep)\n",
    "\n",
    "# Select one element from each row of a using the indices in b\n",
    "#c = a[np.arange(3), b]\n",
    "print(a[b, c])\n",
    "\n",
    "# Mutate one element from each row of a using the indices in b\n",
    "a[b, c] += 100\n",
    "print(\"a:\\n\", a, sep)"
   ]
  },
  {
   "cell_type": "markdown",
   "id": "Rwxmbku7H5BJ",
   "metadata": {
    "id": "Rwxmbku7H5BJ"
   },
   "source": [
    "### Boolean array indexing\n",
    "\n",
    "Boolean array indexing lets you pick out arbitrary elements of an array. Frequently this type of indexing is used to select the elements of an array that satisfy some condition. Here is an example:"
   ]
  },
  {
   "cell_type": "code",
   "execution_count": null,
   "id": "fe898427-1a39-469d-a1d5-df9a446c9fda",
   "metadata": {
    "id": "lDbA30JQH5BJ"
   },
   "outputs": [],
   "source": [
    "sep = \"\\n-------------------\"\n",
    "a = np.array([[1,2], [3, 4], [5, 6]])\n",
    "\n",
    "# Find the elements of a that are bigger than 2;\n",
    "# this returns a numpy array of Booleans of the same\n",
    "# shape as a, where each slot of bool_idx tells\n",
    "# whether that element of a is > 2.\n",
    "\n",
    "print(a > 2, sep)\n",
    "\n",
    "print(a[a > 2], sep)"
   ]
  },
  {
   "cell_type": "markdown",
   "id": "zFOAYVCdH5BJ",
   "metadata": {
    "id": "zFOAYVCdH5BJ"
   },
   "source": [
    "When working with numpy arrays, it’s often helpful to get the indices (not only the values) of array elements that meet certain conditions. There are a few numpy functions that you’ll definitely want to remember:\n",
    "\n",
    "-   [`argmax`](https://numpy.org/doc/stable/reference/generated/numpy.argmax.html) (get index of maximum element in array)\n",
    "-   [`argmin`](https://numpy.org/doc/stable/reference/generated/numpy.argmin.html) (get index of minimum element in array)\n",
    "-   [`argsort`](https://numpy.org/doc/stable/reference/generated/numpy.argsort.html) (get sorted list of indices, by element value, in ascending order)\n",
    "-   [`where`](https://numpy.org/doc/stable/reference/generated/numpy.where.html) (get indices of elements that meet some condition)"
   ]
  },
  {
   "cell_type": "code",
   "execution_count": null,
   "id": "FtSzOFZBH5BJ",
   "metadata": {
    "id": "FtSzOFZBH5BJ"
   },
   "outputs": [],
   "source": [
    "sep = \"\\n-------------------\"\n",
    "a = np.array([1, 8, 9, -3, 2, 4, 7, 9])\n",
    "\n",
    "print(\"a:\\n\", a, sep)\n",
    "\n",
    "# Get the index of the maximum element in a\n",
    "# (this array has two elements with the maximum value but \n",
    "# only one index is returned)\n",
    "print(\"np.argmax(a) ->\", np.argmax(a), sep)\n",
    "\n",
    "# Get the index of the minimum element in a\n",
    "print(\"np.argmin(a)->\", np.argmin(a), sep)\n",
    "\n",
    "# Get sorted list of indices in ascending order\n",
    "print(\"np.argsort(a) ->\", np.argsort(a), sep)\n",
    "\n",
    "# Get sorted list of indices in descending order\n",
    "# [::-1] is a special slicing index that returns the reversed list\n",
    "print(\"np.argsort(a)[::-1] ->\", np.argsort(a)[::-1], sep)\n",
    "\n",
    "# Get indices of elements that meet some condition\n",
    "# this returns a tuple, the list of indices is the first entry\n",
    "# so we use [0] to get it\n",
    "print(\"np.where(a > 5) ->\", np.where(a > 5), sep)\n",
    "print(\"np.where(a > 5)[0] ->\", np.where(a > 5)[0], sep)\n",
    "\n",
    "# Get indices of elements that meet some condition\n",
    "# this example shows how to get the index of *all* the max values\n",
    "print(np.where(a >= a[np.argmax(a)])[0])"
   ]
  },
  {
   "cell_type": "markdown",
   "id": "_8Vbz1s4H5BJ",
   "metadata": {
    "id": "_8Vbz1s4H5BJ"
   },
   "source": [
    "For brevity we have left out a lot of details about numpy array indexing; if you want to know more you should read the documentation."
   ]
  },
  {
   "cell_type": "markdown",
   "id": "R_c4pnQsH5BJ",
   "metadata": {
    "id": "R_c4pnQsH5BJ"
   },
   "source": [
    "### Datatypes"
   ]
  },
  {
   "cell_type": "markdown",
   "id": "31w3H--vH5BJ",
   "metadata": {
    "id": "31w3H--vH5BJ"
   },
   "source": [
    "Every numpy array is a grid of elements of the same type. Numpy provides a large set of numeric datatypes that you can use to construct arrays. Numpy tries to guess a datatype when you create an array, but functions that construct arrays usually also include an optional argument to explicitly specify the datatype. Here is an example:"
   ]
  },
  {
   "cell_type": "code",
   "execution_count": null,
   "id": "hSestH7UH5BJ",
   "metadata": {
    "id": "hSestH7UH5BJ"
   },
   "outputs": [],
   "source": [
    "x = np.array([1, 2])  # Let numpy choose the datatype\n",
    "y = np.array([1.0, 2.0])  # Let numpy choose the datatype\n",
    "z = np.array([1, 2], dtype=np.int64)  # Force a particular datatype\n",
    "\n",
    "print(x.dtype, y.dtype, z.dtype)"
   ]
  },
  {
   "cell_type": "markdown",
   "id": "d9d1ea2d-3a8f-4813-adeb-f89357bac92c",
   "metadata": {},
   "source": [
    "You can also cast an array to a different datatype using the function `astype()`."
   ]
  },
  {
   "cell_type": "code",
   "execution_count": null,
   "id": "32b21433-afd4-4d5a-be78-ce0a6e1249ea",
   "metadata": {
    "tags": []
   },
   "outputs": [],
   "source": [
    "x = np.array([1, 2])\n",
    "print(x)\n",
    "x = x.astype(np.float64)\n",
    "print(x)"
   ]
  },
  {
   "cell_type": "markdown",
   "id": "AmAKRqzEH5BJ",
   "metadata": {
    "id": "AmAKRqzEH5BJ"
   },
   "source": [
    "You can read all about numpy datatypes in the [documentation](http://docs.scipy.org/doc/numpy/reference/arrays.dtypes.html)."
   ]
  },
  {
   "cell_type": "markdown",
   "id": "JvojIvQPH5BJ",
   "metadata": {
    "id": "JvojIvQPH5BJ"
   },
   "source": [
    "### Array math"
   ]
  },
  {
   "cell_type": "markdown",
   "id": "usVwEF24H5BJ",
   "metadata": {
    "id": "usVwEF24H5BJ"
   },
   "source": [
    "What makes working with `numpy` so powerful and convenient is that it comes with many *vectorized* math functions for computation over elements of an array. These functions are highly optimized and are *very* fast - much, much faster than using an explicit `for` loop.\n",
    "\n",
    "For example, let’s create a large array of random values and then sum it both ways. We’ll use a `%%time` *cell magic* to time them."
   ]
  },
  {
   "cell_type": "code",
   "execution_count": null,
   "id": "i6-NzqY0H5BJ",
   "metadata": {
    "id": "i6-NzqY0H5BJ"
   },
   "outputs": [],
   "source": [
    "a = np.random.random(100_000_000)"
   ]
  },
  {
   "cell_type": "code",
   "execution_count": null,
   "id": "eJ9tCm6fH5BJ",
   "metadata": {
    "id": "eJ9tCm6fH5BJ"
   },
   "outputs": [],
   "source": [
    "%%time\n",
    "x = np.sum(a)\n",
    "print(x)"
   ]
  },
  {
   "cell_type": "code",
   "execution_count": null,
   "id": "Iv82p_FFH5BJ",
   "metadata": {
    "id": "Iv82p_FFH5BJ"
   },
   "outputs": [],
   "source": [
    "%%time\n",
    "x = 0 \n",
    "for element in a:\n",
    "    x = x + element\n",
    "print(x)"
   ]
  },
  {
   "cell_type": "markdown",
   "id": "eju_m5DIH5BK",
   "metadata": {
    "id": "eju_m5DIH5BK"
   },
   "source": [
    "Look at the “Wall Time” in the output - note how much faster the vectorized version of the operation is! This type of fast computation is a major enabler of machine learning, which requires a *lot* of computation.\n",
    "\n",
    "Whenever possible, we will try to use these vectorized operations."
   ]
  },
  {
   "cell_type": "markdown",
   "id": "aOTOWpXbH5BK",
   "metadata": {
    "id": "aOTOWpXbH5BK"
   },
   "source": [
    "Some mathematic functions are available both as operator overloads and as functions in the numpy module."
   ]
  },
  {
   "cell_type": "markdown",
   "id": "2lFs5IUKH5BK",
   "metadata": {
    "id": "2lFs5IUKH5BK"
   },
   "source": [
    "For example, you can perform an elementwise sum on two arrays using either the + operator or the `add()` function.\n",
    "\n",
    "![](files/numpy-arrays-adding-1.png)\n",
    "\n",
    "![](files/numpy-matrix-arithmetic.png)"
   ]
  },
  {
   "cell_type": "code",
   "execution_count": null,
   "id": "JlwUASy3H5BK",
   "metadata": {
    "id": "JlwUASy3H5BK"
   },
   "outputs": [],
   "source": [
    "x = np.array([[1,2],[3,4]], dtype=np.float64)\n",
    "y = np.array([[5,6],[7,8]], dtype=np.float64)\n",
    "\n",
    "# Elementwise sum; both produce the array\n",
    "print(x + y)\n",
    "print(np.add(x, y))"
   ]
  },
  {
   "cell_type": "markdown",
   "id": "Pg0dCIAbH5BK",
   "metadata": {
    "id": "Pg0dCIAbH5BK"
   },
   "source": [
    "And this works for other operations as well, not only addition:\n",
    "\n",
    "![](files/numpy-array-subtract-multiply-divide.png)"
   ]
  },
  {
   "cell_type": "code",
   "execution_count": null,
   "id": "ge8QiIdAH5BK",
   "metadata": {
    "id": "ge8QiIdAH5BK"
   },
   "outputs": [],
   "source": [
    "# Elementwise difference; both produce the array\n",
    "print(x - y)\n",
    "print(np.subtract(x, y))"
   ]
  },
  {
   "cell_type": "code",
   "execution_count": null,
   "id": "upz2OgfsH5BK",
   "metadata": {
    "id": "upz2OgfsH5BK"
   },
   "outputs": [],
   "source": [
    "# Elementwise product; both produce the array\n",
    "print(x * y)\n",
    "print(np.multiply(x, y))"
   ]
  },
  {
   "cell_type": "code",
   "execution_count": null,
   "id": "m1C0sajWH5BK",
   "metadata": {
    "id": "m1C0sajWH5BK"
   },
   "outputs": [],
   "source": [
    "# Elementwise division; both produce the array\n",
    "# [[ 0.2         0.33333333]\n",
    "#  [ 0.42857143  0.5       ]]\n",
    "print(x / y)\n",
    "print(np.divide(x, y))"
   ]
  },
  {
   "cell_type": "code",
   "execution_count": null,
   "id": "yhT7vipjH5BK",
   "metadata": {
    "id": "yhT7vipjH5BK"
   },
   "outputs": [],
   "source": [
    "# Elementwise square root; produces the array\n",
    "# [[ 1.          1.41421356]\n",
    "#  [ 1.73205081  2.        ]]\n",
    "print(np.sqrt(x))"
   ]
  },
  {
   "cell_type": "markdown",
   "id": "fUB0G4mHH5BK",
   "metadata": {
    "id": "fUB0G4mHH5BK"
   },
   "source": [
    "The operator `*` is elementwise multiplication, not matrix multiplication. We instead use the `dot()` function to compute inner products of vectors, to multiply a vector by a matrix, and to multiply matrices. `dot()` is available both as a function in the numpy module and as an instance method of array objects. We can also use the \"@\" operator that does the same thing.\n",
    "\n",
    "![](files/numpy-matrix-dot-product-1.png)"
   ]
  },
  {
   "cell_type": "code",
   "execution_count": null,
   "id": "6fe6edad-3af1-453b-b55e-0d04c6d7aad5",
   "metadata": {
    "tags": []
   },
   "outputs": [],
   "source": [
    "a = np.array([1, 2, 3])\n",
    "b = np.array([[1, 10], [100, 1_000], [10_000, 100_000]])\n",
    "print(a.dot(b))\n",
    "print(a @ b)\n",
    "# print(a * b) will yield an error"
   ]
  },
  {
   "cell_type": "code",
   "execution_count": null,
   "id": "XkeIP5ZuH5BK",
   "metadata": {
    "id": "XkeIP5ZuH5BK"
   },
   "outputs": [],
   "source": [
    "v = np.array([9, 10])\n",
    "w = np.array([11, 12])\n",
    "\n",
    "# Inner product of vectors; produce 219\n",
    "print(v.dot(w)) # Method 1\n",
    "print(v @ w) # Method 2\n",
    "print(np.dot(v, w)) # Method 3"
   ]
  },
  {
   "cell_type": "code",
   "execution_count": null,
   "id": "HVnXlSRyH5BK",
   "metadata": {
    "id": "HVnXlSRyH5BK"
   },
   "outputs": [],
   "source": [
    "x = np.array([[1,2],[3,4]])\n",
    "y = np.array([[5,6],[7,8]])\n",
    "\n",
    "v = np.array([9, 10])\n",
    "w = np.array([11, 12])\n",
    "\n",
    "# Matrix / vector product; both produce the rank 1 array\n",
    "print(x.dot(v)) # Method 1\n",
    "print(np.dot(x, v)) # Method 2\n",
    "print(x @ v) # Method 3"
   ]
  },
  {
   "cell_type": "code",
   "execution_count": null,
   "id": "v70IhvobH5BK",
   "metadata": {
    "id": "v70IhvobH5BK"
   },
   "outputs": [],
   "source": [
    "x = np.array([[1,2],[3,4]])\n",
    "y = np.array([[5,6],[7,8]])\n",
    "\n",
    "v = np.array([9, 10])\n",
    "w = np.array([11, 12])\n",
    "\n",
    "# Matrix / matrix product; both produce the rank 2 array\n",
    "\n",
    "print(x.dot(y)) # Method 1\n",
    "print(np.dot(x, y)) # Method 2\n",
    "print(x @ y) # Method 3"
   ]
  },
  {
   "cell_type": "markdown",
   "id": "fJOikpQRH5BK",
   "metadata": {
    "id": "fJOikpQRH5BK"
   },
   "source": [
    "Besides for the functions that overload operators, Numpy also provides many useful functions for performing computations on arrays, such as `min()`, `max()`, `sum()`, and others:\n",
    "\n",
    "![](files/numpy-matrix-aggregation-1.png)"
   ]
  },
  {
   "cell_type": "code",
   "execution_count": null,
   "id": "F5Z6rcNoH5BK",
   "metadata": {
    "id": "F5Z6rcNoH5BK"
   },
   "outputs": [],
   "source": [
    "x = np.array([[1, 2], [3, 4], [5, 6]])\n",
    "\n",
    "print(np.max(x))\n",
    "print(np.min(x))\n",
    "print(np.sum(x))"
   ]
  },
  {
   "cell_type": "markdown",
   "id": "XeMUynPaH5BK",
   "metadata": {
    "id": "XeMUynPaH5BK"
   },
   "source": [
    "Not only can we aggregate all the values in a matrix using these functions, but we can also aggregate across the rows or columns by using the `axis` parameter:\n",
    "\n",
    "![](files/numpy-matrix-aggregation-4.png)"
   ]
  },
  {
   "cell_type": "code",
   "execution_count": null,
   "id": "-z_xNQVkH5BK",
   "metadata": {
    "id": "-z_xNQVkH5BK"
   },
   "outputs": [],
   "source": [
    "x = np.array([[1, 2], [5, 3], [4, 6]])\n",
    "\n",
    "print(np.max(x, axis=0))  # Compute max of each column; prints \"[5 6]\"\n",
    "print(np.max(x, axis=1))  # Compute max of each row; prints \"[2 5 6]\""
   ]
  },
  {
   "cell_type": "markdown",
   "id": "R59LHO01H5BK",
   "metadata": {
    "id": "R59LHO01H5BK"
   },
   "source": [
    "You can find the full list of mathematical functions provided by numpy in the [documentation](http://docs.scipy.org/doc/numpy/reference/routines.math.html)."
   ]
  },
  {
   "cell_type": "markdown",
   "id": "xPxpe_SsH5BK",
   "metadata": {
    "id": "xPxpe_SsH5BK"
   },
   "source": [
    "### Reshaping and transposing arrays\n",
    "\n",
    "Apart from computing mathematical functions using arrays, we frequently need to reshape or otherwise manipulate data in arrays. The simplest example of this type of operation is transposing a matrix; to transpose a matrix, simply use the T attribute of an array object.\n",
    "\n",
    "![](files/numpy-transpose.png)"
   ]
  },
  {
   "cell_type": "code",
   "execution_count": null,
   "id": "yGEjanW5H5BM",
   "metadata": {
    "id": "yGEjanW5H5BM"
   },
   "outputs": [],
   "source": [
    "x = np.array([[1, 2], [3, 4], [5, 6]])\n",
    "\n",
    "print(x)\n",
    "print(\"transpose\\n\", x.T)"
   ]
  },
  {
   "cell_type": "code",
   "execution_count": null,
   "id": "Jva_zZkgH5BM",
   "metadata": {
    "id": "Jva_zZkgH5BM"
   },
   "outputs": [],
   "source": [
    "v = np.array([[1,2,3]])\n",
    "print(v)\n",
    "print(\"transpose\\n\", v.T)"
   ]
  },
  {
   "cell_type": "markdown",
   "id": "AD6LSLCSH5BM",
   "metadata": {
    "id": "AD6LSLCSH5BM"
   },
   "source": [
    "In more advanced use case, you may find yourself needing to change the dimensions of a certain matrix. This is often the case in machine learning applications where a certain model expects a certain shape for the inputs that is different from your dataset. numpy's `reshape()` method is useful in these cases.\n",
    "\n",
    "![](files/numpy-reshape.png)"
   ]
  },
  {
   "cell_type": "markdown",
   "id": "XR9j6GfFH5BM",
   "metadata": {
    "id": "XR9j6GfFH5BM"
   },
   "source": [
    "A common task in this class will be to convert a 1D array to a 2D array, and vice versa. We can use `reshape()` for this.\n",
    "For example, suppose we had this 2D array, but we need to pass it to a function that expects a 1D array."
   ]
  },
  {
   "cell_type": "code",
   "execution_count": null,
   "id": "mB2zJJsnH5BM",
   "metadata": {
    "id": "mB2zJJsnH5BM"
   },
   "outputs": [],
   "source": [
    "w = np.array([[1],[2],[3]])\n",
    "print(w)\n",
    "w.shape"
   ]
  },
  {
   "cell_type": "markdown",
   "id": "lRbUg2ziH5BM",
   "metadata": {
    "id": "lRbUg2ziH5BM"
   },
   "source": [
    "We can remove the “unnecessary” extra dimension with"
   ]
  },
  {
   "cell_type": "code",
   "execution_count": null,
   "id": "850Qbk0kH5BM",
   "metadata": {
    "id": "850Qbk0kH5BM"
   },
   "outputs": [],
   "source": [
    "y = w.reshape(-1,)\n",
    "print(y)\n",
    "y.shape"
   ]
  },
  {
   "cell_type": "markdown",
   "id": "JhU301ocH5BM",
   "metadata": {
    "id": "JhU301ocH5BM"
   },
   "source": [
    "Note that we can pass -1 as one dimension and numpy will infer the correct size based on our matrix size!\n",
    "\n",
    "There’s also a `squeeze()` function that removes *all* of the “unnecessary” dimensions (dimensions that have size 1) from an array:"
   ]
  },
  {
   "cell_type": "code",
   "execution_count": null,
   "id": "mEbE-_OkH5BM",
   "metadata": {
    "id": "mEbE-_OkH5BM"
   },
   "outputs": [],
   "source": [
    "z = w.squeeze()\n",
    "print(z)\n",
    "z.shape"
   ]
  },
  {
   "cell_type": "markdown",
   "id": "pN5sbkuzH5BM",
   "metadata": {
    "id": "pN5sbkuzH5BM"
   },
   "source": [
    "To go from a 1D to 2D array, we can just add in another dimension of size 1:"
   ]
  },
  {
   "cell_type": "code",
   "execution_count": null,
   "id": "etn-9kYlH5BM",
   "metadata": {
    "id": "etn-9kYlH5BM"
   },
   "outputs": [],
   "source": [
    "y.reshape((-1,1))"
   ]
  },
  {
   "cell_type": "markdown",
   "id": "xL4bIe3SH5BM",
   "metadata": {
    "id": "xL4bIe3SH5BM"
   },
   "source": [
    "### Broadcasting\n",
    "\n",
    "Broadcasting is a powerful mechanism that allows numpy to work with arrays of different shapes when performing arithmetic operations.\n",
    "\n",
    "For example: in basic linear algebra, we can only add (and perform similar element-wise operations) two matrices that have the same dimension. In numpy, if we want to add two matrices that have different dimensions, numpy will implicitly “extend” the dimension of one matrix to match the other so that we can perform the operation.\n",
    "\n",
    "So these operations will work, instead of returning an error:\n",
    "\n",
    "![](files/broadcasting-1.png)\n",
    "\n",
    "![](files/broadcasting-2.png)"
   ]
  },
  {
   "cell_type": "markdown",
   "id": "zqPs2TZdH5BM",
   "metadata": {
    "id": "zqPs2TZdH5BM"
   },
   "source": [
    "Broadcasting two arrays together follows these rules:\n",
    "\n",
    "**Rule 1**: If the two arrays differ in their number of dimensions, the shape of the one with fewer dimensions is padded with ones on its leading (left) side.\n",
    "\n",
    "For example, in the following cell, \"a\" will be implicitly extended to shape (1,3):"
   ]
  },
  {
   "cell_type": "code",
   "execution_count": null,
   "id": "LwTZfnVnH5BM",
   "metadata": {
    "id": "LwTZfnVnH5BM"
   },
   "outputs": [],
   "source": [
    "a = np.array([1,2,3])         # has shape (3,): one dimension\n",
    "b = np.array([[4], [5], [6]]) # has shape (3,1): two dimensions\n",
    "c = a + b                     # will have shape (3,3) (two dimensions)\n",
    "print(c)"
   ]
  },
  {
   "cell_type": "markdown",
   "id": "0COQr33VH5BM",
   "metadata": {
    "id": "0COQr33VH5BM"
   },
   "source": [
    "**Rule 2**: If the shape of the two arrays does not match in any dimension, the array with shape equal to 1 in that dimension is stretched to match the other shape.\n",
    "\n",
    "For example, in the following cell \"a\" will be implicitly extended to shape (3,2):"
   ]
  },
  {
   "cell_type": "code",
   "execution_count": null,
   "id": "ZwgrTRtaH5BM",
   "metadata": {
    "id": "ZwgrTRtaH5BM"
   },
   "outputs": [],
   "source": [
    "a = np.array([[1],[2],[3]])         # has shape (3,1)\n",
    "b = np.array([[4,5], [6,7], [8,9]]) # has shape (3,2)\n",
    "c = a + b                           # will have shape (3,2) \n",
    "print(c)"
   ]
  },
  {
   "cell_type": "markdown",
   "id": "0vTnlMjqH5BM",
   "metadata": {
    "id": "0vTnlMjqH5BM"
   },
   "source": [
    "**Rule 3**: If in any dimension the sizes disagree and neither is equal to 1, an error is raised:"
   ]
  },
  {
   "cell_type": "raw",
   "id": "36113c00-ee2b-490a-9ce9-f88007d95a08",
   "metadata": {
    "id": "MGrC2HGIH5BM"
   },
   "source": [
    "a = np.array([[1],[2],[3],[4]])      # has shape (4,1)\n",
    "b = np.array([[4,5], [6,7], [8,9]])  # has shape (3,2)\n",
    "c = a + b                            # ValueError: operands could not be broadcast"
   ]
  },
  {
   "cell_type": "markdown",
   "id": "_68AraysH5BN",
   "metadata": {
    "id": "_68AraysH5BN"
   },
   "source": [
    "For more detail, you can read the explanation from the [documentation](http://docs.scipy.org/doc/numpy/user/basics.broadcasting.html)."
   ]
  },
  {
   "cell_type": "markdown",
   "id": "04E4GeUxH5BN",
   "metadata": {
    "id": "04E4GeUxH5BN"
   },
   "source": [
    "Functions that support broadcasting are known as universal functions. You can find the list of all universal functions in the [documentation](http://docs.scipy.org/doc/numpy/reference/ufuncs.html#available-ufuncs)."
   ]
  },
  {
   "cell_type": "markdown",
   "id": "1HXYD4GoH5BN",
   "metadata": {
    "id": "1HXYD4GoH5BN"
   },
   "source": [
    "Here are a few visual examples involving broadcasting.\n",
    "\n",
    "![](files/numpy-array-broadcast.png)\n",
    "\n",
    "Note that these arrays are compatible in each dimension if they have either the same size in that dimension, or if one array has size 1 in that dimension.\n",
    "\n",
    "![](files/numpy-matrix-broadcast.png)"
   ]
  },
  {
   "cell_type": "markdown",
   "id": "NUs-rJ2TH5BN",
   "metadata": {
    "id": "NUs-rJ2TH5BN"
   },
   "source": [
    "And here are some more practical applications:"
   ]
  },
  {
   "cell_type": "code",
   "execution_count": null,
   "id": "U951c9RSH5BN",
   "metadata": {
    "id": "U951c9RSH5BN"
   },
   "outputs": [],
   "source": [
    "# Compute outer product of vectors\n",
    "v = np.array([1,2,3])  # v has shape (3,)\n",
    "w = np.array([4,5])    # w has shape (2,)\n",
    "# To compute an outer product, we first reshape v to be a column\n",
    "# vector of shape (3, 1); we can then broadcast it against w to yield\n",
    "# an output of shape (3, 2), which is the outer product of v and w:\n",
    "\n",
    "print(np.reshape(v, (3, 1)) * w)"
   ]
  },
  {
   "cell_type": "code",
   "execution_count": null,
   "id": "4BjnS1EgH5BN",
   "metadata": {
    "id": "4BjnS1EgH5BN"
   },
   "outputs": [],
   "source": [
    "# Add a vector to each row of a matrix\n",
    "x = np.array([[1,2,3], [4,5,6]])\n",
    "# x has shape (2, 3) and v has shape (3,) so they broadcast to (2, 3),\n",
    "# giving the following matrix:\n",
    "\n",
    "print(x + v)"
   ]
  },
  {
   "cell_type": "code",
   "execution_count": null,
   "id": "OkgmRSSYH5BN",
   "metadata": {
    "id": "OkgmRSSYH5BN"
   },
   "outputs": [],
   "source": [
    "# Add a vector to each column of a matrix\n",
    "# x has shape (2, 3) and w has shape (2,).\n",
    "# If we transpose x then it has shape (3, 2) and can be broadcast\n",
    "# against w to yield a result of shape (3, 2); transposing this result\n",
    "# yields the final result of shape (2, 3) which is the matrix x with\n",
    "# the vector w added to each column. Gives the following matrix:\n",
    "\n",
    "print((x.T + w).T)"
   ]
  },
  {
   "cell_type": "code",
   "execution_count": null,
   "id": "syECQqFHH5BN",
   "metadata": {
    "id": "syECQqFHH5BN"
   },
   "outputs": [],
   "source": [
    "# Another solution is to reshape w to be a row vector of shape (2, 1);\n",
    "# we can then broadcast it directly against x to produce the same\n",
    "# output.\n",
    "print(x + np.reshape(w, (2, 1)))"
   ]
  },
  {
   "cell_type": "code",
   "execution_count": null,
   "id": "4JDMO0bHH5BN",
   "metadata": {
    "id": "4JDMO0bHH5BN"
   },
   "outputs": [],
   "source": [
    "# Multiply a matrix by a constant:\n",
    "# x has shape (2, 3). Numpy treats scalars as arrays of shape ();\n",
    "# these can be broadcast together to shape (2, 3), producing the\n",
    "# following array:\n",
    "print(x * 2)"
   ]
  },
  {
   "cell_type": "markdown",
   "id": "OZyKo3BJH5BN",
   "metadata": {
    "id": "OZyKo3BJH5BN"
   },
   "source": [
    "Broadcasting typically makes your code more concise and faster, so you should strive to use it where possible."
   ]
  },
  {
   "cell_type": "markdown",
   "id": "9IQNy5inH5BN",
   "metadata": {
    "id": "9IQNy5inH5BN"
   },
   "source": [
    "This brief overview has touched on many of the important things that you need to know about numpy, but is far from complete. Check out the [numpy reference](http://docs.scipy.org/doc/numpy/reference/) to find out much more about numpy."
   ]
  },
  {
   "cell_type": "markdown",
   "id": "4101df07-3141-4f9c-8f09-800c34f360e4",
   "metadata": {},
   "source": [
    "# Exercises"
   ]
  },
  {
   "cell_type": "markdown",
   "id": "710a40b7-3990-42f7-801d-1f9eac92d255",
   "metadata": {},
   "source": [
    "## Exercise (easy)\n",
    "\n",
    "Find the right function and convert the variable \"a\", which is a 1-D array, to a 3-D array."
   ]
  },
  {
   "cell_type": "code",
   "execution_count": null,
   "id": "754a42c4-a981-4484-a2e8-c9a7092a3f61",
   "metadata": {
    "tags": []
   },
   "outputs": [],
   "source": [
    "a = np.array([x for x in range(27)])\n",
    "\n",
    "# Code here!"
   ]
  },
  {
   "cell_type": "markdown",
   "id": "a9cf556b-3750-4e48-961d-822ce0d272a0",
   "metadata": {},
   "source": [
    "## Exercise (easy)\n",
    "\n",
    "Convert all the elements of a numpy array from float to integer datatype."
   ]
  },
  {
   "cell_type": "code",
   "execution_count": null,
   "id": "32d016ea-4020-4ac2-a072-52d5c940b997",
   "metadata": {
    "tags": []
   },
   "outputs": [],
   "source": [
    "a = np.array([[2.5, 3.8, 1.5],\n",
    "              [4.7, 2.9, 1.56]])\n",
    "\n",
    "# Code here!"
   ]
  },
  {
   "cell_type": "markdown",
   "id": "c387a22d-8c4f-4622-9091-f8b9a852c065",
   "metadata": {},
   "source": [
    "## Exercise (easy)\n",
    "\n",
    "Convert a binary numpy array (containing only 0s and 1s) to a boolean numpy array."
   ]
  },
  {
   "cell_type": "code",
   "execution_count": null,
   "id": "4eb2212f-95dd-446f-8b1c-8f22be6f603b",
   "metadata": {
    "tags": []
   },
   "outputs": [],
   "source": [
    "a = np.array([[1, 0, 0],\n",
    "              [1, 1, 1],\n",
    "              [0, 0, 0]])\n",
    "\n",
    "# Code here!"
   ]
  },
  {
   "cell_type": "markdown",
   "id": "469bdead-2cb5-48d0-86ce-aa55d3b5b9ca",
   "metadata": {},
   "source": [
    "## Exercise (easy / medium)\n",
    "\n",
    "Use `np.arange()` to generate a sequence of numbers from 0 to 100 (both included) with gaps of 2 numbers, for example: 0, 2, 4 ..."
   ]
  },
  {
   "cell_type": "code",
   "execution_count": null,
   "id": "883b09e8-0286-4c70-8fe0-4d48a3830f2c",
   "metadata": {},
   "outputs": [],
   "source": [
    "# Code here!"
   ]
  },
  {
   "cell_type": "markdown",
   "id": "bc0cf19f-fdf0-4179-a341-e6d07706ce9c",
   "metadata": {},
   "source": [
    "## Exercise (easy / medium)\n",
    "\n",
    "From 2 numpy arrays, extract the indices in which the elements in the 2 arrays match. What function are you going to use?"
   ]
  },
  {
   "cell_type": "code",
   "execution_count": null,
   "id": "c1b5097b-ee2b-4915-a564-b498c2c85ea9",
   "metadata": {
    "tags": []
   },
   "outputs": [],
   "source": [
    "a = np.array([1,2,3,4,5])\n",
    "b = np.array([1,3,2,4,5])\n",
    "\n",
    "# Code here!"
   ]
  },
  {
   "cell_type": "markdown",
   "id": "ceddbc38-f361-4d4b-b0a4-ce6bd225b1cd",
   "metadata": {},
   "source": [
    "## Exercise (easy)\n",
    "\n",
    "Generate a sequence of equally gapped 12 numbers in the range 0 to 1342. Then convert it to integers."
   ]
  },
  {
   "cell_type": "code",
   "execution_count": null,
   "id": "e72436de-9145-4441-8984-df1e7d951d88",
   "metadata": {},
   "outputs": [],
   "source": [
    "# Code here!\n"
   ]
  },
  {
   "cell_type": "markdown",
   "id": "aef84ae5-22f8-4a59-bddb-d02e0675b537",
   "metadata": {},
   "source": [
    "## Exercise (easy / medium)\n",
    "\n",
    "Use the appropriate numpy function to generate this matrix (there are 9 rows and 9 columns): \n",
    "```python\n",
    "[[1, 1, 1, 1, 1, 1, 1, 1, 1],\n",
    " [1, 2, 2, 2, 2, 2, 2, 2, 1],\n",
    " [1, 2, 2, 2, 2, 2, 2, 2, 1],\n",
    " [1, 2, 2, 2, 2, 2, 2, 2, 1],\n",
    " [1, 2, 2, 2, 2, 2, 2, 2, 1],\n",
    " [1, 2, 2, 2, 2, 2, 2, 2, 1],\n",
    " [1, 2, 2, 2, 2, 2, 2, 2, 1],\n",
    " [1, 2, 2, 2, 2, 2, 2, 2, 1],\n",
    " [1, 1, 1, 1, 1, 1, 1, 1, 1]]\n",
    "```"
   ]
  },
  {
   "cell_type": "code",
   "execution_count": null,
   "id": "1894b610-d9df-4830-b6a0-3a2603cf5940",
   "metadata": {},
   "outputs": [],
   "source": [
    "# Code here!\n"
   ]
  },
  {
   "cell_type": "markdown",
   "id": "cad4fcd9-135f-4cfe-98d7-fbdaf47d9274",
   "metadata": {
    "tags": []
   },
   "source": [
    "## Exercise (easy)\n",
    "\n",
    "Get all items greater than 7 from the array \"a\"."
   ]
  },
  {
   "cell_type": "code",
   "execution_count": null,
   "id": "dfab3f4b-03f9-48b3-80cd-5a64256fa0e6",
   "metadata": {},
   "outputs": [],
   "source": [
    "a = np.array([2, 6, 1, 9, 10, 3, 27])\n",
    "\n",
    "# Code here!"
   ]
  },
  {
   "cell_type": "markdown",
   "id": "ced15656-09b8-4d2c-9263-b592af0b46a5",
   "metadata": {},
   "source": [
    "## Exercise (easy / medium)\n",
    "Swap columns 1 and 2 in the array a.\n",
    "\n",
    "**hint**: use slices and integers indexing!\n",
    "\n",
    "Expected output:\n",
    "\n",
    "```python\n",
    "[[1, 0, 2],\n",
    " [4, 3, 5],\n",
    " [7, 6, 8]]\n",
    "```"
   ]
  },
  {
   "cell_type": "code",
   "execution_count": null,
   "id": "bd8a2704-1e4a-44ab-a420-c18a46adab27",
   "metadata": {
    "tags": []
   },
   "outputs": [],
   "source": [
    "a = np.arange(9).reshape(3,3)\n",
    "print(a)\n",
    "\n",
    "# Code here!\n"
   ]
  },
  {
   "cell_type": "markdown",
   "id": "31ec3ba1-1b59-45f2-947a-73fa2b37b00a",
   "metadata": {},
   "source": [
    "## Exercise (easy / medium)\n",
    "Reverse the rows of the 2D array \"a\".\n",
    "\n",
    "**hint**: use slices and... the little trick to reverse elements in a list.\n",
    "\n",
    "Expected output:\n",
    "\n",
    "```python\n",
    "[[6, 7, 8],\n",
    " [3, 4, 5],\n",
    " [0, 1, 2]]\n",
    "```"
   ]
  },
  {
   "cell_type": "code",
   "execution_count": null,
   "id": "d0071fe2-14f5-4c93-8f03-c2d4c05c85a9",
   "metadata": {
    "tags": []
   },
   "outputs": [],
   "source": [
    "a = np.arange(9).reshape(3,3)\n",
    "print(a)\n",
    "\n",
    "# Code here!"
   ]
  }
 ],
 "metadata": {
  "colab": {
   "provenance": []
  },
  "kernelspec": {
   "display_name": "Python 3 (ipykernel)",
   "language": "python",
   "name": "python3"
  },
  "language_info": {
   "codemirror_mode": {
    "name": "ipython",
    "version": 3
   },
   "file_extension": ".py",
   "mimetype": "text/x-python",
   "name": "python",
   "nbconvert_exporter": "python",
   "pygments_lexer": "ipython3",
   "version": "3.10.9"
  }
 },
 "nbformat": 4,
 "nbformat_minor": 5
}
