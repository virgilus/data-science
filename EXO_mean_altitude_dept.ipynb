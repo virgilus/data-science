{
 "cells": [
  {
   "cell_type": "markdown",
   "id": "9648e79e",
   "metadata": {},
   "source": [
    "# Exercice\n",
    "\n",
    "## Calculate the mean altitude per department\n",
    "\n",
    "For some reason it is quite difficult to find the mean altitude of each department in France on the web. So let's compute it and check out which department is the highest on average.\n",
    "\n",
    "For those who don't know, France is divided into several administrative levels, the main ones being:   \n",
    "\n",
    "- Régions (13 + 5 overseas)\n",
    "- Départements (96 + 5 overseas)\n",
    "- Communes (about 35,000), which can be translated as \"municipalities\", \"towns\" or \"cities\".\n",
    "\n",
    "## Instructions\n",
    "\n",
    "- Go on the web and find a dataset that allows you to do this.\n",
    "- Then use pandas to load the dataset and perform the necessary calculations.\n",
    "- Verify that your results are the same than the file `mean_altitude_dept_output.csv` which is located in the same folder as this notebook. Results may vary slightly depending on the dataset you used, but the differences should be minimal."
   ]
  },
  {
   "cell_type": "code",
   "execution_count": null,
   "id": "a508d28e",
   "metadata": {},
   "outputs": [],
   "source": [
    "import pandas as pd\n",
    "\n",
    "# Code here!\n"
   ]
  }
 ],
 "metadata": {
  "kernelspec": {
   "display_name": "v",
   "language": "python",
   "name": "python3"
  },
  "language_info": {
   "codemirror_mode": {
    "name": "ipython",
    "version": 3
   },
   "file_extension": ".py",
   "mimetype": "text/x-python",
   "name": "python",
   "nbconvert_exporter": "python",
   "pygments_lexer": "ipython3",
   "version": "3.13.3"
  }
 },
 "nbformat": 4,
 "nbformat_minor": 5
}
