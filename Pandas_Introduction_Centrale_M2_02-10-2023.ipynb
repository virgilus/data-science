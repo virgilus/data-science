{
 "cells": [
  {
   "cell_type": "markdown",
   "id": "f58b7dcc-0aa8-4dca-8ec0-c4cb3db1312b",
   "metadata": {},
   "source": [
    "# Introduction to Pandas\n",
    "\n",
    "**Pandas** is a python library that has been created by **Wes McKinney** in 2007 on top of the **Numpy** library, and had become open sourced by the end of 2009. It is widely used in data science, machine learning and data analysis tasks. The name is derived from the term **\"PANel DAta\"** (tabular data), an econometrics term for data sets that include observations over multiple time periods for the same individuals. ([wikipedia](https://en.wikipedia.org/wiki/Pandas_(software)))\n",
    "\n",
    "**Pandas** works well together with other librairies such as **Matplotlib / Seaborn** and, of course, **Numpy**."
   ]
  },
  {
   "cell_type": "markdown",
   "id": "b5dc562f-6c3f-4990-876d-5a7ed2eb0292",
   "metadata": {
    "tags": []
   },
   "source": [
    "<img src=\"files/pandas_numpy_matplotlib_seaborn.png\" width=\"100%\" align=\"center\">"
   ]
  },
  {
   "cell_type": "code",
   "execution_count": null,
   "id": "12f9db81-31fe-4489-a401-1ab5e94f2e8d",
   "metadata": {
    "tags": []
   },
   "outputs": [],
   "source": [
    "import pandas as pd # We'll use pd as the alias\n",
    "import numpy as np # and np as alias for numpy"
   ]
  },
  {
   "cell_type": "markdown",
   "id": "55761509-6ba8-4909-bf4e-1a37d988dcbc",
   "metadata": {},
   "source": [
    "# DataFrame\n",
    "\n",
    "A Pandas DataFrame is a two-dimensional, size-mutable, and highly flexible data structure for data manipulation and analysis in Python. The DataFrame is often compared to a spreadsheet or a SQL table, as it organizes data into rows and columns, making it easy to work with structured data.\n",
    "\n",
    "Key characteristics of a Pandas DataFrame:\n",
    "\n",
    "- **Two-Dimensional**: A DataFrame consists of rows and columns, much like a table in a relational database or an Excel spreadsheet.\n",
    "\n",
    "- **Size-Mutable**: You can add or remove rows and columns from a DataFrame, making it adaptable to changing data.\n",
    "\n",
    "- **Labeled Axes**: Both rows and columns have labels (index and column names), allowing for easy identification and indexing of data.\n",
    "\n",
    "- **Mixed Data Types**: A DataFrame can contain data of different types (e.g., integers, floats, strings) in different columns, or inside the same column.\n",
    "\n",
    "- **Missing Data Handling**: DataFrames can handle missing or NaN (Not-a-Number) values gracefully, providing tools for detecting, removing, or imputing missing data.\n",
    "\n",
    "- **Operations**: DataFrames support a wide range of data operations, including filtering, grouping, aggregation, pivoting, merging, and more."
   ]
  },
  {
   "cell_type": "markdown",
   "id": "2570caad-4caa-4098-8204-3f580b889c60",
   "metadata": {},
   "source": [
    "## Creating a DataFrame\n",
    "\n",
    "Pandas can create DataFrames from many differents file formats including :\n",
    "\n",
    "- CSV (comma separated value)\n",
    "- Excel (XLS and XLSX)\n",
    "- JSON (Java Script Object Notation)\n",
    "- HTML (Tables)\n",
    "- SQL (Databases)\n",
    "- Parquet\n",
    "- HDF5 (Hierarchical Data Format)\n",
    "- Feather\n",
    "- Stata\n",
    "- SAS\n",
    "- Google BigQuery\n",
    "- Clipboard\n",
    "- Python Dictionnaries\n",
    "- URLs (HTTP, FTP, etc.)\n",
    "- ... And many more"
   ]
  },
  {
   "cell_type": "markdown",
   "id": "cebbc4a0-9f29-425d-a4ca-34f64cb96687",
   "metadata": {},
   "source": [
    "## Fake dataset\n",
    "\n",
    "Let's create a DataFrame from a CSV file stored inside the \"data\" folder and named \"fake.csv\". We'll use this fake dataset later to demonstrate some of the Pandas functions. Let's store it in a variable named : **\"fake_df\"**.\n",
    "\n",
    "**Note**: Here we're using a naming convention named **\"suffix Hungarian notation\"**, meaning the type of the object is included at the end of its name. And, of course, \"df\" is short for \"DataFrame\"."
   ]
  },
  {
   "cell_type": "code",
   "execution_count": null,
   "id": "b012afd5-eaa6-4694-a99a-b3586d7d6e26",
   "metadata": {
    "tags": []
   },
   "outputs": [],
   "source": [
    "fake_df = pd.read_csv(\"data/fake.csv\")\n",
    "\n",
    "fake_df"
   ]
  },
  {
   "cell_type": "markdown",
   "id": "41fe3ff0-c201-4c40-b53e-fede9073649d",
   "metadata": {},
   "source": [
    "If you run the cell above, you can tell right away that \"fake_df\" is a DataFrame: columns names and indices are in bold-style. And if you mouse over the DataFrame, rows are highlighted."
   ]
  },
  {
   "cell_type": "markdown",
   "id": "8afa9593-f9bc-4a90-9a35-2b84d79524b9",
   "metadata": {},
   "source": [
    "## Reading a CSV file : the \"Survey Data\"\n",
    "\n",
    "**>>>** Use the ``pd.read_csv()`` function to read the CSV file named \"survey\" which is located inside the \"data\" folder. Store the result in a new DataFrame named \"df\".\n",
    "\n",
    "If you try to read a CSV file and Pandas returns an error, open the file with jupyter lab or a text editor (VS Code, Notepad++ etc.) and examine it to find the source of the error. The most common errors when reading a csv file are:\n",
    "\n",
    "- The **filepath** was not properly given to the function. The easiest way is to move the file you want to read in the same directory than your notebook file (or in a subfolder named \"data\").\n",
    "\n",
    "- A wrong **field separator**, by default Pandas assumes that it is the \",\" character. In this case specify the separator (= delimiter) with the argument \"sep\".\n",
    "\n",
    "- A bad **\"quotechar\"**, a character used to denote the start and end of a quoted item. Quoted items can include the delimiter and it will be ignored. In this case specify it with the \"quotechar\" argument.\n",
    "\n",
    "- Bad file **encoding**. The \"utf-8\" standard is the most common, but sometimes the files are in other formats like \"cp1252\" for example. In this case specify the encoding with the \"encoding\" argument.\n",
    "\n",
    "- The presence of **extra lines** at the beginning or at the end of the file. In this case use the \"skiprows\" or \"skipfooter\" arguments to ignore these lines.\n",
    "\n",
    "**NOTE**: Do **NOT** open the file with the sofware \"Excel\", it may corrupt your file and make it unreadable, even if you don't save the modifications."
   ]
  },
  {
   "cell_type": "code",
   "execution_count": 9,
   "id": "6f91dd39-4729-4510-8fd4-22bd2bcafcc7",
   "metadata": {
    "tags": []
   },
   "outputs": [],
   "source": [
    "# Code here !\n",
    "df = pd.read_csv(\"data/survey.csv\", skiprows=3)"
   ]
  },
  {
   "cell_type": "markdown",
   "id": "c4894468-6e20-48bd-a368-e07ee1e8eb3e",
   "metadata": {},
   "source": [
    "# First things to do\n",
    "\n",
    "## The `.shape` property\n",
    "\n",
    "We now have two DataFrames \"fake_df\" and \"df\". Let's take a look at our they're shaped."
   ]
  },
  {
   "cell_type": "code",
   "execution_count": null,
   "id": "3c8952bb-2e50-461a-8f0d-a2407415534d",
   "metadata": {
    "tags": []
   },
   "outputs": [],
   "source": [
    "fake_df.shape"
   ]
  },
  {
   "cell_type": "markdown",
   "id": "4cc778ab-4b9c-47c1-9e23-6e60c9577ee2",
   "metadata": {
    "tags": []
   },
   "source": [
    "**>>>** What shape is our df? What does it mean?"
   ]
  },
  {
   "cell_type": "code",
   "execution_count": 12,
   "id": "c2375ac7-975b-4392-86bf-dec8900ed68a",
   "metadata": {
    "tags": []
   },
   "outputs": [
    {
     "data": {
      "text/plain": [
       "(12, 16)"
      ]
     },
     "execution_count": 12,
     "metadata": {},
     "output_type": "execute_result"
    }
   ],
   "source": [
    "# Code here!\n",
    "df.shape"
   ]
  },
  {
   "cell_type": "markdown",
   "id": "c5875ea1-231b-4f84-8b7b-ead0e304cc50",
   "metadata": {},
   "source": [
    "## The ``.head()`` function\n",
    "\n",
    "It returns the first n rows, default is set to 5."
   ]
  },
  {
   "cell_type": "code",
   "execution_count": 13,
   "id": "6765fb02-2c49-4b7b-96b2-91c6ae7b1cb7",
   "metadata": {
    "tags": []
   },
   "outputs": [
    {
     "data": {
      "text/html": [
       "<div>\n",
       "<style scoped>\n",
       "    .dataframe tbody tr th:only-of-type {\n",
       "        vertical-align: middle;\n",
       "    }\n",
       "\n",
       "    .dataframe tbody tr th {\n",
       "        vertical-align: top;\n",
       "    }\n",
       "\n",
       "    .dataframe thead th {\n",
       "        text-align: right;\n",
       "    }\n",
       "</style>\n",
       "<table border=\"1\" class=\"dataframe\">\n",
       "  <thead>\n",
       "    <tr style=\"text-align: right;\">\n",
       "      <th></th>\n",
       "      <th>letter</th>\n",
       "      <th>fruit</th>\n",
       "      <th>value</th>\n",
       "      <th>numbers_list</th>\n",
       "      <th>date</th>\n",
       "    </tr>\n",
       "  </thead>\n",
       "  <tbody>\n",
       "    <tr>\n",
       "      <th>0</th>\n",
       "      <td>A</td>\n",
       "      <td>Apple</td>\n",
       "      <td>0.290</td>\n",
       "      <td>74-23-25</td>\n",
       "      <td>23h:45m:35s 24-Mar-1988</td>\n",
       "    </tr>\n",
       "    <tr>\n",
       "      <th>1</th>\n",
       "      <td>A</td>\n",
       "      <td>Apple</td>\n",
       "      <td>-3.319</td>\n",
       "      <td>66-25-9</td>\n",
       "      <td>09h:57m:31s 09-Apr-1978</td>\n",
       "    </tr>\n",
       "    <tr>\n",
       "      <th>2</th>\n",
       "      <td>B</td>\n",
       "      <td>Banana</td>\n",
       "      <td>-777.490</td>\n",
       "      <td>46-11-40</td>\n",
       "      <td>12h:51m:43s 01-Oct-2023</td>\n",
       "    </tr>\n",
       "    <tr>\n",
       "      <th>3</th>\n",
       "      <td>B</td>\n",
       "      <td>NaN</td>\n",
       "      <td>433.780</td>\n",
       "      <td>86-66-90</td>\n",
       "      <td>14h:07m:35s 26-Jul-2015</td>\n",
       "    </tr>\n",
       "    <tr>\n",
       "      <th>4</th>\n",
       "      <td>C</td>\n",
       "      <td>Apple</td>\n",
       "      <td>588.780</td>\n",
       "      <td>58-1-97</td>\n",
       "      <td>17h:15m:22s 01-Aug-2003</td>\n",
       "    </tr>\n",
       "  </tbody>\n",
       "</table>\n",
       "</div>"
      ],
      "text/plain": [
       "  letter   fruit    value numbers_list                     date\n",
       "0      A   Apple    0.290     74-23-25  23h:45m:35s 24-Mar-1988\n",
       "1      A   Apple   -3.319      66-25-9  09h:57m:31s 09-Apr-1978\n",
       "2      B  Banana -777.490     46-11-40  12h:51m:43s 01-Oct-2023\n",
       "3      B     NaN  433.780     86-66-90  14h:07m:35s 26-Jul-2015\n",
       "4      C   Apple  588.780      58-1-97  17h:15m:22s 01-Aug-2003"
      ]
     },
     "execution_count": 13,
     "metadata": {},
     "output_type": "execute_result"
    }
   ],
   "source": [
    "fake_df.head()"
   ]
  },
  {
   "cell_type": "markdown",
   "id": "10a84850-46ca-41ad-8306-bac3c4829f8d",
   "metadata": {},
   "source": [
    "**>>>** Use the ``.head()`` function to display the first 2 lines of our df."
   ]
  },
  {
   "cell_type": "code",
   "execution_count": 14,
   "id": "b7116b0b-f256-4ed2-9f77-018f6cf13717",
   "metadata": {
    "tags": []
   },
   "outputs": [
    {
     "data": {
      "text/html": [
       "<div>\n",
       "<style scoped>\n",
       "    .dataframe tbody tr th:only-of-type {\n",
       "        vertical-align: middle;\n",
       "    }\n",
       "\n",
       "    .dataframe tbody tr th {\n",
       "        vertical-align: top;\n",
       "    }\n",
       "\n",
       "    .dataframe thead th {\n",
       "        text-align: right;\n",
       "    }\n",
       "</style>\n",
       "<table border=\"1\" class=\"dataframe\">\n",
       "  <thead>\n",
       "    <tr style=\"text-align: right;\">\n",
       "      <th></th>\n",
       "      <th>time</th>\n",
       "      <th>country</th>\n",
       "      <th>population</th>\n",
       "      <th>pop_clean</th>\n",
       "      <th>educ_years</th>\n",
       "      <th>salary</th>\n",
       "      <th>siblings</th>\n",
       "      <th>age_group</th>\n",
       "      <th>father_degree</th>\n",
       "      <th>mother_degree</th>\n",
       "      <th>size</th>\n",
       "      <th>gender</th>\n",
       "      <th>pets</th>\n",
       "      <th>sport</th>\n",
       "      <th>colour</th>\n",
       "      <th>show</th>\n",
       "    </tr>\n",
       "  </thead>\n",
       "  <tbody>\n",
       "    <tr>\n",
       "      <th>0</th>\n",
       "      <td>2023/09/15 11:45:35 PM UTC+3</td>\n",
       "      <td>China</td>\n",
       "      <td>1.4 billion</td>\n",
       "      <td>1400000000</td>\n",
       "      <td>6</td>\n",
       "      <td>4500</td>\n",
       "      <td>0</td>\n",
       "      <td>23 - 27 years old</td>\n",
       "      <td>No diploma</td>\n",
       "      <td>No diploma</td>\n",
       "      <td>165</td>\n",
       "      <td>Man</td>\n",
       "      <td>dog, cat, rabbit</td>\n",
       "      <td>tennis</td>\n",
       "      <td>red</td>\n",
       "      <td>Jimmy Fallon</td>\n",
       "    </tr>\n",
       "    <tr>\n",
       "      <th>1</th>\n",
       "      <td>2023/09/16 9:57:31 AM UTC+3</td>\n",
       "      <td>China</td>\n",
       "      <td>1,400,000,000</td>\n",
       "      <td>1400000000</td>\n",
       "      <td>2</td>\n",
       "      <td>15000</td>\n",
       "      <td>0</td>\n",
       "      <td>23 - 27 years old</td>\n",
       "      <td>Licence</td>\n",
       "      <td>Licence</td>\n",
       "      <td>174</td>\n",
       "      <td>Man</td>\n",
       "      <td>dog,cat,bear</td>\n",
       "      <td>football</td>\n",
       "      <td>blue</td>\n",
       "      <td>WWE</td>\n",
       "    </tr>\n",
       "  </tbody>\n",
       "</table>\n",
       "</div>"
      ],
      "text/plain": [
       "                           time country     population   pop_clean  \\\n",
       "0  2023/09/15 11:45:35 PM UTC+3   China    1.4 billion  1400000000   \n",
       "1   2023/09/16 9:57:31 AM UTC+3   China  1,400,000,000  1400000000   \n",
       "\n",
       "   educ_years  salary  siblings          age_group father_degree  \\\n",
       "0           6    4500         0  23 - 27 years old    No diploma   \n",
       "1           2   15000         0  23 - 27 years old       Licence   \n",
       "\n",
       "  mother_degree size gender              pets     sport colour          show  \n",
       "0    No diploma  165    Man  dog, cat, rabbit    tennis    red  Jimmy Fallon  \n",
       "1       Licence  174    Man      dog,cat,bear  football   blue           WWE  "
      ]
     },
     "execution_count": 14,
     "metadata": {},
     "output_type": "execute_result"
    }
   ],
   "source": [
    "# Code here!\n",
    "df.head(2)"
   ]
  },
  {
   "cell_type": "markdown",
   "id": "401c26b4-713d-4a7d-95fa-1f0e8b946c1a",
   "metadata": {},
   "source": [
    "## The `.columns` property\n",
    "\n",
    "It stores the names of our different columns. It is also the index of the columns."
   ]
  },
  {
   "cell_type": "code",
   "execution_count": 15,
   "id": "9417547b-1377-4feb-8d45-a9a43881d72a",
   "metadata": {
    "tags": []
   },
   "outputs": [
    {
     "data": {
      "text/plain": [
       "Index(['letter', 'fruit', 'value', 'numbers_list', 'date'], dtype='object')"
      ]
     },
     "execution_count": 15,
     "metadata": {},
     "output_type": "execute_result"
    }
   ],
   "source": [
    "fake_df.columns"
   ]
  },
  {
   "cell_type": "markdown",
   "id": "aeaf55d0-4488-414d-9196-98410dc8f17d",
   "metadata": {
    "tags": []
   },
   "source": [
    "**>>>** What are the columns of our DataFrame? Use a ``for`` loop to print each column name on a different line."
   ]
  },
  {
   "cell_type": "code",
   "execution_count": 17,
   "id": "120bb727-0a58-4f3d-a0f8-5d8111daa4b0",
   "metadata": {
    "tags": []
   },
   "outputs": [
    {
     "name": "stdout",
     "output_type": "stream",
     "text": [
      "time\n",
      "country\n",
      "population\n",
      "pop_clean\n",
      "educ_years\n",
      "salary\n",
      "siblings\n",
      "age_group\n",
      "father_degree\n",
      "mother_degree\n",
      "size\n",
      "gender\n",
      "pets\n",
      "sport\n",
      "colour\n",
      "show\n"
     ]
    }
   ],
   "source": [
    "# Code here!\n",
    "df.columns # It's an iterable!\n",
    "for col in df.columns: print(col)"
   ]
  },
  {
   "cell_type": "markdown",
   "id": "1dbf9659-ddd8-4a07-99b3-51915c97f2c3",
   "metadata": {
    "tags": []
   },
   "source": [
    "## The `.index` property\n",
    "\n",
    "It stores the names of the rows (the index)."
   ]
  },
  {
   "cell_type": "markdown",
   "id": "2f2fe2b7-507a-421a-a0ee-96af8dd9c3b2",
   "metadata": {
    "tags": []
   },
   "source": [
    "**>>>** What are the rows of our df? Use a ``for`` loop to print each row index on a different line."
   ]
  },
  {
   "cell_type": "code",
   "execution_count": 19,
   "id": "434b439f-f3fa-4652-8407-54642c813f79",
   "metadata": {
    "tags": []
   },
   "outputs": [
    {
     "name": "stdout",
     "output_type": "stream",
     "text": [
      "0\n",
      "1\n",
      "2\n",
      "3\n",
      "4\n",
      "5\n",
      "6\n",
      "7\n",
      "8\n",
      "9\n",
      "10\n",
      "11\n"
     ]
    }
   ],
   "source": [
    "# Code here!\n",
    "df.index\n",
    "for i in df.index: print(i)"
   ]
  },
  {
   "cell_type": "markdown",
   "id": "1e7103be-d382-42fd-b274-b0d418ed0510",
   "metadata": {},
   "source": [
    "## The `.dtypes` property\n",
    "\n",
    "The word `dtypes` stand for \"data types\", it stores the types of our different columns. The type \"object\" is often a string."
   ]
  },
  {
   "cell_type": "code",
   "execution_count": 22,
   "id": "bfe080a4-de3a-424c-9073-1058ea906151",
   "metadata": {
    "tags": []
   },
   "outputs": [
    {
     "data": {
      "text/plain": [
       "letter           object\n",
       "fruit            object\n",
       "value           float64\n",
       "numbers_list     object\n",
       "date             object\n",
       "dtype: object"
      ]
     },
     "execution_count": 22,
     "metadata": {},
     "output_type": "execute_result"
    }
   ],
   "source": [
    "fake_df.dtypes"
   ]
  },
  {
   "cell_type": "markdown",
   "id": "7539d74a-cc25-4d1c-a226-630cbf221aa6",
   "metadata": {
    "tags": []
   },
   "source": [
    "**>>>** What are the dtypes of our df?"
   ]
  },
  {
   "cell_type": "code",
   "execution_count": 23,
   "id": "b09233a4-27b2-4315-837a-8ab0c9e5bfcc",
   "metadata": {
    "tags": []
   },
   "outputs": [
    {
     "data": {
      "text/plain": [
       "time             object\n",
       "country          object\n",
       "population       object\n",
       "pop_clean         int64\n",
       "educ_years        int64\n",
       "salary            int64\n",
       "siblings          int64\n",
       "age_group        object\n",
       "father_degree    object\n",
       "mother_degree    object\n",
       "size             object\n",
       "gender           object\n",
       "pets             object\n",
       "sport            object\n",
       "colour           object\n",
       "show             object\n",
       "dtype: object"
      ]
     },
     "execution_count": 23,
     "metadata": {},
     "output_type": "execute_result"
    }
   ],
   "source": [
    "# Code here!\n",
    "df.dtypes"
   ]
  },
  {
   "cell_type": "markdown",
   "id": "089403d3-e5c5-4f23-ac85-1e445cf45c3a",
   "metadata": {},
   "source": [
    "## Missing values : the `.isna()` method\n",
    "\n",
    "When you're given a new dataset, it is quite important to check if they are missing values. You can use the ``.isna()`` method, it returns a new DataFrame which has the same size than the original df, but the values are ``True`` if the value is missing and ``False`` if a value exists.\n",
    "\n",
    "That's one of the main strength of python : the outputs of many Pandas functions are also Pandas objects, meaning you can work on your data or your results using the same functions."
   ]
  },
  {
   "cell_type": "code",
   "execution_count": 26,
   "id": "c5d63f96-8ee1-4257-bd7c-037d7ecc1a45",
   "metadata": {
    "tags": []
   },
   "outputs": [
    {
     "data": {
      "text/html": [
       "<div>\n",
       "<style scoped>\n",
       "    .dataframe tbody tr th:only-of-type {\n",
       "        vertical-align: middle;\n",
       "    }\n",
       "\n",
       "    .dataframe tbody tr th {\n",
       "        vertical-align: top;\n",
       "    }\n",
       "\n",
       "    .dataframe thead th {\n",
       "        text-align: right;\n",
       "    }\n",
       "</style>\n",
       "<table border=\"1\" class=\"dataframe\">\n",
       "  <thead>\n",
       "    <tr style=\"text-align: right;\">\n",
       "      <th></th>\n",
       "      <th>letter</th>\n",
       "      <th>fruit</th>\n",
       "      <th>value</th>\n",
       "      <th>numbers_list</th>\n",
       "      <th>date</th>\n",
       "    </tr>\n",
       "  </thead>\n",
       "  <tbody>\n",
       "    <tr>\n",
       "      <th>0</th>\n",
       "      <td>False</td>\n",
       "      <td>False</td>\n",
       "      <td>False</td>\n",
       "      <td>False</td>\n",
       "      <td>False</td>\n",
       "    </tr>\n",
       "    <tr>\n",
       "      <th>1</th>\n",
       "      <td>False</td>\n",
       "      <td>False</td>\n",
       "      <td>False</td>\n",
       "      <td>False</td>\n",
       "      <td>False</td>\n",
       "    </tr>\n",
       "    <tr>\n",
       "      <th>2</th>\n",
       "      <td>False</td>\n",
       "      <td>False</td>\n",
       "      <td>False</td>\n",
       "      <td>False</td>\n",
       "      <td>False</td>\n",
       "    </tr>\n",
       "    <tr>\n",
       "      <th>3</th>\n",
       "      <td>False</td>\n",
       "      <td>True</td>\n",
       "      <td>False</td>\n",
       "      <td>False</td>\n",
       "      <td>False</td>\n",
       "    </tr>\n",
       "    <tr>\n",
       "      <th>4</th>\n",
       "      <td>False</td>\n",
       "      <td>False</td>\n",
       "      <td>False</td>\n",
       "      <td>False</td>\n",
       "      <td>False</td>\n",
       "    </tr>\n",
       "    <tr>\n",
       "      <th>5</th>\n",
       "      <td>False</td>\n",
       "      <td>False</td>\n",
       "      <td>False</td>\n",
       "      <td>False</td>\n",
       "      <td>False</td>\n",
       "    </tr>\n",
       "    <tr>\n",
       "      <th>6</th>\n",
       "      <td>False</td>\n",
       "      <td>False</td>\n",
       "      <td>False</td>\n",
       "      <td>False</td>\n",
       "      <td>False</td>\n",
       "    </tr>\n",
       "    <tr>\n",
       "      <th>7</th>\n",
       "      <td>False</td>\n",
       "      <td>False</td>\n",
       "      <td>False</td>\n",
       "      <td>False</td>\n",
       "      <td>False</td>\n",
       "    </tr>\n",
       "    <tr>\n",
       "      <th>8</th>\n",
       "      <td>False</td>\n",
       "      <td>False</td>\n",
       "      <td>False</td>\n",
       "      <td>False</td>\n",
       "      <td>False</td>\n",
       "    </tr>\n",
       "    <tr>\n",
       "      <th>9</th>\n",
       "      <td>False</td>\n",
       "      <td>False</td>\n",
       "      <td>True</td>\n",
       "      <td>False</td>\n",
       "      <td>False</td>\n",
       "    </tr>\n",
       "    <tr>\n",
       "      <th>10</th>\n",
       "      <td>False</td>\n",
       "      <td>False</td>\n",
       "      <td>False</td>\n",
       "      <td>False</td>\n",
       "      <td>False</td>\n",
       "    </tr>\n",
       "  </tbody>\n",
       "</table>\n",
       "</div>"
      ],
      "text/plain": [
       "    letter  fruit  value  numbers_list   date\n",
       "0    False  False  False         False  False\n",
       "1    False  False  False         False  False\n",
       "2    False  False  False         False  False\n",
       "3    False   True  False         False  False\n",
       "4    False  False  False         False  False\n",
       "5    False  False  False         False  False\n",
       "6    False  False  False         False  False\n",
       "7    False  False  False         False  False\n",
       "8    False  False  False         False  False\n",
       "9    False  False   True         False  False\n",
       "10   False  False  False         False  False"
      ]
     },
     "execution_count": 26,
     "metadata": {},
     "output_type": "execute_result"
    }
   ],
   "source": [
    "fake_df.isna()"
   ]
  },
  {
   "cell_type": "markdown",
   "id": "f085129f-2cc0-4e77-9bff-c3d1c1a3e3d4",
   "metadata": {
    "tags": []
   },
   "source": [
    "**>>>** Use ``.isna()`` on your DataFrame."
   ]
  },
  {
   "cell_type": "code",
   "execution_count": 28,
   "id": "f16da66f-16e2-42ca-ab84-1817f19d6eba",
   "metadata": {
    "tags": []
   },
   "outputs": [
    {
     "data": {
      "text/html": [
       "<div>\n",
       "<style scoped>\n",
       "    .dataframe tbody tr th:only-of-type {\n",
       "        vertical-align: middle;\n",
       "    }\n",
       "\n",
       "    .dataframe tbody tr th {\n",
       "        vertical-align: top;\n",
       "    }\n",
       "\n",
       "    .dataframe thead th {\n",
       "        text-align: right;\n",
       "    }\n",
       "</style>\n",
       "<table border=\"1\" class=\"dataframe\">\n",
       "  <thead>\n",
       "    <tr style=\"text-align: right;\">\n",
       "      <th></th>\n",
       "      <th>time</th>\n",
       "      <th>country</th>\n",
       "      <th>population</th>\n",
       "      <th>pop_clean</th>\n",
       "      <th>educ_years</th>\n",
       "      <th>salary</th>\n",
       "      <th>siblings</th>\n",
       "      <th>age_group</th>\n",
       "      <th>father_degree</th>\n",
       "      <th>mother_degree</th>\n",
       "      <th>size</th>\n",
       "      <th>gender</th>\n",
       "      <th>pets</th>\n",
       "      <th>sport</th>\n",
       "      <th>colour</th>\n",
       "      <th>show</th>\n",
       "    </tr>\n",
       "  </thead>\n",
       "  <tbody>\n",
       "    <tr>\n",
       "      <th>0</th>\n",
       "      <td>False</td>\n",
       "      <td>False</td>\n",
       "      <td>False</td>\n",
       "      <td>False</td>\n",
       "      <td>False</td>\n",
       "      <td>False</td>\n",
       "      <td>False</td>\n",
       "      <td>False</td>\n",
       "      <td>False</td>\n",
       "      <td>False</td>\n",
       "      <td>False</td>\n",
       "      <td>False</td>\n",
       "      <td>False</td>\n",
       "      <td>False</td>\n",
       "      <td>False</td>\n",
       "      <td>False</td>\n",
       "    </tr>\n",
       "    <tr>\n",
       "      <th>1</th>\n",
       "      <td>False</td>\n",
       "      <td>False</td>\n",
       "      <td>False</td>\n",
       "      <td>False</td>\n",
       "      <td>False</td>\n",
       "      <td>False</td>\n",
       "      <td>False</td>\n",
       "      <td>False</td>\n",
       "      <td>False</td>\n",
       "      <td>False</td>\n",
       "      <td>False</td>\n",
       "      <td>False</td>\n",
       "      <td>False</td>\n",
       "      <td>False</td>\n",
       "      <td>False</td>\n",
       "      <td>False</td>\n",
       "    </tr>\n",
       "    <tr>\n",
       "      <th>2</th>\n",
       "      <td>False</td>\n",
       "      <td>False</td>\n",
       "      <td>False</td>\n",
       "      <td>False</td>\n",
       "      <td>False</td>\n",
       "      <td>False</td>\n",
       "      <td>False</td>\n",
       "      <td>False</td>\n",
       "      <td>False</td>\n",
       "      <td>False</td>\n",
       "      <td>False</td>\n",
       "      <td>False</td>\n",
       "      <td>False</td>\n",
       "      <td>False</td>\n",
       "      <td>False</td>\n",
       "      <td>False</td>\n",
       "    </tr>\n",
       "    <tr>\n",
       "      <th>3</th>\n",
       "      <td>False</td>\n",
       "      <td>False</td>\n",
       "      <td>False</td>\n",
       "      <td>False</td>\n",
       "      <td>False</td>\n",
       "      <td>False</td>\n",
       "      <td>False</td>\n",
       "      <td>False</td>\n",
       "      <td>False</td>\n",
       "      <td>False</td>\n",
       "      <td>False</td>\n",
       "      <td>False</td>\n",
       "      <td>False</td>\n",
       "      <td>False</td>\n",
       "      <td>False</td>\n",
       "      <td>False</td>\n",
       "    </tr>\n",
       "    <tr>\n",
       "      <th>4</th>\n",
       "      <td>False</td>\n",
       "      <td>False</td>\n",
       "      <td>False</td>\n",
       "      <td>False</td>\n",
       "      <td>False</td>\n",
       "      <td>False</td>\n",
       "      <td>False</td>\n",
       "      <td>False</td>\n",
       "      <td>False</td>\n",
       "      <td>False</td>\n",
       "      <td>False</td>\n",
       "      <td>False</td>\n",
       "      <td>False</td>\n",
       "      <td>False</td>\n",
       "      <td>False</td>\n",
       "      <td>False</td>\n",
       "    </tr>\n",
       "    <tr>\n",
       "      <th>5</th>\n",
       "      <td>False</td>\n",
       "      <td>False</td>\n",
       "      <td>False</td>\n",
       "      <td>False</td>\n",
       "      <td>False</td>\n",
       "      <td>False</td>\n",
       "      <td>False</td>\n",
       "      <td>False</td>\n",
       "      <td>False</td>\n",
       "      <td>False</td>\n",
       "      <td>False</td>\n",
       "      <td>False</td>\n",
       "      <td>False</td>\n",
       "      <td>False</td>\n",
       "      <td>False</td>\n",
       "      <td>False</td>\n",
       "    </tr>\n",
       "    <tr>\n",
       "      <th>6</th>\n",
       "      <td>False</td>\n",
       "      <td>False</td>\n",
       "      <td>False</td>\n",
       "      <td>False</td>\n",
       "      <td>False</td>\n",
       "      <td>False</td>\n",
       "      <td>False</td>\n",
       "      <td>False</td>\n",
       "      <td>False</td>\n",
       "      <td>False</td>\n",
       "      <td>False</td>\n",
       "      <td>False</td>\n",
       "      <td>False</td>\n",
       "      <td>False</td>\n",
       "      <td>False</td>\n",
       "      <td>False</td>\n",
       "    </tr>\n",
       "    <tr>\n",
       "      <th>7</th>\n",
       "      <td>False</td>\n",
       "      <td>False</td>\n",
       "      <td>False</td>\n",
       "      <td>False</td>\n",
       "      <td>False</td>\n",
       "      <td>False</td>\n",
       "      <td>False</td>\n",
       "      <td>False</td>\n",
       "      <td>False</td>\n",
       "      <td>False</td>\n",
       "      <td>False</td>\n",
       "      <td>False</td>\n",
       "      <td>False</td>\n",
       "      <td>False</td>\n",
       "      <td>False</td>\n",
       "      <td>False</td>\n",
       "    </tr>\n",
       "    <tr>\n",
       "      <th>8</th>\n",
       "      <td>False</td>\n",
       "      <td>False</td>\n",
       "      <td>False</td>\n",
       "      <td>False</td>\n",
       "      <td>False</td>\n",
       "      <td>False</td>\n",
       "      <td>False</td>\n",
       "      <td>False</td>\n",
       "      <td>False</td>\n",
       "      <td>False</td>\n",
       "      <td>False</td>\n",
       "      <td>False</td>\n",
       "      <td>False</td>\n",
       "      <td>False</td>\n",
       "      <td>False</td>\n",
       "      <td>False</td>\n",
       "    </tr>\n",
       "    <tr>\n",
       "      <th>9</th>\n",
       "      <td>False</td>\n",
       "      <td>False</td>\n",
       "      <td>False</td>\n",
       "      <td>False</td>\n",
       "      <td>False</td>\n",
       "      <td>False</td>\n",
       "      <td>False</td>\n",
       "      <td>False</td>\n",
       "      <td>False</td>\n",
       "      <td>False</td>\n",
       "      <td>False</td>\n",
       "      <td>False</td>\n",
       "      <td>False</td>\n",
       "      <td>False</td>\n",
       "      <td>False</td>\n",
       "      <td>False</td>\n",
       "    </tr>\n",
       "    <tr>\n",
       "      <th>10</th>\n",
       "      <td>False</td>\n",
       "      <td>False</td>\n",
       "      <td>False</td>\n",
       "      <td>False</td>\n",
       "      <td>False</td>\n",
       "      <td>False</td>\n",
       "      <td>False</td>\n",
       "      <td>False</td>\n",
       "      <td>False</td>\n",
       "      <td>False</td>\n",
       "      <td>False</td>\n",
       "      <td>False</td>\n",
       "      <td>False</td>\n",
       "      <td>False</td>\n",
       "      <td>False</td>\n",
       "      <td>False</td>\n",
       "    </tr>\n",
       "    <tr>\n",
       "      <th>11</th>\n",
       "      <td>False</td>\n",
       "      <td>False</td>\n",
       "      <td>False</td>\n",
       "      <td>False</td>\n",
       "      <td>False</td>\n",
       "      <td>False</td>\n",
       "      <td>False</td>\n",
       "      <td>False</td>\n",
       "      <td>False</td>\n",
       "      <td>False</td>\n",
       "      <td>False</td>\n",
       "      <td>False</td>\n",
       "      <td>False</td>\n",
       "      <td>False</td>\n",
       "      <td>False</td>\n",
       "      <td>False</td>\n",
       "    </tr>\n",
       "  </tbody>\n",
       "</table>\n",
       "</div>"
      ],
      "text/plain": [
       "     time  country  population  pop_clean  educ_years  salary  siblings  \\\n",
       "0   False    False       False      False       False   False     False   \n",
       "1   False    False       False      False       False   False     False   \n",
       "2   False    False       False      False       False   False     False   \n",
       "3   False    False       False      False       False   False     False   \n",
       "4   False    False       False      False       False   False     False   \n",
       "5   False    False       False      False       False   False     False   \n",
       "6   False    False       False      False       False   False     False   \n",
       "7   False    False       False      False       False   False     False   \n",
       "8   False    False       False      False       False   False     False   \n",
       "9   False    False       False      False       False   False     False   \n",
       "10  False    False       False      False       False   False     False   \n",
       "11  False    False       False      False       False   False     False   \n",
       "\n",
       "    age_group  father_degree  mother_degree   size  gender   pets  sport  \\\n",
       "0       False          False          False  False   False  False  False   \n",
       "1       False          False          False  False   False  False  False   \n",
       "2       False          False          False  False   False  False  False   \n",
       "3       False          False          False  False   False  False  False   \n",
       "4       False          False          False  False   False  False  False   \n",
       "5       False          False          False  False   False  False  False   \n",
       "6       False          False          False  False   False  False  False   \n",
       "7       False          False          False  False   False  False  False   \n",
       "8       False          False          False  False   False  False  False   \n",
       "9       False          False          False  False   False  False  False   \n",
       "10      False          False          False  False   False  False  False   \n",
       "11      False          False          False  False   False  False  False   \n",
       "\n",
       "    colour   show  \n",
       "0    False  False  \n",
       "1    False  False  \n",
       "2    False  False  \n",
       "3    False  False  \n",
       "4    False  False  \n",
       "5    False  False  \n",
       "6    False  False  \n",
       "7    False  False  \n",
       "8    False  False  \n",
       "9    False  False  \n",
       "10   False  False  \n",
       "11   False  False  "
      ]
     },
     "execution_count": 28,
     "metadata": {},
     "output_type": "execute_result"
    }
   ],
   "source": [
    "# Code here\n",
    "df.isna()"
   ]
  },
  {
   "cell_type": "markdown",
   "id": "2eeb562a-8e81-41d5-ba27-16f317e69d89",
   "metadata": {},
   "source": [
    "## Apply a function to a DataFrame : ``isna().sum()``\n",
    "\n",
    "The ``.sum()`` method performs a sum on an entire DataFrame. When performing sums, boolean values are treated as 1 if they're ``True`` and 0 if they're ``False``."
   ]
  },
  {
   "cell_type": "code",
   "execution_count": 31,
   "id": "0aaf90c2-551b-4179-99c2-24a5c33efe96",
   "metadata": {
    "tags": []
   },
   "outputs": [
    {
     "data": {
      "text/plain": [
       "letter          0\n",
       "fruit           1\n",
       "value           1\n",
       "numbers_list    0\n",
       "date            0\n",
       "dtype: int64"
      ]
     },
     "execution_count": 31,
     "metadata": {},
     "output_type": "execute_result"
    }
   ],
   "source": [
    "fake_df.isna().sum()"
   ]
  },
  {
   "cell_type": "markdown",
   "id": "9edea25a-e192-4601-9b7d-2330709c1dea",
   "metadata": {},
   "source": [
    "**>>>** How many missing values in our DataFrame ?"
   ]
  },
  {
   "cell_type": "code",
   "execution_count": 32,
   "id": "3b9b8df2-a36e-4e29-bea0-1970528a7c68",
   "metadata": {
    "tags": []
   },
   "outputs": [
    {
     "data": {
      "text/plain": [
       "time             0\n",
       "country          0\n",
       "population       0\n",
       "pop_clean        0\n",
       "educ_years       0\n",
       "salary           0\n",
       "siblings         0\n",
       "age_group        0\n",
       "father_degree    0\n",
       "mother_degree    0\n",
       "size             0\n",
       "gender           0\n",
       "pets             0\n",
       "sport            0\n",
       "colour           0\n",
       "show             0\n",
       "dtype: int64"
      ]
     },
     "execution_count": 32,
     "metadata": {},
     "output_type": "execute_result"
    }
   ],
   "source": [
    "# Code here!\n",
    "df.isna().sum()"
   ]
  },
  {
   "cell_type": "markdown",
   "id": "1486a434-ceae-4d7d-9a0d-05583385e4dd",
   "metadata": {},
   "source": [
    "# Series\n",
    "\n",
    "The output generated by ``.isna().sum()`` is called a Series. A Series is a one-dimensional labeled array-like data structure, it is sometimes referred as \"column\". A Series consists of two main components:\n",
    "\n",
    "- **Values**: This is the actual values contained in the Series, which can be of any data type such as integers, floats, strings, or more complex types.\n",
    "\n",
    "- **Index**: An index is a label or identifier associated with each data point in the Series.\n",
    "\n",
    "DataFrames are a collection of Series, so if you slice your DataFrame using the name of the columns, you'll also get Series."
   ]
  },
  {
   "cell_type": "code",
   "execution_count": 33,
   "id": "422f6c3a-3511-49b8-9b04-e9d68fd33256",
   "metadata": {
    "tags": []
   },
   "outputs": [
    {
     "data": {
      "text/plain": [
       "0     A\n",
       "1     A\n",
       "2     B\n",
       "3     B\n",
       "4     C\n",
       "5     D\n",
       "6     D\n",
       "7     D\n",
       "8     D\n",
       "9     D\n",
       "10    E\n",
       "Name: letter, dtype: object"
      ]
     },
     "execution_count": 33,
     "metadata": {},
     "output_type": "execute_result"
    }
   ],
   "source": [
    "fake_df['letter']"
   ]
  },
  {
   "cell_type": "markdown",
   "id": "4c3f3b17-16e0-46e8-ae70-24241c19ae64",
   "metadata": {},
   "source": [
    "You can tell it's a Series because there's only one dimension, and, unlike a DataFrame, the output is plain text."
   ]
  },
  {
   "cell_type": "markdown",
   "id": "b85eccab-2620-4866-b255-4ac11cc4d59c",
   "metadata": {},
   "source": [
    "**>>>** Slice the column \"country\" from your DataFrame and display the corresponding Series."
   ]
  },
  {
   "cell_type": "code",
   "execution_count": 34,
   "id": "7d08193a-3eeb-4115-b30c-c48ba89887d4",
   "metadata": {
    "tags": []
   },
   "outputs": [
    {
     "data": {
      "text/plain": [
       "0        China\n",
       "1        China\n",
       "2       France\n",
       "3      Armenia\n",
       "4     Lebanon \n",
       "5        Iran \n",
       "6      Morocco\n",
       "7      Lebanon\n",
       "8        china\n",
       "9      Sweden \n",
       "10     Sweden \n",
       "11      france\n",
       "Name: country, dtype: object"
      ]
     },
     "execution_count": 34,
     "metadata": {},
     "output_type": "execute_result"
    }
   ],
   "source": [
    "# Code here!\n",
    "df['country']"
   ]
  },
  {
   "cell_type": "markdown",
   "id": "efec20ba-9c90-4cc1-9f84-910ed3767572",
   "metadata": {},
   "source": [
    "## Creating or replacing Series\n",
    "\n",
    "Just like a dictionnary, to create or replace a Series you just have to assign it a variable (list, dict...).\n",
    "\n",
    "```python\n",
    "df['my_new_series'] = my_iterable\n",
    "```"
   ]
  },
  {
   "cell_type": "markdown",
   "id": "2bec7a2c-6700-44cd-9e68-c0e20da92616",
   "metadata": {},
   "source": [
    "# Dealing with data"
   ]
  },
  {
   "cell_type": "markdown",
   "id": "b4dfd94a-8ab9-41f8-ac2d-647fea81da7a",
   "metadata": {},
   "source": [
    "## The Series \"Time\"\n",
    "\n",
    "### Right format\n",
    "\n",
    "Our \"df\" and \"fake_df\" both contain dates. However if you take a look at it, they're only strings, not dates yet.\n",
    "\n",
    "We're going to create a new Series which will contain datetime objects. Using datetime objects will allow us to plot and perform operations on them.\n",
    "\n",
    "In order to do so, we can use the function ``pd.to_datetime()`` which will convert our strings to the right format. Sometimes Pandas will be able to infer automatically the date format. But in this case the strings are not standards so we need to pass a *strftime* (string format time) to the parameter \"format\" to tell Python what's the format date."
   ]
  },
  {
   "cell_type": "code",
   "execution_count": 37,
   "id": "674139db-c83a-400e-abb6-6b69efa530ba",
   "metadata": {
    "tags": []
   },
   "outputs": [
    {
     "data": {
      "text/plain": [
       "0    1988-03-24 23:45:35\n",
       "1    1978-04-09 09:57:31\n",
       "2    2023-10-01 12:51:43\n",
       "3    2015-07-26 14:07:35\n",
       "4    2003-08-01 17:15:22\n",
       "5    2012-02-25 17:42:20\n",
       "6    2008-05-17 00:12:44\n",
       "7    2012-12-12 11:07:57\n",
       "8    1982-12-28 09:16:12\n",
       "9    1949-08-03 02:37:01\n",
       "10   1955-04-02 13:06:51\n",
       "Name: date, dtype: datetime64[ns]"
      ]
     },
     "execution_count": 37,
     "metadata": {},
     "output_type": "execute_result"
    }
   ],
   "source": [
    "pd.to_datetime(fake_df['date'], format='%Hh:%Mm:%Ss %d-%b-%Y')"
   ]
  },
  {
   "cell_type": "code",
   "execution_count": 38,
   "id": "0ff993a2-f00b-4a0a-ac31-15b504cc433d",
   "metadata": {
    "tags": []
   },
   "outputs": [],
   "source": [
    "# Once we're happy with the result, let's create a new Series\n",
    "# that will contain the date in the right format\n",
    "fake_df['datetime'] = pd.to_datetime(fake_df['date'], format='%Hh:%Mm:%Ss %d-%b-%Y')"
   ]
  },
  {
   "cell_type": "code",
   "execution_count": 39,
   "id": "cb025ab2-2fec-448a-96de-66bd76f75022",
   "metadata": {
    "tags": []
   },
   "outputs": [
    {
     "data": {
      "text/plain": [
       "Timestamp('1993-09-13 03:16:26.454545536')"
      ]
     },
     "execution_count": 39,
     "metadata": {},
     "output_type": "execute_result"
    }
   ],
   "source": [
    "# We can now perform operations on this Series\n",
    "fake_df['datetime'].mean()"
   ]
  },
  {
   "cell_type": "markdown",
   "id": "32195bea-4c5b-40f4-96ba-19ad5e10d26f",
   "metadata": {},
   "source": [
    "**>>>** Change the type of the Series `df['time']` with the function `pd.to_datetime()` and the right *strftime*. Then create a new series named \"datetime\" that will contain the dates.\n",
    "\n",
    "To better understand how a *strftime* is used, move the edit cursor inside the function's name, then press \"shift+tab\". It will open the \"doc string\" which contains a lot of useful informations. There's a link inside the \"format\" section, follow the link, it will take you to the pandas documentation."
   ]
  },
  {
   "cell_type": "code",
   "execution_count": 50,
   "id": "46291f50-0aa4-4413-bdef-6ed6d48259cc",
   "metadata": {
    "tags": []
   },
   "outputs": [
    {
     "name": "stdout",
     "output_type": "stream",
     "text": [
      "2023/09/15 11:45:35 PM UTC+3\n"
     ]
    },
    {
     "data": {
      "text/plain": [
       "0    2023-09-15 23:45:35\n",
       "1    2023-09-16 09:57:31\n",
       "2    2023-09-16 12:51:43\n",
       "3    2023-09-16 14:07:35\n",
       "4    2023-09-16 17:15:22\n",
       "5    2023-09-16 17:42:20\n",
       "6    2023-09-17 00:12:44\n",
       "7    2023-09-17 13:06:51\n",
       "8    2023-09-17 13:31:23\n",
       "9    2023-09-18 09:02:32\n",
       "10   2023-09-18 13:02:07\n",
       "11   2023-09-24 20:59:13\n",
       "Name: time, dtype: datetime64[ns]"
      ]
     },
     "execution_count": 50,
     "metadata": {},
     "output_type": "execute_result"
    }
   ],
   "source": [
    "print(df['time'][0]) # Checking what the first line looks like\n",
    "# Code here!\n",
    "pd.to_datetime(df['time'], format=\"%Y/%m/%d %I:%M:%S %p UTC+3\")"
   ]
  },
  {
   "cell_type": "code",
   "execution_count": null,
   "id": "2567d7ca-4234-4036-99f6-ddb5a9cb3af7",
   "metadata": {},
   "outputs": [],
   "source": [
    "# Replacing the old Series with the new one!\n",
    "df['time'] = pd.to_datetime(df['time'], format=\"%Y/%m/%d %I:%M:%S %p UTC+3\")"
   ]
  },
  {
   "cell_type": "markdown",
   "id": "23040353-8deb-4fe8-b8fe-e2e08b2677cb",
   "metadata": {},
   "source": [
    "### Dropping a Series\n",
    "\n",
    "We don't need anymore our old Series \"date\". There are several ways to \"drop\" (erase) a Series from your DataFrame, one of the easiest is just:"
   ]
  },
  {
   "cell_type": "code",
   "execution_count": 52,
   "id": "60751b9e-d3a5-4e1d-9a7b-595844fe3173",
   "metadata": {
    "tags": []
   },
   "outputs": [
    {
     "data": {
      "text/html": [
       "<div>\n",
       "<style scoped>\n",
       "    .dataframe tbody tr th:only-of-type {\n",
       "        vertical-align: middle;\n",
       "    }\n",
       "\n",
       "    .dataframe tbody tr th {\n",
       "        vertical-align: top;\n",
       "    }\n",
       "\n",
       "    .dataframe thead th {\n",
       "        text-align: right;\n",
       "    }\n",
       "</style>\n",
       "<table border=\"1\" class=\"dataframe\">\n",
       "  <thead>\n",
       "    <tr style=\"text-align: right;\">\n",
       "      <th></th>\n",
       "      <th>letter</th>\n",
       "      <th>fruit</th>\n",
       "      <th>value</th>\n",
       "      <th>numbers_list</th>\n",
       "      <th>datetime</th>\n",
       "    </tr>\n",
       "  </thead>\n",
       "  <tbody>\n",
       "    <tr>\n",
       "      <th>0</th>\n",
       "      <td>A</td>\n",
       "      <td>Apple</td>\n",
       "      <td>0.290</td>\n",
       "      <td>74-23-25</td>\n",
       "      <td>1988-03-24 23:45:35</td>\n",
       "    </tr>\n",
       "    <tr>\n",
       "      <th>1</th>\n",
       "      <td>A</td>\n",
       "      <td>Apple</td>\n",
       "      <td>-3.319</td>\n",
       "      <td>66-25-9</td>\n",
       "      <td>1978-04-09 09:57:31</td>\n",
       "    </tr>\n",
       "    <tr>\n",
       "      <th>2</th>\n",
       "      <td>B</td>\n",
       "      <td>Banana</td>\n",
       "      <td>-777.490</td>\n",
       "      <td>46-11-40</td>\n",
       "      <td>2023-10-01 12:51:43</td>\n",
       "    </tr>\n",
       "    <tr>\n",
       "      <th>3</th>\n",
       "      <td>B</td>\n",
       "      <td>NaN</td>\n",
       "      <td>433.780</td>\n",
       "      <td>86-66-90</td>\n",
       "      <td>2015-07-26 14:07:35</td>\n",
       "    </tr>\n",
       "    <tr>\n",
       "      <th>4</th>\n",
       "      <td>C</td>\n",
       "      <td>Apple</td>\n",
       "      <td>588.780</td>\n",
       "      <td>58-1-97</td>\n",
       "      <td>2003-08-01 17:15:22</td>\n",
       "    </tr>\n",
       "    <tr>\n",
       "      <th>5</th>\n",
       "      <td>D</td>\n",
       "      <td>Orange</td>\n",
       "      <td>87881.060</td>\n",
       "      <td>58-5-99</td>\n",
       "      <td>2012-02-25 17:42:20</td>\n",
       "    </tr>\n",
       "    <tr>\n",
       "      <th>6</th>\n",
       "      <td>D</td>\n",
       "      <td>Peach</td>\n",
       "      <td>359.920</td>\n",
       "      <td>87-21-72</td>\n",
       "      <td>2008-05-17 00:12:44</td>\n",
       "    </tr>\n",
       "    <tr>\n",
       "      <th>7</th>\n",
       "      <td>D</td>\n",
       "      <td>Banana</td>\n",
       "      <td>-425.890</td>\n",
       "      <td>1-73-4</td>\n",
       "      <td>2012-12-12 11:07:57</td>\n",
       "    </tr>\n",
       "    <tr>\n",
       "      <th>8</th>\n",
       "      <td>D</td>\n",
       "      <td>Kiwi</td>\n",
       "      <td>667.920</td>\n",
       "      <td>45-62-96</td>\n",
       "      <td>1982-12-28 09:16:12</td>\n",
       "    </tr>\n",
       "    <tr>\n",
       "      <th>9</th>\n",
       "      <td>D</td>\n",
       "      <td>Strawberry</td>\n",
       "      <td>NaN</td>\n",
       "      <td>41-65-59</td>\n",
       "      <td>1949-08-03 02:37:01</td>\n",
       "    </tr>\n",
       "    <tr>\n",
       "      <th>10</th>\n",
       "      <td>E</td>\n",
       "      <td>Banana</td>\n",
       "      <td>-79761.720</td>\n",
       "      <td>45-50-64</td>\n",
       "      <td>1955-04-02 13:06:51</td>\n",
       "    </tr>\n",
       "  </tbody>\n",
       "</table>\n",
       "</div>"
      ],
      "text/plain": [
       "   letter       fruit      value numbers_list            datetime\n",
       "0       A       Apple      0.290     74-23-25 1988-03-24 23:45:35\n",
       "1       A       Apple     -3.319      66-25-9 1978-04-09 09:57:31\n",
       "2       B      Banana   -777.490     46-11-40 2023-10-01 12:51:43\n",
       "3       B         NaN    433.780     86-66-90 2015-07-26 14:07:35\n",
       "4       C       Apple    588.780      58-1-97 2003-08-01 17:15:22\n",
       "5       D      Orange  87881.060      58-5-99 2012-02-25 17:42:20\n",
       "6       D       Peach    359.920     87-21-72 2008-05-17 00:12:44\n",
       "7       D      Banana   -425.890       1-73-4 2012-12-12 11:07:57\n",
       "8       D        Kiwi    667.920     45-62-96 1982-12-28 09:16:12\n",
       "9       D  Strawberry        NaN     41-65-59 1949-08-03 02:37:01\n",
       "10      E      Banana -79761.720     45-50-64 1955-04-02 13:06:51"
      ]
     },
     "execution_count": 52,
     "metadata": {},
     "output_type": "execute_result"
    }
   ],
   "source": [
    "fake_df.drop(columns='date')"
   ]
  },
  {
   "cell_type": "code",
   "execution_count": null,
   "id": "4608925c-518b-4335-9910-40933ed2bff2",
   "metadata": {},
   "outputs": [],
   "source": [
    "# We're happy with the result\n",
    "# So let's replace the old df with the new one\n",
    "fake_df = fake_df.drop(columns='date')"
   ]
  },
  {
   "cell_type": "markdown",
   "id": "b4b49092-3b4d-422e-9b81-f148137a7fd0",
   "metadata": {},
   "source": [
    "**/!\\ WATCH OUT !** This time we're not replacing or creating a **Series** we're replacing the whole DataFrame !\n",
    "\n",
    "- You can get confused very easily. Luckily if you make a mistake, it's also very easy to go back and re-run the cells.\n",
    "- If you have several columns to drop, you can give to the method `.drop()` a list of columns."
   ]
  },
  {
   "cell_type": "markdown",
   "id": "e3e5037c-2c60-45ad-a5c3-27d79559ae87",
   "metadata": {},
   "source": [
    "## The Series \"Country\""
   ]
  },
  {
   "cell_type": "code",
   "execution_count": 53,
   "id": "73cae2df-f2a5-4e76-b041-beaf19ff121f",
   "metadata": {
    "tags": []
   },
   "outputs": [
    {
     "data": {
      "text/plain": [
       "0        China\n",
       "1        China\n",
       "2       France\n",
       "3      Armenia\n",
       "4     Lebanon \n",
       "5        Iran \n",
       "6      Morocco\n",
       "7      Lebanon\n",
       "8        china\n",
       "9      Sweden \n",
       "10     Sweden \n",
       "11      france\n",
       "Name: country, dtype: object"
      ]
     },
     "execution_count": 53,
     "metadata": {},
     "output_type": "execute_result"
    }
   ],
   "source": [
    "df['country']"
   ]
  },
  {
   "cell_type": "markdown",
   "id": "393d1c70-4fe1-41d7-91b4-462c349a2fb9",
   "metadata": {
    "tags": []
   },
   "source": [
    "### Plotting the data\n",
    "\n",
    "To get a better grasp at a Series, we can plot them using the method ``.plot()``. It works fine on numerical values."
   ]
  },
  {
   "cell_type": "code",
   "execution_count": 57,
   "id": "27473c25-1c35-4ea5-862d-29917c20a36b",
   "metadata": {
    "tags": []
   },
   "outputs": [
    {
     "data": {
      "image/png": "[encoded data removed]",
      "text/plain": [
       "<Figure size 640x480 with 1 Axes>"
      ]
     },
     "metadata": {},
     "output_type": "display_data"
    }
   ],
   "source": [
    "fake_df['value'].plot(); # Adding a semicolon removes useless legend"
   ]
  },
  {
   "cell_type": "markdown",
   "id": "55a45456-48e0-4778-95c0-4c5ddb39c375",
   "metadata": {},
   "source": [
    "But if we apply the same function on a categorical column, it will return an error:"
   ]
  },
  {
   "cell_type": "code",
   "execution_count": 59,
   "id": "c214dc31-d092-4646-93b7-74022480535e",
   "metadata": {
    "tags": []
   },
   "outputs": [],
   "source": [
    "# Yields an error!\n",
    "#df['country'].plot()"
   ]
  },
  {
   "cell_type": "markdown",
   "id": "6d83d280-4015-4692-ad72-3a3845492635",
   "metadata": {},
   "source": [
    "### The method ``value_counts()``\n",
    "\n",
    "This method is very useful, it takes as input almost any Series and return a new Series which displays the number of occurrences for each elements."
   ]
  },
  {
   "cell_type": "code",
   "execution_count": 61,
   "id": "86111589-bc5f-4422-9460-f0dbec980e47",
   "metadata": {
    "tags": []
   },
   "outputs": [
    {
     "data": {
      "text/plain": [
       "0     A\n",
       "1     A\n",
       "2     B\n",
       "3     B\n",
       "4     C\n",
       "5     D\n",
       "6     D\n",
       "7     D\n",
       "8     D\n",
       "9     D\n",
       "10    E\n",
       "Name: letter, dtype: object"
      ]
     },
     "execution_count": 61,
     "metadata": {},
     "output_type": "execute_result"
    }
   ],
   "source": [
    "fake_df['letter']"
   ]
  },
  {
   "cell_type": "code",
   "execution_count": 60,
   "id": "38a5d18a-5fcf-4546-b77a-a0321edf758a",
   "metadata": {
    "tags": []
   },
   "outputs": [
    {
     "data": {
      "text/plain": [
       "letter\n",
       "D    5\n",
       "A    2\n",
       "B    2\n",
       "C    1\n",
       "E    1\n",
       "Name: count, dtype: int64"
      ]
     },
     "execution_count": 60,
     "metadata": {},
     "output_type": "execute_result"
    }
   ],
   "source": [
    "fake_df['letter'].value_counts()"
   ]
  },
  {
   "cell_type": "markdown",
   "id": "d7adca6f-3101-405f-b49a-05d5bdcef9ae",
   "metadata": {},
   "source": [
    "**>>>** Use the ``.value_counts()`` method to plot the \"Country\" Series."
   ]
  },
  {
   "cell_type": "code",
   "execution_count": 64,
   "id": "aeb0622c-0a33-44cf-8b76-3db072e1e46c",
   "metadata": {
    "tags": []
   },
   "outputs": [
    {
     "data": {
      "image/png": "[encoded data removed]",
      "text/plain": [
       "<Figure size 640x480 with 1 Axes>"
      ]
     },
     "metadata": {},
     "output_type": "display_data"
    }
   ],
   "source": [
    "# Code here!\n",
    "df['country'].value_counts().plot();"
   ]
  },
  {
   "cell_type": "markdown",
   "id": "b9f5c55b-b7dd-458d-8d2e-37b9d6910d00",
   "metadata": {},
   "source": [
    "**>>>** This works, but it's not ideal. Check the [online documentation](https://pandas.pydata.org/docs/reference/api/pandas.DataFrame.plot.html) and give better arguments to the parameters of the `.plot()` method in order to display a useful graph. You're probably going to use the parameter \"kind\", and maybe \"rot\"."
   ]
  },
  {
   "cell_type": "code",
   "execution_count": 66,
   "id": "f63bfa99-5012-4fcb-96bc-bcfb5412889f",
   "metadata": {
    "tags": []
   },
   "outputs": [
    {
     "data": {
      "image/png": "[encoded data removed]",
      "text/plain": [
       "<Figure size 640x480 with 1 Axes>"
      ]
     },
     "metadata": {},
     "output_type": "display_data"
    }
   ],
   "source": [
    "# code here!\n",
    "df['country'].value_counts().plot(kind=\"bar\");"
   ]
  },
  {
   "cell_type": "markdown",
   "id": "f9eb6d04-dd16-4305-a2dd-88f735539863",
   "metadata": {},
   "source": [
    "### Country capitalization\n",
    "\n",
    "As you can see some country names start with a capital letter, and some others are lower-case. Pandas provides many functions to work with strings. They are in a sub-library called \"str\". For example:"
   ]
  },
  {
   "cell_type": "code",
   "execution_count": 67,
   "id": "ae70196c-4f89-4140-b3de-6f06c8f706e8",
   "metadata": {
    "tags": []
   },
   "outputs": [
    {
     "data": {
      "text/plain": [
       "0     a\n",
       "1     a\n",
       "2     b\n",
       "3     b\n",
       "4     c\n",
       "5     d\n",
       "6     d\n",
       "7     d\n",
       "8     d\n",
       "9     d\n",
       "10    e\n",
       "Name: letter, dtype: object"
      ]
     },
     "execution_count": 67,
     "metadata": {},
     "output_type": "execute_result"
    }
   ],
   "source": [
    "fake_df['letter'].str.lower()"
   ]
  },
  {
   "cell_type": "code",
   "execution_count": 68,
   "id": "96e4e9ab-f272-401b-b74f-3f710b4fbab6",
   "metadata": {
    "tags": []
   },
   "outputs": [
    {
     "data": {
      "text/plain": [
       "0                                  A\n",
       "1                                  A\n",
       "2                                  B\n",
       "3                                  B\n",
       "4                                  C\n",
       "5     The function can also be used!\n",
       "6     The function can also be used!\n",
       "7     The function can also be used!\n",
       "8     The function can also be used!\n",
       "9     The function can also be used!\n",
       "10                                 E\n",
       "Name: letter, dtype: object"
      ]
     },
     "execution_count": 68,
     "metadata": {},
     "output_type": "execute_result"
    }
   ],
   "source": [
    "fake_df['letter'].str.replace(\"D\", \"The function can also be used!\")"
   ]
  },
  {
   "cell_type": "markdown",
   "id": "d298cabe-f531-4092-b2c5-5596b403b031",
   "metadata": {},
   "source": [
    "**>>>** Capitalize the strings inside the Series \"Country\". When it's done, replace the old Series with the new one and plot the data again."
   ]
  },
  {
   "cell_type": "code",
   "execution_count": 71,
   "id": "ca1c49ad-3c75-44f4-8b3b-6442d98a40cc",
   "metadata": {
    "tags": []
   },
   "outputs": [
    {
     "data": {
      "text/plain": [
       "0       China\n",
       "1       China\n",
       "2      France\n",
       "3     Armenia\n",
       "4     Lebanon\n",
       "5        Iran\n",
       "6     Morocco\n",
       "7     Lebanon\n",
       "8       China\n",
       "9      Sweden\n",
       "10     Sweden\n",
       "11     France\n",
       "Name: country, dtype: object"
      ]
     },
     "execution_count": 71,
     "metadata": {},
     "output_type": "execute_result"
    }
   ],
   "source": [
    "# Code here!\n",
    "df['country'].str.capitalize().str.strip()"
   ]
  },
  {
   "cell_type": "code",
   "execution_count": 72,
   "id": "794b6d35-7e51-44ed-96bb-5d35b24715b7",
   "metadata": {
    "tags": []
   },
   "outputs": [],
   "source": [
    "# We're happy, let's modify the Series \"Country\"\n",
    "df['country'] = df['country'].str.capitalize().str.strip()"
   ]
  },
  {
   "cell_type": "code",
   "execution_count": null,
   "id": "23432584-ecde-4147-90cd-2d0434d017a6",
   "metadata": {},
   "outputs": [],
   "source": [
    "df.plot()"
   ]
  },
  {
   "cell_type": "code",
   "execution_count": 97,
   "id": "33849da7-3894-4264-b2d2-2e7dc070754e",
   "metadata": {
    "tags": []
   },
   "outputs": [
    {
     "data": {
      "image/png": "[encoded data removed]",
      "text/plain": [
       "<Figure size 640x480 with 1 Axes>"
      ]
     },
     "metadata": {},
     "output_type": "display_data"
    }
   ],
   "source": [
    "df['country'].value_counts().plot(kind='pie', ylabel='', autopct='%.2f');"
   ]
  },
  {
   "cell_type": "markdown",
   "id": "e26f29a0-9c32-472f-8459-0fad19d5b462",
   "metadata": {},
   "source": [
    "## The Series \"Pop_clean\"\n",
    "\n",
    "### Plotting data\n",
    "\n",
    "You can plot a Series like this:"
   ]
  },
  {
   "cell_type": "code",
   "execution_count": 98,
   "id": "74298d98-4918-4796-a239-b7c04479b0c8",
   "metadata": {
    "tags": []
   },
   "outputs": [
    {
     "data": {
      "text/plain": [
       "0         0.290\n",
       "1        -3.319\n",
       "2      -777.490\n",
       "3       433.780\n",
       "4       588.780\n",
       "5     87881.060\n",
       "6       359.920\n",
       "7      -425.890\n",
       "8       667.920\n",
       "9           NaN\n",
       "10   -79761.720\n",
       "Name: value, dtype: float64"
      ]
     },
     "execution_count": 98,
     "metadata": {},
     "output_type": "execute_result"
    }
   ],
   "source": [
    "fake_df['value']"
   ]
  },
  {
   "cell_type": "code",
   "execution_count": 101,
   "id": "f67981ba-e1ca-414a-8476-afd0cd02c821",
   "metadata": {
    "tags": []
   },
   "outputs": [
    {
     "data": {
      "image/png": "[encoded data removed]",
      "text/plain": [
       "<Figure size 640x480 with 1 Axes>"
      ]
     },
     "metadata": {},
     "output_type": "display_data"
    }
   ],
   "source": [
    "fake_df['value'].plot(kind='bar');"
   ]
  },
  {
   "cell_type": "markdown",
   "id": "8e8fec7d-abd7-47a2-ba9b-2dd2e9e32da6",
   "metadata": {},
   "source": [
    "But the xticks are the index of our DataFrame. Let's plot some values as \"y\" and some categorical values as \"x\". In order to do this, you can use ``.plot()`` directly on a DataFrame, allowing you to manipulate multiple Series easily."
   ]
  },
  {
   "cell_type": "code",
   "execution_count": 102,
   "id": "3050d33a-eee0-471c-8237-987faf10ecb5",
   "metadata": {
    "tags": []
   },
   "outputs": [
    {
     "data": {
      "image/png": "[encoded data removed]",
      "text/plain": [
       "<Figure size 640x480 with 1 Axes>"
      ]
     },
     "metadata": {},
     "output_type": "display_data"
    }
   ],
   "source": [
    "fake_df.plot(x='letter', y='value', kind='bar');"
   ]
  },
  {
   "cell_type": "markdown",
   "id": "0cd516fa-4445-4e16-af3e-55d600c9f9a1",
   "metadata": {
    "tags": []
   },
   "source": [
    "**>>>** Plot both the Series 'pop_clean' and 'country' on the same graph."
   ]
  },
  {
   "cell_type": "code",
   "execution_count": 104,
   "id": "5f947f80-bd8e-4e1b-960f-0013e1e01103",
   "metadata": {
    "tags": []
   },
   "outputs": [
    {
     "data": {
      "image/png": "[encoded data removed]",
      "text/plain": [
       "<Figure size 640x480 with 1 Axes>"
      ]
     },
     "metadata": {},
     "output_type": "display_data"
    }
   ],
   "source": [
    "# Code here!\n",
    "df.plot(x='country', y='pop_clean', kind='bar');"
   ]
  },
  {
   "cell_type": "markdown",
   "id": "db477883-c846-4418-b868-f01728a5bcfd",
   "metadata": {},
   "source": [
    "### Operations on numeric data\n",
    "\n",
    "The Series **'value'** in *fake_df* and **'pop_clean'** in *df* are both numerical data. Meaning you can apply many different statistical functions on them:"
   ]
  },
  {
   "cell_type": "code",
   "execution_count": 105,
   "id": "9f2fcb0e-9217-4e51-a206-1b78e642dff8",
   "metadata": {
    "tags": []
   },
   "outputs": [
    {
     "data": {
      "text/plain": [
       "0         0.290\n",
       "1        -3.319\n",
       "2      -777.490\n",
       "3       433.780\n",
       "4       588.780\n",
       "5     87881.060\n",
       "6       359.920\n",
       "7      -425.890\n",
       "8       667.920\n",
       "9           NaN\n",
       "10   -79761.720\n",
       "Name: value, dtype: float64"
      ]
     },
     "execution_count": 105,
     "metadata": {},
     "output_type": "execute_result"
    }
   ],
   "source": [
    "fake_df['value']"
   ]
  },
  {
   "cell_type": "code",
   "execution_count": 106,
   "id": "e9aa559c-f705-4cf8-9044-a7507e02bbad",
   "metadata": {
    "tags": []
   },
   "outputs": [
    {
     "data": {
      "text/plain": [
       "896.3330999999991"
      ]
     },
     "execution_count": 106,
     "metadata": {},
     "output_type": "execute_result"
    }
   ],
   "source": [
    "fake_df['value'].mean()"
   ]
  },
  {
   "cell_type": "code",
   "execution_count": 107,
   "id": "51097083-14fb-4d0a-b5f9-a43a347f52eb",
   "metadata": {
    "tags": []
   },
   "outputs": [
    {
     "data": {
      "text/plain": [
       "180.10500000000002"
      ]
     },
     "execution_count": 107,
     "metadata": {},
     "output_type": "execute_result"
    }
   ],
   "source": [
    "fake_df['value'].median()"
   ]
  },
  {
   "cell_type": "code",
   "execution_count": 108,
   "id": "d97435c2-3e68-4556-86d7-d15463bd155a",
   "metadata": {
    "tags": []
   },
   "outputs": [
    {
     "data": {
      "text/plain": [
       "count       10.000000\n",
       "mean       896.333100\n",
       "std      39551.478304\n",
       "min     -79761.720000\n",
       "25%       -320.247250\n",
       "50%        180.105000\n",
       "75%        550.030000\n",
       "max      87881.060000\n",
       "Name: value, dtype: float64"
      ]
     },
     "execution_count": 108,
     "metadata": {},
     "output_type": "execute_result"
    }
   ],
   "source": [
    "fake_df['value'].describe()"
   ]
  },
  {
   "cell_type": "markdown",
   "id": "a4ad4ae9-2cbc-43d2-802d-ad9b0007ff00",
   "metadata": {},
   "source": [
    "**>>>** Have a look at basics statistics on the \"pop_clean\" data. You can use the function `.astype(int)` to convert the result to integers."
   ]
  },
  {
   "cell_type": "code",
   "execution_count": 114,
   "id": "646d00bc-4119-4799-a9c0-e4748cededa7",
   "metadata": {
    "tags": []
   },
   "outputs": [
    {
     "data": {
      "text/plain": [
       "count              12.00\n",
       "mean      374_136_670.33\n",
       "std       619_248_645.31\n",
       "min         2_800_000.00\n",
       "25%         9_000_000.00\n",
       "50%        51_920_022.00\n",
       "75%       413_750_000.00\n",
       "max     1_400_000_000.00\n",
       "Name: pop_clean, dtype: float64"
      ]
     },
     "execution_count": 114,
     "metadata": {},
     "output_type": "execute_result"
    }
   ],
   "source": [
    "# Code here!\n",
    "df['pop_clean'].describe()#.astype(int)"
   ]
  },
  {
   "cell_type": "markdown",
   "id": "6d0b2c6e-5220-42f5-b620-76351acc174c",
   "metadata": {},
   "source": [
    "### Displaying large float numbers\n",
    "\n",
    "When working with large float numbers, it might be useful to change the way Pandas display them. For example :"
   ]
  },
  {
   "cell_type": "code",
   "execution_count": 113,
   "id": "e7149278-88b0-4ded-bfbd-784591bcd6ea",
   "metadata": {
    "tags": []
   },
   "outputs": [],
   "source": [
    "# We create a function that will add commas as thousands separator,\n",
    "# and then replace_them with an underscore,\n",
    "# also it only takes up to 2 digits now.\n",
    "def thousands_separator(x):\n",
    "    return '{:_.2f}'.format(x)\n",
    "pd.set_option('display.float_format', thousands_separator)"
   ]
  },
  {
   "cell_type": "markdown",
   "id": "f566242a-2c92-44c2-81ca-fcede5777350",
   "metadata": {},
   "source": [
    "## The \"educ_years\" Series"
   ]
  },
  {
   "cell_type": "markdown",
   "id": "1ffde556-ecac-4fff-8b29-39a7631ff8b4",
   "metadata": {},
   "source": [
    "We can apply the method ``.sort_index()`` on a Series to reorganise the index, which is useful to better visualize results or to plot data."
   ]
  },
  {
   "cell_type": "code",
   "execution_count": 115,
   "id": "ac87eb63-2201-43d1-8ebd-3118e9223df8",
   "metadata": {
    "tags": []
   },
   "outputs": [
    {
     "data": {
      "text/plain": [
       "letter\n",
       "D    5\n",
       "A    2\n",
       "B    2\n",
       "C    1\n",
       "E    1\n",
       "Name: count, dtype: int64"
      ]
     },
     "execution_count": 115,
     "metadata": {},
     "output_type": "execute_result"
    }
   ],
   "source": [
    "fake_df['letter'].value_counts()"
   ]
  },
  {
   "cell_type": "code",
   "execution_count": 116,
   "id": "21a7669a-90db-4596-b290-d5f72480cf4c",
   "metadata": {
    "tags": []
   },
   "outputs": [
    {
     "data": {
      "text/plain": [
       "letter\n",
       "A    2\n",
       "B    2\n",
       "C    1\n",
       "D    5\n",
       "E    1\n",
       "Name: count, dtype: int64"
      ]
     },
     "execution_count": 116,
     "metadata": {},
     "output_type": "execute_result"
    }
   ],
   "source": [
    "fake_df['letter'].value_counts().sort_index()"
   ]
  },
  {
   "cell_type": "code",
   "execution_count": 117,
   "id": "a09211c1-48e2-4bfd-9181-f0a4addc6ff2",
   "metadata": {
    "tags": []
   },
   "outputs": [
    {
     "data": {
      "text/plain": [
       "letter\n",
       "E    1\n",
       "D    5\n",
       "C    1\n",
       "B    2\n",
       "A    2\n",
       "Name: count, dtype: int64"
      ]
     },
     "execution_count": 117,
     "metadata": {},
     "output_type": "execute_result"
    }
   ],
   "source": [
    "fake_df['letter'].value_counts().sort_index(ascending=False)"
   ]
  },
  {
   "cell_type": "markdown",
   "id": "b2022ca5-7f4c-496e-aacd-478f1ada8b80",
   "metadata": {
    "tags": []
   },
   "source": [
    "**>>>** Let's take a closer look at the \"educ_years\" Series :\n",
    "- Display basic statistics.\n",
    "- Plot the \"educ_years\" Series using a \"bar\" graph.\n",
    "- Now plot it using a \"kde\" (Kernel Density Estimator) graph.\n",
    "- Use ``.value_counts()`` on the Series and plot the result.\n",
    "- Make sure your xticks are ascendant, using the using the method ``.sort_index()`` on your Series."
   ]
  },
  {
   "cell_type": "code",
   "execution_count": 119,
   "id": "7cce08c5-3acb-4e6c-a4a9-8eeac72f0a08",
   "metadata": {
    "tags": []
   },
   "outputs": [
    {
     "data": {
      "text/plain": [
       "count   12.00\n",
       "mean     5.50\n",
       "std      2.11\n",
       "min      2.00\n",
       "25%      4.00\n",
       "50%      5.00\n",
       "75%      6.25\n",
       "max     10.00\n",
       "Name: educ_years, dtype: float64"
      ]
     },
     "execution_count": 119,
     "metadata": {},
     "output_type": "execute_result"
    }
   ],
   "source": [
    "# Code here!\n",
    "df['educ_years'].describe()"
   ]
  },
  {
   "cell_type": "code",
   "execution_count": 121,
   "id": "988b6ecc-3966-41c2-bee8-156e2aed4872",
   "metadata": {
    "tags": []
   },
   "outputs": [
    {
     "data": {
      "image/png": "[encoded data removed]",
      "text/plain": [
       "<Figure size 640x480 with 1 Axes>"
      ]
     },
     "metadata": {},
     "output_type": "display_data"
    }
   ],
   "source": [
    "# Code here!\n",
    "df['educ_years'].plot(kind='bar');"
   ]
  },
  {
   "cell_type": "code",
   "execution_count": 122,
   "id": "1ef562f4-2fd4-451d-aefa-49c67995c589",
   "metadata": {
    "tags": []
   },
   "outputs": [
    {
     "data": {
      "image/png": "[encoded data removed]",
      "text/plain": [
       "<Figure size 640x480 with 1 Axes>"
      ]
     },
     "metadata": {},
     "output_type": "display_data"
    }
   ],
   "source": [
    "# Code here!\n",
    "df['educ_years'].plot(kind='kde');"
   ]
  },
  {
   "cell_type": "code",
   "execution_count": 125,
   "id": "5e6e426d-16fd-4314-8b18-a05b05417cba",
   "metadata": {
    "tags": []
   },
   "outputs": [
    {
     "data": {
      "image/png": "[encoded data removed]",
      "text/plain": [
       "<Figure size 640x480 with 1 Axes>"
      ]
     },
     "metadata": {},
     "output_type": "display_data"
    }
   ],
   "source": [
    "# Code here!\n",
    "df['educ_years'].value_counts().plot(kind='bar');"
   ]
  },
  {
   "cell_type": "code",
   "execution_count": 126,
   "id": "61ddf5ad-45d9-42b7-b211-6b4a27396189",
   "metadata": {
    "tags": []
   },
   "outputs": [
    {
     "data": {
      "image/png": "[encoded data removed]",
      "text/plain": [
       "<Figure size 640x480 with 1 Axes>"
      ]
     },
     "metadata": {},
     "output_type": "display_data"
    }
   ],
   "source": [
    "# Code here!\n",
    "df['educ_years'].value_counts().sort_index().plot(kind='bar');"
   ]
  },
  {
   "cell_type": "markdown",
   "id": "40e581f5-cd00-481c-98d5-97ab3f43a956",
   "metadata": {},
   "source": [
    "## The Series Salary\n",
    "\n",
    "### Selecting data in Pandas : ``.iloc[]`` and ``.loc[]`` methods\n",
    "\n",
    "The `.iloc[]` and ``.loc[]`` methods in Pandas are used for indexing and selecting data in DataFrames. They serve different purposes and work based on different indexing schemes:\n",
    "\n",
    "#### The ``.iloc[]`` method (Integer Location)\n",
    "\n",
    "``.iloc[]`` is primarily used for selecting data by integer position, which means you specify row and column positions numerically :\n",
    "\n",
    "- It accepts integer-based indexing for both rows and columns.\n",
    "- The indexing is zero-based, similar to Python lists.\n",
    "- You can use integers, slices, lists, or boolean arrays to select data."
   ]
  },
  {
   "cell_type": "code",
   "execution_count": 128,
   "id": "031a66ed-12d7-4fb9-bc47-3322d14ad127",
   "metadata": {
    "tags": []
   },
   "outputs": [
    {
     "data": {
      "text/html": [
       "<div>\n",
       "<style scoped>\n",
       "    .dataframe tbody tr th:only-of-type {\n",
       "        vertical-align: middle;\n",
       "    }\n",
       "\n",
       "    .dataframe tbody tr th {\n",
       "        vertical-align: top;\n",
       "    }\n",
       "\n",
       "    .dataframe thead th {\n",
       "        text-align: right;\n",
       "    }\n",
       "</style>\n",
       "<table border=\"1\" class=\"dataframe\">\n",
       "  <thead>\n",
       "    <tr style=\"text-align: right;\">\n",
       "      <th></th>\n",
       "      <th>letter</th>\n",
       "      <th>fruit</th>\n",
       "      <th>value</th>\n",
       "      <th>numbers_list</th>\n",
       "      <th>date</th>\n",
       "      <th>datetime</th>\n",
       "    </tr>\n",
       "  </thead>\n",
       "  <tbody>\n",
       "    <tr>\n",
       "      <th>0</th>\n",
       "      <td>A</td>\n",
       "      <td>Apple</td>\n",
       "      <td>0.29</td>\n",
       "      <td>74-23-25</td>\n",
       "      <td>23h:45m:35s 24-Mar-1988</td>\n",
       "      <td>1988-03-24 23:45:35</td>\n",
       "    </tr>\n",
       "  </tbody>\n",
       "</table>\n",
       "</div>"
      ],
      "text/plain": [
       "  letter  fruit  value numbers_list                     date  \\\n",
       "0      A  Apple   0.29     74-23-25  23h:45m:35s 24-Mar-1988   \n",
       "\n",
       "             datetime  \n",
       "0 1988-03-24 23:45:35  "
      ]
     },
     "execution_count": 128,
     "metadata": {},
     "output_type": "execute_result"
    }
   ],
   "source": [
    "fake_df.head(1)"
   ]
  },
  {
   "cell_type": "code",
   "execution_count": 129,
   "id": "c35f01b8-a86c-4f05-a599-6c76a0695b39",
   "metadata": {
    "tags": []
   },
   "outputs": [
    {
     "data": {
      "text/plain": [
       "letter                                A\n",
       "fruit                             Apple\n",
       "value                              0.29\n",
       "numbers_list                   74-23-25\n",
       "date            23h:45m:35s 24-Mar-1988\n",
       "datetime            1988-03-24 23:45:35\n",
       "Name: 0, dtype: object"
      ]
     },
     "execution_count": 129,
     "metadata": {},
     "output_type": "execute_result"
    }
   ],
   "source": [
    "fake_df.iloc[0]  # Select the first row\n",
    "# Note that it returns a Series, not a DataFrame."
   ]
  },
  {
   "cell_type": "code",
   "execution_count": 130,
   "id": "e50d759b-2e2b-41de-888a-ce173aec7865",
   "metadata": {
    "tags": []
   },
   "outputs": [
    {
     "data": {
      "text/html": [
       "<div>\n",
       "<style scoped>\n",
       "    .dataframe tbody tr th:only-of-type {\n",
       "        vertical-align: middle;\n",
       "    }\n",
       "\n",
       "    .dataframe tbody tr th {\n",
       "        vertical-align: top;\n",
       "    }\n",
       "\n",
       "    .dataframe thead th {\n",
       "        text-align: right;\n",
       "    }\n",
       "</style>\n",
       "<table border=\"1\" class=\"dataframe\">\n",
       "  <thead>\n",
       "    <tr style=\"text-align: right;\">\n",
       "      <th></th>\n",
       "      <th>fruit</th>\n",
       "      <th>value</th>\n",
       "    </tr>\n",
       "  </thead>\n",
       "  <tbody>\n",
       "    <tr>\n",
       "      <th>2</th>\n",
       "      <td>Banana</td>\n",
       "      <td>-777.49</td>\n",
       "    </tr>\n",
       "    <tr>\n",
       "      <th>3</th>\n",
       "      <td>NaN</td>\n",
       "      <td>433.78</td>\n",
       "    </tr>\n",
       "    <tr>\n",
       "      <th>4</th>\n",
       "      <td>Apple</td>\n",
       "      <td>588.78</td>\n",
       "    </tr>\n",
       "  </tbody>\n",
       "</table>\n",
       "</div>"
      ],
      "text/plain": [
       "    fruit   value\n",
       "2  Banana -777.49\n",
       "3     NaN  433.78\n",
       "4   Apple  588.78"
      ]
     },
     "execution_count": 130,
     "metadata": {},
     "output_type": "execute_result"
    }
   ],
   "source": [
    "fake_df.iloc[2:5, 1:3]\n",
    "# Returns a DataFrame because they are several Series."
   ]
  },
  {
   "cell_type": "code",
   "execution_count": 131,
   "id": "ec2b63cc-63f8-4005-b187-d4714da01e01",
   "metadata": {
    "tags": []
   },
   "outputs": [
    {
     "data": {
      "text/html": [
       "<div>\n",
       "<style scoped>\n",
       "    .dataframe tbody tr th:only-of-type {\n",
       "        vertical-align: middle;\n",
       "    }\n",
       "\n",
       "    .dataframe tbody tr th {\n",
       "        vertical-align: top;\n",
       "    }\n",
       "\n",
       "    .dataframe thead th {\n",
       "        text-align: right;\n",
       "    }\n",
       "</style>\n",
       "<table border=\"1\" class=\"dataframe\">\n",
       "  <thead>\n",
       "    <tr style=\"text-align: right;\">\n",
       "      <th></th>\n",
       "      <th>fruit</th>\n",
       "      <th>value</th>\n",
       "    </tr>\n",
       "  </thead>\n",
       "  <tbody>\n",
       "    <tr>\n",
       "      <th>0</th>\n",
       "      <td>Apple</td>\n",
       "      <td>0.29</td>\n",
       "    </tr>\n",
       "    <tr>\n",
       "      <th>3</th>\n",
       "      <td>NaN</td>\n",
       "      <td>433.78</td>\n",
       "    </tr>\n",
       "    <tr>\n",
       "      <th>5</th>\n",
       "      <td>Orange</td>\n",
       "      <td>87_881.06</td>\n",
       "    </tr>\n",
       "  </tbody>\n",
       "</table>\n",
       "</div>"
      ],
      "text/plain": [
       "    fruit     value\n",
       "0   Apple      0.29\n",
       "3     NaN    433.78\n",
       "5  Orange 87_881.06"
      ]
     },
     "execution_count": 131,
     "metadata": {},
     "output_type": "execute_result"
    }
   ],
   "source": [
    "fake_df.iloc[[0, 3, 5], [1, 2]]  # Select specific rows and columns by integer positions"
   ]
  },
  {
   "cell_type": "code",
   "execution_count": 133,
   "id": "20095383-60b7-4c17-9830-6487cacc3b2e",
   "metadata": {
    "tags": []
   },
   "outputs": [
    {
     "data": {
      "text/html": [
       "<div>\n",
       "<style scoped>\n",
       "    .dataframe tbody tr th:only-of-type {\n",
       "        vertical-align: middle;\n",
       "    }\n",
       "\n",
       "    .dataframe tbody tr th {\n",
       "        vertical-align: top;\n",
       "    }\n",
       "\n",
       "    .dataframe thead th {\n",
       "        text-align: right;\n",
       "    }\n",
       "</style>\n",
       "<table border=\"1\" class=\"dataframe\">\n",
       "  <thead>\n",
       "    <tr style=\"text-align: right;\">\n",
       "      <th></th>\n",
       "      <th>fruit</th>\n",
       "      <th>value</th>\n",
       "      <th>datetime</th>\n",
       "    </tr>\n",
       "  </thead>\n",
       "  <tbody>\n",
       "    <tr>\n",
       "      <th>0</th>\n",
       "      <td>Apple</td>\n",
       "      <td>0.29</td>\n",
       "      <td>1988-03-24 23:45:35</td>\n",
       "    </tr>\n",
       "    <tr>\n",
       "      <th>2</th>\n",
       "      <td>Banana</td>\n",
       "      <td>-777.49</td>\n",
       "      <td>2023-10-01 12:51:43</td>\n",
       "    </tr>\n",
       "    <tr>\n",
       "      <th>4</th>\n",
       "      <td>Apple</td>\n",
       "      <td>588.78</td>\n",
       "      <td>2003-08-01 17:15:22</td>\n",
       "    </tr>\n",
       "    <tr>\n",
       "      <th>5</th>\n",
       "      <td>Orange</td>\n",
       "      <td>87_881.06</td>\n",
       "      <td>2012-02-25 17:42:20</td>\n",
       "    </tr>\n",
       "    <tr>\n",
       "      <th>7</th>\n",
       "      <td>Banana</td>\n",
       "      <td>-425.89</td>\n",
       "      <td>2012-12-12 11:07:57</td>\n",
       "    </tr>\n",
       "    <tr>\n",
       "      <th>9</th>\n",
       "      <td>Strawberry</td>\n",
       "      <td>NaN</td>\n",
       "      <td>1949-08-03 02:37:01</td>\n",
       "    </tr>\n",
       "  </tbody>\n",
       "</table>\n",
       "</div>"
      ],
      "text/plain": [
       "        fruit     value            datetime\n",
       "0       Apple      0.29 1988-03-24 23:45:35\n",
       "2      Banana   -777.49 2023-10-01 12:51:43\n",
       "4       Apple    588.78 2003-08-01 17:15:22\n",
       "5      Orange 87_881.06 2012-02-25 17:42:20\n",
       "7      Banana   -425.89 2012-12-12 11:07:57\n",
       "9  Strawberry       NaN 1949-08-03 02:37:01"
      ]
     },
     "execution_count": 133,
     "metadata": {},
     "output_type": "execute_result"
    }
   ],
   "source": [
    "# Select specific rows and columns with boolean indexing\n",
    "fake_df.iloc[[True, False, True, False, True, True, False, True, False, True, False], [False, True, True, False, False, True]]"
   ]
  },
  {
   "cell_type": "markdown",
   "id": "f3b93652-37a0-4b7c-8f6c-4f65ec8c417e",
   "metadata": {},
   "source": [
    "#### The ``.loc[]`` method (Label Location)\n",
    "\n",
    "The method ``.iloc[]`` can sometimes be useful, but generally we use the ``.loc[]`` method which is very powerful. It allows us to select data by label or label-based conditions.\n",
    "\n",
    "- It accepts label-based indexing for both rows and columns.\n",
    "- Unlike most of the indexing in Python : the indexing is **inclusive on both ends** (i.e., slices include the specified labels).\n",
    "- You can use labels, slices, lists, or boolean arrays to select data.\n",
    "- You can filter using conditions."
   ]
  },
  {
   "cell_type": "code",
   "execution_count": 134,
   "id": "57e9a9e0-87e2-4127-bce0-c16809e43279",
   "metadata": {
    "tags": []
   },
   "outputs": [
    {
     "data": {
      "text/plain": [
       "0     Apple\n",
       "1     Apple\n",
       "2    Banana\n",
       "3       NaN\n",
       "Name: fruit, dtype: object"
      ]
     },
     "execution_count": 134,
     "metadata": {},
     "output_type": "execute_result"
    }
   ],
   "source": [
    "fake_df.loc[0:3, 'fruit']"
   ]
  },
  {
   "cell_type": "code",
   "execution_count": 135,
   "id": "3c11aa22-154e-481d-ba4c-2fb912fe9fcd",
   "metadata": {
    "tags": []
   },
   "outputs": [
    {
     "data": {
      "text/html": [
       "<div>\n",
       "<style scoped>\n",
       "    .dataframe tbody tr th:only-of-type {\n",
       "        vertical-align: middle;\n",
       "    }\n",
       "\n",
       "    .dataframe tbody tr th {\n",
       "        vertical-align: top;\n",
       "    }\n",
       "\n",
       "    .dataframe thead th {\n",
       "        text-align: right;\n",
       "    }\n",
       "</style>\n",
       "<table border=\"1\" class=\"dataframe\">\n",
       "  <thead>\n",
       "    <tr style=\"text-align: right;\">\n",
       "      <th></th>\n",
       "      <th>fruit</th>\n",
       "      <th>datetime</th>\n",
       "    </tr>\n",
       "  </thead>\n",
       "  <tbody>\n",
       "    <tr>\n",
       "      <th>1</th>\n",
       "      <td>Apple</td>\n",
       "      <td>1978-04-09 09:57:31</td>\n",
       "    </tr>\n",
       "    <tr>\n",
       "      <th>2</th>\n",
       "      <td>Banana</td>\n",
       "      <td>2023-10-01 12:51:43</td>\n",
       "    </tr>\n",
       "  </tbody>\n",
       "</table>\n",
       "</div>"
      ],
      "text/plain": [
       "    fruit            datetime\n",
       "1   Apple 1978-04-09 09:57:31\n",
       "2  Banana 2023-10-01 12:51:43"
      ]
     },
     "execution_count": 135,
     "metadata": {},
     "output_type": "execute_result"
    }
   ],
   "source": [
    "fake_df.loc[1:2, ['fruit', 'datetime']]"
   ]
  },
  {
   "cell_type": "code",
   "execution_count": 139,
   "id": "bc041ad5-3384-4f85-aa4d-4ab0b0d8b323",
   "metadata": {
    "tags": []
   },
   "outputs": [
    {
     "data": {
      "text/plain": [
       "0          0.29\n",
       "1         -3.32\n",
       "2       -777.49\n",
       "3        433.78\n",
       "4        588.78\n",
       "5     87_881.06\n",
       "6        359.92\n",
       "7       -425.89\n",
       "8        667.92\n",
       "9           NaN\n",
       "10   -79_761.72\n",
       "Name: value, dtype: float64"
      ]
     },
     "execution_count": 139,
     "metadata": {},
     "output_type": "execute_result"
    }
   ],
   "source": [
    "fake_df['value']"
   ]
  },
  {
   "cell_type": "code",
   "execution_count": 140,
   "id": "16ca1d22-e06a-4b77-a559-8e0cf247527c",
   "metadata": {
    "tags": []
   },
   "outputs": [
    {
     "data": {
      "text/plain": [
       "0     False\n",
       "1     False\n",
       "2     False\n",
       "3     False\n",
       "4      True\n",
       "5      True\n",
       "6     False\n",
       "7     False\n",
       "8      True\n",
       "9     False\n",
       "10    False\n",
       "Name: value, dtype: bool"
      ]
     },
     "execution_count": 140,
     "metadata": {},
     "output_type": "execute_result"
    }
   ],
   "source": [
    "# Pandas returns a boolean Series when you make comparison\n",
    "fake_df['value'] > 500"
   ]
  },
  {
   "cell_type": "code",
   "execution_count": 141,
   "id": "88b9da22-2c05-497b-b52d-dddf00b5de81",
   "metadata": {
    "tags": []
   },
   "outputs": [
    {
     "data": {
      "text/html": [
       "<div>\n",
       "<style scoped>\n",
       "    .dataframe tbody tr th:only-of-type {\n",
       "        vertical-align: middle;\n",
       "    }\n",
       "\n",
       "    .dataframe tbody tr th {\n",
       "        vertical-align: top;\n",
       "    }\n",
       "\n",
       "    .dataframe thead th {\n",
       "        text-align: right;\n",
       "    }\n",
       "</style>\n",
       "<table border=\"1\" class=\"dataframe\">\n",
       "  <thead>\n",
       "    <tr style=\"text-align: right;\">\n",
       "      <th></th>\n",
       "      <th>letter</th>\n",
       "      <th>fruit</th>\n",
       "      <th>value</th>\n",
       "      <th>numbers_list</th>\n",
       "      <th>date</th>\n",
       "      <th>datetime</th>\n",
       "    </tr>\n",
       "  </thead>\n",
       "  <tbody>\n",
       "    <tr>\n",
       "      <th>4</th>\n",
       "      <td>C</td>\n",
       "      <td>Apple</td>\n",
       "      <td>588.78</td>\n",
       "      <td>58-1-97</td>\n",
       "      <td>17h:15m:22s 01-Aug-2003</td>\n",
       "      <td>2003-08-01 17:15:22</td>\n",
       "    </tr>\n",
       "    <tr>\n",
       "      <th>5</th>\n",
       "      <td>D</td>\n",
       "      <td>Orange</td>\n",
       "      <td>87_881.06</td>\n",
       "      <td>58-5-99</td>\n",
       "      <td>17h:42m:20s 25-Feb-2012</td>\n",
       "      <td>2012-02-25 17:42:20</td>\n",
       "    </tr>\n",
       "    <tr>\n",
       "      <th>8</th>\n",
       "      <td>D</td>\n",
       "      <td>Kiwi</td>\n",
       "      <td>667.92</td>\n",
       "      <td>45-62-96</td>\n",
       "      <td>09h:16m:12s 28-Dec-1982</td>\n",
       "      <td>1982-12-28 09:16:12</td>\n",
       "    </tr>\n",
       "  </tbody>\n",
       "</table>\n",
       "</div>"
      ],
      "text/plain": [
       "  letter   fruit     value numbers_list                     date  \\\n",
       "4      C   Apple    588.78      58-1-97  17h:15m:22s 01-Aug-2003   \n",
       "5      D  Orange 87_881.06      58-5-99  17h:42m:20s 25-Feb-2012   \n",
       "8      D    Kiwi    667.92     45-62-96  09h:16m:12s 28-Dec-1982   \n",
       "\n",
       "             datetime  \n",
       "4 2003-08-01 17:15:22  \n",
       "5 2012-02-25 17:42:20  \n",
       "8 1982-12-28 09:16:12  "
      ]
     },
     "execution_count": 141,
     "metadata": {},
     "output_type": "execute_result"
    }
   ],
   "source": [
    "# You can use this boolean Series to filter your DataFrame using .loc[]\n",
    "fake_df.loc[fake_df['value'] > 500]"
   ]
  },
  {
   "cell_type": "markdown",
   "id": "c615cf7d-a34c-4f62-b267-cbc6e3b3f104",
   "metadata": {},
   "source": [
    "**>>>** Let's have a look at the \"Salary\" Series.\n",
    "\n",
    "- Display basic statistics.\n",
    "- Plot it.\n",
    "- Choose a threshold , remove the outliers using ``.loc[]`` and compute the same stats.\n",
    "- Generate a new graph without the outliers.\n",
    "\n",
    "**TIP**: When using a hist graph, you can decide the numbers of \"columns\" using the \"bins\" parameter. Default is set to 10."
   ]
  },
  {
   "cell_type": "code",
   "execution_count": 142,
   "id": "67e9cf84-7612-4848-acc1-d65a617d49e8",
   "metadata": {
    "tags": []
   },
   "outputs": [
    {
     "data": {
      "text/plain": [
       "count          12.00\n",
       "mean      448_291.67\n",
       "std     1_436_065.20\n",
       "min         4_000.00\n",
       "25%         4_500.00\n",
       "50%         6_000.00\n",
       "75%        11_250.00\n",
       "max     5_000_000.00\n",
       "Name: salary, dtype: float64"
      ]
     },
     "execution_count": 142,
     "metadata": {},
     "output_type": "execute_result"
    }
   ],
   "source": [
    "# Code here!\n",
    "df['salary'].describe()"
   ]
  },
  {
   "cell_type": "code",
   "execution_count": 145,
   "id": "d546fda9-4a5c-4227-b015-92592473e2ee",
   "metadata": {
    "tags": []
   },
   "outputs": [
    {
     "data": {
      "image/png": "[encoded data removed]",
      "text/plain": [
       "<Figure size 640x480 with 1 Axes>"
      ]
     },
     "metadata": {},
     "output_type": "display_data"
    }
   ],
   "source": [
    "# Code here!\n",
    "df['salary'].plot(kind='hist');"
   ]
  },
  {
   "cell_type": "code",
   "execution_count": 146,
   "id": "a25e1fd1-f740-4fde-a4d1-f4953e3e0f3c",
   "metadata": {
    "tags": []
   },
   "outputs": [
    {
     "data": {
      "text/plain": [
       "count       10.00\n",
       "mean     6_950.00\n",
       "std      3_616.71\n",
       "min      4_000.00\n",
       "25%      4_500.00\n",
       "50%      5_000.00\n",
       "75%      9_250.00\n",
       "max     15_000.00\n",
       "Name: salary, dtype: float64"
      ]
     },
     "execution_count": 146,
     "metadata": {},
     "output_type": "execute_result"
    }
   ],
   "source": [
    "# Code here!\n",
    "df['salary'].loc[df['salary'] < 100_000].describe()"
   ]
  },
  {
   "cell_type": "code",
   "execution_count": 152,
   "id": "18bad50b-4aa1-4cd6-baa8-9c7650d5151c",
   "metadata": {
    "tags": []
   },
   "outputs": [
    {
     "data": {
      "image/png": "[encoded data removed]",
      "text/plain": [
       "<Figure size 640x480 with 1 Axes>"
      ]
     },
     "metadata": {},
     "output_type": "display_data"
    }
   ],
   "source": [
    "# Code here!\n",
    "df['salary'].loc[df['salary'] < 100_000].plot(kind='hist', bins=25);"
   ]
  },
  {
   "cell_type": "markdown",
   "id": "8bfab1d4-0a5e-472e-8d2b-ed464550d748",
   "metadata": {},
   "source": [
    "### Outliers : the thumb rule\n",
    "\n",
    "Sometimes, when you process a huge amont of data and you need to remove the outliers, you can use a statistician thumb rule : an outlier is a value that is above (or below) the distribution mean plus (or minus) three times the standard variation."
   ]
  },
  {
   "cell_type": "code",
   "execution_count": 153,
   "id": "6e4b8334-0763-4d7c-bad2-7eedb4ea8fe4",
   "metadata": {
    "tags": []
   },
   "outputs": [
    {
     "data": {
      "text/plain": [
       "0          0.29\n",
       "1         -3.32\n",
       "2       -777.49\n",
       "3        433.78\n",
       "4        588.78\n",
       "5     87_881.06\n",
       "6        359.92\n",
       "7       -425.89\n",
       "8        667.92\n",
       "9           NaN\n",
       "10   -79_761.72\n",
       "Name: value, dtype: float64"
      ]
     },
     "execution_count": 153,
     "metadata": {},
     "output_type": "execute_result"
    }
   ],
   "source": [
    "fake_df['value'] # There are 2 outliers there"
   ]
  },
  {
   "cell_type": "code",
   "execution_count": 154,
   "id": "ce8de02e-4d87-4619-800d-98ee0db5577c",
   "metadata": {
    "tags": []
   },
   "outputs": [
    {
     "data": {
      "text/plain": [
       "896.3330999999991"
      ]
     },
     "execution_count": 154,
     "metadata": {},
     "output_type": "execute_result"
    }
   ],
   "source": [
    "fake_df['value'].mean()"
   ]
  },
  {
   "cell_type": "code",
   "execution_count": 155,
   "id": "92adc6ee-dff0-4e8d-99ab-2598ef447026",
   "metadata": {
    "tags": []
   },
   "outputs": [
    {
     "data": {
      "text/plain": [
       "39551.478304191114"
      ]
     },
     "execution_count": 155,
     "metadata": {},
     "output_type": "execute_result"
    }
   ],
   "source": [
    "fake_df['value'].std()"
   ]
  },
  {
   "cell_type": "code",
   "execution_count": 156,
   "id": "80b18929-c267-4312-ae33-2bb452134a0a",
   "metadata": {
    "tags": []
   },
   "outputs": [
    {
     "name": "stdout",
     "output_type": "stream",
     "text": [
      "119550.76801257335\n",
      "-117758.10181257334\n"
     ]
    }
   ],
   "source": [
    "# thumb rule for outliers : mean +/- 3 times the std\n",
    "# Upper bound :\n",
    "print(fake_df['value'].mean() + 3 * fake_df['value'].std())\n",
    "# Lower bound :\n",
    "print(fake_df['value'].mean() - 3 * fake_df['value'].std())"
   ]
  },
  {
   "cell_type": "markdown",
   "id": "cf456063-59a4-4661-addb-d006b98e1e6c",
   "metadata": {},
   "source": [
    "However this \"thumb rule\" doesn't apply here as we don't have enough data. So let's just take the mean and add or remove the standard variation."
   ]
  },
  {
   "cell_type": "code",
   "execution_count": 157,
   "id": "ead48cf5-5f16-42ae-8206-8b58fd138935",
   "metadata": {
    "tags": []
   },
   "outputs": [
    {
     "name": "stdout",
     "output_type": "stream",
     "text": [
      "40447.81140419111\n",
      "-38655.14520419112\n"
     ]
    }
   ],
   "source": [
    "# our rule for outliers : mean +/- the std\n",
    "# Upper bound :\n",
    "print(fake_df['value'].mean() + fake_df['value'].std())\n",
    "# Lower bound :\n",
    "print(fake_df['value'].mean() - fake_df['value'].std())"
   ]
  },
  {
   "cell_type": "markdown",
   "id": "6901a32d-9f2f-4e33-9103-98f63a131e26",
   "metadata": {},
   "source": [
    "#### The .between() method\n",
    "\n",
    "The ``.between()`` method allows us to create a boolean Series which returns ``True`` if the value is between the 2 arguments, and ``False`` if it's not the case."
   ]
  },
  {
   "cell_type": "code",
   "execution_count": 158,
   "id": "1c2461f2-095a-42c0-b67d-09f0ce6243e3",
   "metadata": {
    "tags": []
   },
   "outputs": [
    {
     "data": {
      "text/plain": [
       "0      True\n",
       "1      True\n",
       "2     False\n",
       "3      True\n",
       "4      True\n",
       "5     False\n",
       "6      True\n",
       "7     False\n",
       "8      True\n",
       "9     False\n",
       "10    False\n",
       "Name: value, dtype: bool"
      ]
     },
     "execution_count": 158,
     "metadata": {},
     "output_type": "execute_result"
    }
   ],
   "source": [
    "fake_df['value'].between(-22, 1000)"
   ]
  },
  {
   "cell_type": "code",
   "execution_count": 159,
   "id": "38867ca7-2f11-42b5-a6e6-f6a378e07f96",
   "metadata": {
    "tags": []
   },
   "outputs": [
    {
     "data": {
      "text/html": [
       "<div>\n",
       "<style scoped>\n",
       "    .dataframe tbody tr th:only-of-type {\n",
       "        vertical-align: middle;\n",
       "    }\n",
       "\n",
       "    .dataframe tbody tr th {\n",
       "        vertical-align: top;\n",
       "    }\n",
       "\n",
       "    .dataframe thead th {\n",
       "        text-align: right;\n",
       "    }\n",
       "</style>\n",
       "<table border=\"1\" class=\"dataframe\">\n",
       "  <thead>\n",
       "    <tr style=\"text-align: right;\">\n",
       "      <th></th>\n",
       "      <th>letter</th>\n",
       "      <th>fruit</th>\n",
       "      <th>value</th>\n",
       "      <th>numbers_list</th>\n",
       "      <th>date</th>\n",
       "      <th>datetime</th>\n",
       "    </tr>\n",
       "  </thead>\n",
       "  <tbody>\n",
       "    <tr>\n",
       "      <th>0</th>\n",
       "      <td>A</td>\n",
       "      <td>Apple</td>\n",
       "      <td>0.29</td>\n",
       "      <td>74-23-25</td>\n",
       "      <td>23h:45m:35s 24-Mar-1988</td>\n",
       "      <td>1988-03-24 23:45:35</td>\n",
       "    </tr>\n",
       "    <tr>\n",
       "      <th>1</th>\n",
       "      <td>A</td>\n",
       "      <td>Apple</td>\n",
       "      <td>-3.32</td>\n",
       "      <td>66-25-9</td>\n",
       "      <td>09h:57m:31s 09-Apr-1978</td>\n",
       "      <td>1978-04-09 09:57:31</td>\n",
       "    </tr>\n",
       "    <tr>\n",
       "      <th>3</th>\n",
       "      <td>B</td>\n",
       "      <td>NaN</td>\n",
       "      <td>433.78</td>\n",
       "      <td>86-66-90</td>\n",
       "      <td>14h:07m:35s 26-Jul-2015</td>\n",
       "      <td>2015-07-26 14:07:35</td>\n",
       "    </tr>\n",
       "    <tr>\n",
       "      <th>4</th>\n",
       "      <td>C</td>\n",
       "      <td>Apple</td>\n",
       "      <td>588.78</td>\n",
       "      <td>58-1-97</td>\n",
       "      <td>17h:15m:22s 01-Aug-2003</td>\n",
       "      <td>2003-08-01 17:15:22</td>\n",
       "    </tr>\n",
       "    <tr>\n",
       "      <th>6</th>\n",
       "      <td>D</td>\n",
       "      <td>Peach</td>\n",
       "      <td>359.92</td>\n",
       "      <td>87-21-72</td>\n",
       "      <td>00h:12m:44s 17-May-2008</td>\n",
       "      <td>2008-05-17 00:12:44</td>\n",
       "    </tr>\n",
       "    <tr>\n",
       "      <th>8</th>\n",
       "      <td>D</td>\n",
       "      <td>Kiwi</td>\n",
       "      <td>667.92</td>\n",
       "      <td>45-62-96</td>\n",
       "      <td>09h:16m:12s 28-Dec-1982</td>\n",
       "      <td>1982-12-28 09:16:12</td>\n",
       "    </tr>\n",
       "  </tbody>\n",
       "</table>\n",
       "</div>"
      ],
      "text/plain": [
       "  letter  fruit  value numbers_list                     date  \\\n",
       "0      A  Apple   0.29     74-23-25  23h:45m:35s 24-Mar-1988   \n",
       "1      A  Apple  -3.32      66-25-9  09h:57m:31s 09-Apr-1978   \n",
       "3      B    NaN 433.78     86-66-90  14h:07m:35s 26-Jul-2015   \n",
       "4      C  Apple 588.78      58-1-97  17h:15m:22s 01-Aug-2003   \n",
       "6      D  Peach 359.92     87-21-72  00h:12m:44s 17-May-2008   \n",
       "8      D   Kiwi 667.92     45-62-96  09h:16m:12s 28-Dec-1982   \n",
       "\n",
       "             datetime  \n",
       "0 1988-03-24 23:45:35  \n",
       "1 1978-04-09 09:57:31  \n",
       "3 2015-07-26 14:07:35  \n",
       "4 2003-08-01 17:15:22  \n",
       "6 2008-05-17 00:12:44  \n",
       "8 1982-12-28 09:16:12  "
      ]
     },
     "execution_count": 159,
     "metadata": {},
     "output_type": "execute_result"
    }
   ],
   "source": [
    "# You can then filter your entire DataFrame based on that condition\n",
    "fake_df.loc[fake_df['value'].between(-22, 1000)]"
   ]
  },
  {
   "cell_type": "code",
   "execution_count": 160,
   "id": "07e498f5-94b6-43ae-821e-d4d6ec71d00b",
   "metadata": {
    "tags": []
   },
   "outputs": [
    {
     "data": {
      "text/html": [
       "<div>\n",
       "<style scoped>\n",
       "    .dataframe tbody tr th:only-of-type {\n",
       "        vertical-align: middle;\n",
       "    }\n",
       "\n",
       "    .dataframe tbody tr th {\n",
       "        vertical-align: top;\n",
       "    }\n",
       "\n",
       "    .dataframe thead th {\n",
       "        text-align: right;\n",
       "    }\n",
       "</style>\n",
       "<table border=\"1\" class=\"dataframe\">\n",
       "  <thead>\n",
       "    <tr style=\"text-align: right;\">\n",
       "      <th></th>\n",
       "      <th>letter</th>\n",
       "      <th>fruit</th>\n",
       "      <th>value</th>\n",
       "      <th>numbers_list</th>\n",
       "      <th>date</th>\n",
       "      <th>datetime</th>\n",
       "    </tr>\n",
       "  </thead>\n",
       "  <tbody>\n",
       "    <tr>\n",
       "      <th>0</th>\n",
       "      <td>A</td>\n",
       "      <td>Apple</td>\n",
       "      <td>0.29</td>\n",
       "      <td>74-23-25</td>\n",
       "      <td>23h:45m:35s 24-Mar-1988</td>\n",
       "      <td>1988-03-24 23:45:35</td>\n",
       "    </tr>\n",
       "    <tr>\n",
       "      <th>1</th>\n",
       "      <td>A</td>\n",
       "      <td>Apple</td>\n",
       "      <td>-3.32</td>\n",
       "      <td>66-25-9</td>\n",
       "      <td>09h:57m:31s 09-Apr-1978</td>\n",
       "      <td>1978-04-09 09:57:31</td>\n",
       "    </tr>\n",
       "    <tr>\n",
       "      <th>2</th>\n",
       "      <td>B</td>\n",
       "      <td>Banana</td>\n",
       "      <td>-777.49</td>\n",
       "      <td>46-11-40</td>\n",
       "      <td>12h:51m:43s 01-Oct-2023</td>\n",
       "      <td>2023-10-01 12:51:43</td>\n",
       "    </tr>\n",
       "    <tr>\n",
       "      <th>3</th>\n",
       "      <td>B</td>\n",
       "      <td>NaN</td>\n",
       "      <td>433.78</td>\n",
       "      <td>86-66-90</td>\n",
       "      <td>14h:07m:35s 26-Jul-2015</td>\n",
       "      <td>2015-07-26 14:07:35</td>\n",
       "    </tr>\n",
       "    <tr>\n",
       "      <th>4</th>\n",
       "      <td>C</td>\n",
       "      <td>Apple</td>\n",
       "      <td>588.78</td>\n",
       "      <td>58-1-97</td>\n",
       "      <td>17h:15m:22s 01-Aug-2003</td>\n",
       "      <td>2003-08-01 17:15:22</td>\n",
       "    </tr>\n",
       "    <tr>\n",
       "      <th>6</th>\n",
       "      <td>D</td>\n",
       "      <td>Peach</td>\n",
       "      <td>359.92</td>\n",
       "      <td>87-21-72</td>\n",
       "      <td>00h:12m:44s 17-May-2008</td>\n",
       "      <td>2008-05-17 00:12:44</td>\n",
       "    </tr>\n",
       "    <tr>\n",
       "      <th>7</th>\n",
       "      <td>D</td>\n",
       "      <td>Banana</td>\n",
       "      <td>-425.89</td>\n",
       "      <td>1-73-4</td>\n",
       "      <td>11h:07m:57s 12-Dec-2012</td>\n",
       "      <td>2012-12-12 11:07:57</td>\n",
       "    </tr>\n",
       "    <tr>\n",
       "      <th>8</th>\n",
       "      <td>D</td>\n",
       "      <td>Kiwi</td>\n",
       "      <td>667.92</td>\n",
       "      <td>45-62-96</td>\n",
       "      <td>09h:16m:12s 28-Dec-1982</td>\n",
       "      <td>1982-12-28 09:16:12</td>\n",
       "    </tr>\n",
       "  </tbody>\n",
       "</table>\n",
       "</div>"
      ],
      "text/plain": [
       "  letter   fruit   value numbers_list                     date  \\\n",
       "0      A   Apple    0.29     74-23-25  23h:45m:35s 24-Mar-1988   \n",
       "1      A   Apple   -3.32      66-25-9  09h:57m:31s 09-Apr-1978   \n",
       "2      B  Banana -777.49     46-11-40  12h:51m:43s 01-Oct-2023   \n",
       "3      B     NaN  433.78     86-66-90  14h:07m:35s 26-Jul-2015   \n",
       "4      C   Apple  588.78      58-1-97  17h:15m:22s 01-Aug-2003   \n",
       "6      D   Peach  359.92     87-21-72  00h:12m:44s 17-May-2008   \n",
       "7      D  Banana -425.89       1-73-4  11h:07m:57s 12-Dec-2012   \n",
       "8      D    Kiwi  667.92     45-62-96  09h:16m:12s 28-Dec-1982   \n",
       "\n",
       "             datetime  \n",
       "0 1988-03-24 23:45:35  \n",
       "1 1978-04-09 09:57:31  \n",
       "2 2023-10-01 12:51:43  \n",
       "3 2015-07-26 14:07:35  \n",
       "4 2003-08-01 17:15:22  \n",
       "6 2008-05-17 00:12:44  \n",
       "7 2012-12-12 11:07:57  \n",
       "8 1982-12-28 09:16:12  "
      ]
     },
     "execution_count": 160,
     "metadata": {},
     "output_type": "execute_result"
    }
   ],
   "source": [
    "# Let's apply our \"outliers policy\" on our dataframe:\n",
    "\n",
    "fake_df.loc[fake_df['value'].between(\n",
    "            fake_df['value'].mean() - fake_df['value'].std(), # lower bound\n",
    "            fake_df['value'].mean() + fake_df['value'].std() # upper bound\n",
    "                                     )]"
   ]
  },
  {
   "cell_type": "markdown",
   "id": "e4d508c0-b6d1-4318-be6f-9af92724f3a7",
   "metadata": {},
   "source": [
    "Note that our missing values in the column \"value\" have also disappeared."
   ]
  },
  {
   "cell_type": "markdown",
   "id": "f23df1ea-6aef-4116-a4c6-3da6fe8b2763",
   "metadata": {
    "tags": []
   },
   "source": [
    "### Creating a view from a DataFrame\n",
    "\n",
    "Let's store the result in a new DataFrame, which will be a **view** of our original DataFrame, just like when we slice an array with Numpy."
   ]
  },
  {
   "cell_type": "code",
   "execution_count": 161,
   "id": "b81006d1-753e-4ad0-91ea-4844cd1077b1",
   "metadata": {
    "tags": []
   },
   "outputs": [],
   "source": [
    "clean_values_fake_df = fake_df.loc[fake_df['value'].between(\n",
    "                            fake_df['value'].mean() - fake_df['value'].std() # lower bound\n",
    "                          , fake_df['value'].mean() + fake_df['value'].std() # upper bound\n",
    "                                             )]"
   ]
  },
  {
   "cell_type": "code",
   "execution_count": 162,
   "id": "0fd74400-a82a-4f00-96ca-f653130d6a75",
   "metadata": {
    "tags": []
   },
   "outputs": [
    {
     "data": {
      "text/html": [
       "<div>\n",
       "<style scoped>\n",
       "    .dataframe tbody tr th:only-of-type {\n",
       "        vertical-align: middle;\n",
       "    }\n",
       "\n",
       "    .dataframe tbody tr th {\n",
       "        vertical-align: top;\n",
       "    }\n",
       "\n",
       "    .dataframe thead th {\n",
       "        text-align: right;\n",
       "    }\n",
       "</style>\n",
       "<table border=\"1\" class=\"dataframe\">\n",
       "  <thead>\n",
       "    <tr style=\"text-align: right;\">\n",
       "      <th></th>\n",
       "      <th>letter</th>\n",
       "      <th>fruit</th>\n",
       "      <th>value</th>\n",
       "      <th>numbers_list</th>\n",
       "      <th>date</th>\n",
       "      <th>datetime</th>\n",
       "    </tr>\n",
       "  </thead>\n",
       "  <tbody>\n",
       "    <tr>\n",
       "      <th>0</th>\n",
       "      <td>A</td>\n",
       "      <td>Apple</td>\n",
       "      <td>0.29</td>\n",
       "      <td>74-23-25</td>\n",
       "      <td>23h:45m:35s 24-Mar-1988</td>\n",
       "      <td>1988-03-24 23:45:35</td>\n",
       "    </tr>\n",
       "    <tr>\n",
       "      <th>1</th>\n",
       "      <td>A</td>\n",
       "      <td>Apple</td>\n",
       "      <td>-3.32</td>\n",
       "      <td>66-25-9</td>\n",
       "      <td>09h:57m:31s 09-Apr-1978</td>\n",
       "      <td>1978-04-09 09:57:31</td>\n",
       "    </tr>\n",
       "    <tr>\n",
       "      <th>2</th>\n",
       "      <td>B</td>\n",
       "      <td>Banana</td>\n",
       "      <td>-777.49</td>\n",
       "      <td>46-11-40</td>\n",
       "      <td>12h:51m:43s 01-Oct-2023</td>\n",
       "      <td>2023-10-01 12:51:43</td>\n",
       "    </tr>\n",
       "    <tr>\n",
       "      <th>3</th>\n",
       "      <td>B</td>\n",
       "      <td>NaN</td>\n",
       "      <td>433.78</td>\n",
       "      <td>86-66-90</td>\n",
       "      <td>14h:07m:35s 26-Jul-2015</td>\n",
       "      <td>2015-07-26 14:07:35</td>\n",
       "    </tr>\n",
       "    <tr>\n",
       "      <th>4</th>\n",
       "      <td>C</td>\n",
       "      <td>Apple</td>\n",
       "      <td>588.78</td>\n",
       "      <td>58-1-97</td>\n",
       "      <td>17h:15m:22s 01-Aug-2003</td>\n",
       "      <td>2003-08-01 17:15:22</td>\n",
       "    </tr>\n",
       "  </tbody>\n",
       "</table>\n",
       "</div>"
      ],
      "text/plain": [
       "  letter   fruit   value numbers_list                     date  \\\n",
       "0      A   Apple    0.29     74-23-25  23h:45m:35s 24-Mar-1988   \n",
       "1      A   Apple   -3.32      66-25-9  09h:57m:31s 09-Apr-1978   \n",
       "2      B  Banana -777.49     46-11-40  12h:51m:43s 01-Oct-2023   \n",
       "3      B     NaN  433.78     86-66-90  14h:07m:35s 26-Jul-2015   \n",
       "4      C   Apple  588.78      58-1-97  17h:15m:22s 01-Aug-2003   \n",
       "\n",
       "             datetime  \n",
       "0 1988-03-24 23:45:35  \n",
       "1 1978-04-09 09:57:31  \n",
       "2 2023-10-01 12:51:43  \n",
       "3 2015-07-26 14:07:35  \n",
       "4 2003-08-01 17:15:22  "
      ]
     },
     "execution_count": 162,
     "metadata": {},
     "output_type": "execute_result"
    }
   ],
   "source": [
    "clean_values_fake_df.head()"
   ]
  },
  {
   "cell_type": "markdown",
   "id": "03b56d59-6743-4ff0-99ff-bb8096bd7383",
   "metadata": {},
   "source": [
    "**>>>** Create a new DataFrame called \"salary_df\" which will not contain the rows where the salary values are over a thresold."
   ]
  },
  {
   "cell_type": "code",
   "execution_count": 168,
   "id": "fa063dc2-99db-45aa-8ceb-4c668b93f53c",
   "metadata": {
    "tags": []
   },
   "outputs": [
    {
     "data": {
      "text/plain": [
       "89658.33333333334"
      ]
     },
     "execution_count": 168,
     "metadata": {},
     "output_type": "execute_result"
    }
   ],
   "source": [
    "df['salary'].mean() * 0.2"
   ]
  },
  {
   "cell_type": "code",
   "execution_count": null,
   "id": "2ef12060-2eb5-4ff4-a2c5-b9a8c4c496b2",
   "metadata": {
    "tags": []
   },
   "outputs": [],
   "source": [
    "# Code here!\n",
    "df['salary'].loc[df['salary'] < 90_000] # simple way\n",
    "df['salary'].loc[df['salary'].between(0, df['salary'].mean() * 0.2)]"
   ]
  },
  {
   "cell_type": "code",
   "execution_count": 191,
   "id": "63bfea22-d68e-4017-8d11-29a185f1f1aa",
   "metadata": {
    "tags": []
   },
   "outputs": [],
   "source": [
    "# Don't get confused between Series and DataFrame!\n",
    "salary_df = df.loc[df['salary'].between(0, df['salary'].mean() * 0.2)]"
   ]
  },
  {
   "cell_type": "markdown",
   "id": "05bf24fa-c37b-4cf6-99c6-0bef8f8755e5",
   "metadata": {},
   "source": [
    "# Group By and Aggregations\n",
    "\n",
    "## Group By\n",
    "\n",
    "\n",
    "In data science, a \"Groupby\" is an operation that involves splitting a dataset into groups based on one or more criteria. It is a way to break down data into smaller, manageable pieces for analysis.\n",
    "\n",
    "Once data are separated in different groups, we usually apply one or several functions on each different group.\n",
    "\n",
    "## Aggregations\n",
    "\n",
    "\n",
    "\"Aggregations\" refer to the process of applying a mathematical or statistical function to a set of data to obtain a single summary value. Aggregations typically involve operations like sum, mean, median, count, min, max, etc.\n",
    "\n",
    "Aggregations are used to summarize and condense data, providing insights into the overall characteristics of a dataset or specific groups created using groupby.\n",
    "\n",
    "## Exemples\n",
    "\n",
    "Let's imagine we have a library with several books classified with their genre. We can group them and apply the function `.sum()` to check how many books we have for each different categories.\n",
    "\n",
    "<img src=\"files/group_by-sum.jpg\" width=\"90%\" align=\"center\">\n",
    "\n",
    "But we could also apply the function `.mean()` to compute the average.\n",
    "\n",
    "<img src=\"files/group_by-avg.jpg\" width=\"100%\" align=\"center\">\n",
    "\n",
    "[Source](https://learnsql.com/blog/group-by-in-sql-explained/)\n",
    "\n"
   ]
  },
  {
   "cell_type": "markdown",
   "id": "d57d003a-fce8-41e1-91f1-0ca6c1aa655d",
   "metadata": {
    "tags": []
   },
   "source": [
    "## Performing GROUP BY on our datasets\n",
    "\n",
    "### A simple Group By\n",
    "\n",
    "We can create groupby objets without applying a function, and save it for later."
   ]
  },
  {
   "cell_type": "code",
   "execution_count": 178,
   "id": "176cb36e-806c-4e89-8799-d6e6ff970dc3",
   "metadata": {
    "tags": []
   },
   "outputs": [
    {
     "data": {
      "text/plain": [
       "<pandas.core.groupby.generic.DataFrameGroupBy object at 0x00000209319FCD10>"
      ]
     },
     "execution_count": 178,
     "metadata": {},
     "output_type": "execute_result"
    }
   ],
   "source": [
    "clean_values_fake_df.groupby('letter') # Data have been grouped by Letter"
   ]
  },
  {
   "cell_type": "markdown",
   "id": "2b90b6cd-df41-443e-a1b0-a79862491d6d",
   "metadata": {},
   "source": [
    "### Simple functions\n",
    "\n",
    "#### ``.sum()``"
   ]
  },
  {
   "cell_type": "code",
   "execution_count": 179,
   "id": "86a09f50-e8c3-4478-96ee-f859ae5ef807",
   "metadata": {
    "tags": []
   },
   "outputs": [
    {
     "data": {
      "text/html": [
       "<div>\n",
       "<style scoped>\n",
       "    .dataframe tbody tr th:only-of-type {\n",
       "        vertical-align: middle;\n",
       "    }\n",
       "\n",
       "    .dataframe tbody tr th {\n",
       "        vertical-align: top;\n",
       "    }\n",
       "\n",
       "    .dataframe thead th {\n",
       "        text-align: right;\n",
       "    }\n",
       "</style>\n",
       "<table border=\"1\" class=\"dataframe\">\n",
       "  <thead>\n",
       "    <tr style=\"text-align: right;\">\n",
       "      <th></th>\n",
       "      <th>value</th>\n",
       "    </tr>\n",
       "    <tr>\n",
       "      <th>letter</th>\n",
       "      <th></th>\n",
       "    </tr>\n",
       "  </thead>\n",
       "  <tbody>\n",
       "    <tr>\n",
       "      <th>A</th>\n",
       "      <td>-3.03</td>\n",
       "    </tr>\n",
       "    <tr>\n",
       "      <th>B</th>\n",
       "      <td>-343.71</td>\n",
       "    </tr>\n",
       "    <tr>\n",
       "      <th>C</th>\n",
       "      <td>588.78</td>\n",
       "    </tr>\n",
       "    <tr>\n",
       "      <th>D</th>\n",
       "      <td>601.95</td>\n",
       "    </tr>\n",
       "  </tbody>\n",
       "</table>\n",
       "</div>"
      ],
      "text/plain": [
       "         value\n",
       "letter        \n",
       "A        -3.03\n",
       "B      -343.71\n",
       "C       588.78\n",
       "D       601.95"
      ]
     },
     "execution_count": 179,
     "metadata": {},
     "output_type": "execute_result"
    }
   ],
   "source": [
    "# If we remove numeric_only=True, Pandas yield an error,\n",
    "# because you can't apply this function on strings.\n",
    "clean_values_fake_df.groupby('letter').sum(numeric_only=True)"
   ]
  },
  {
   "cell_type": "markdown",
   "id": "591edab5-d235-42cc-a378-6b420facfda1",
   "metadata": {
    "tags": []
   },
   "source": [
    "#### ``.count()``"
   ]
  },
  {
   "cell_type": "code",
   "execution_count": 182,
   "id": "ab19cf5d-7b2d-4b7e-9292-7fa95b265b6c",
   "metadata": {
    "tags": []
   },
   "outputs": [
    {
     "data": {
      "text/html": [
       "<div>\n",
       "<style scoped>\n",
       "    .dataframe tbody tr th:only-of-type {\n",
       "        vertical-align: middle;\n",
       "    }\n",
       "\n",
       "    .dataframe tbody tr th {\n",
       "        vertical-align: top;\n",
       "    }\n",
       "\n",
       "    .dataframe thead th {\n",
       "        text-align: right;\n",
       "    }\n",
       "</style>\n",
       "<table border=\"1\" class=\"dataframe\">\n",
       "  <thead>\n",
       "    <tr style=\"text-align: right;\">\n",
       "      <th></th>\n",
       "      <th>fruit</th>\n",
       "      <th>value</th>\n",
       "      <th>numbers_list</th>\n",
       "      <th>date</th>\n",
       "      <th>datetime</th>\n",
       "    </tr>\n",
       "    <tr>\n",
       "      <th>letter</th>\n",
       "      <th></th>\n",
       "      <th></th>\n",
       "      <th></th>\n",
       "      <th></th>\n",
       "      <th></th>\n",
       "    </tr>\n",
       "  </thead>\n",
       "  <tbody>\n",
       "    <tr>\n",
       "      <th>A</th>\n",
       "      <td>2</td>\n",
       "      <td>2</td>\n",
       "      <td>2</td>\n",
       "      <td>2</td>\n",
       "      <td>2</td>\n",
       "    </tr>\n",
       "    <tr>\n",
       "      <th>B</th>\n",
       "      <td>1</td>\n",
       "      <td>2</td>\n",
       "      <td>2</td>\n",
       "      <td>2</td>\n",
       "      <td>2</td>\n",
       "    </tr>\n",
       "    <tr>\n",
       "      <th>C</th>\n",
       "      <td>1</td>\n",
       "      <td>1</td>\n",
       "      <td>1</td>\n",
       "      <td>1</td>\n",
       "      <td>1</td>\n",
       "    </tr>\n",
       "    <tr>\n",
       "      <th>D</th>\n",
       "      <td>3</td>\n",
       "      <td>3</td>\n",
       "      <td>3</td>\n",
       "      <td>3</td>\n",
       "      <td>3</td>\n",
       "    </tr>\n",
       "  </tbody>\n",
       "</table>\n",
       "</div>"
      ],
      "text/plain": [
       "        fruit  value  numbers_list  date  datetime\n",
       "letter                                            \n",
       "A           2      2             2     2         2\n",
       "B           1      2             2     2         2\n",
       "C           1      1             1     1         1\n",
       "D           3      3             3     3         3"
      ]
     },
     "execution_count": 182,
     "metadata": {},
     "output_type": "execute_result"
    }
   ],
   "source": [
    "# Let's use a count()\n",
    "# here we don't need the parameter numeric_only=True\n",
    "# because count() can be applied on any object.\n",
    "clean_values_fake_df.groupby('letter').count()"
   ]
  },
  {
   "cell_type": "markdown",
   "id": "7c71a2a2-70b4-4c90-97b0-ccb2ff0aea55",
   "metadata": {},
   "source": [
    "#### ``.mean()``"
   ]
  },
  {
   "cell_type": "code",
   "execution_count": 185,
   "id": "9ee6044c-c974-440f-a5b6-b703930cc35e",
   "metadata": {
    "tags": []
   },
   "outputs": [
    {
     "data": {
      "text/html": [
       "<div>\n",
       "<style scoped>\n",
       "    .dataframe tbody tr th:only-of-type {\n",
       "        vertical-align: middle;\n",
       "    }\n",
       "\n",
       "    .dataframe tbody tr th {\n",
       "        vertical-align: top;\n",
       "    }\n",
       "\n",
       "    .dataframe thead th {\n",
       "        text-align: right;\n",
       "    }\n",
       "</style>\n",
       "<table border=\"1\" class=\"dataframe\">\n",
       "  <thead>\n",
       "    <tr style=\"text-align: right;\">\n",
       "      <th></th>\n",
       "      <th>value</th>\n",
       "    </tr>\n",
       "    <tr>\n",
       "      <th>letter</th>\n",
       "      <th></th>\n",
       "    </tr>\n",
       "  </thead>\n",
       "  <tbody>\n",
       "    <tr>\n",
       "      <th>A</th>\n",
       "      <td>-1.51</td>\n",
       "    </tr>\n",
       "    <tr>\n",
       "      <th>B</th>\n",
       "      <td>-171.86</td>\n",
       "    </tr>\n",
       "    <tr>\n",
       "      <th>C</th>\n",
       "      <td>588.78</td>\n",
       "    </tr>\n",
       "    <tr>\n",
       "      <th>D</th>\n",
       "      <td>200.65</td>\n",
       "    </tr>\n",
       "  </tbody>\n",
       "</table>\n",
       "</div>"
      ],
      "text/plain": [
       "         value\n",
       "letter        \n",
       "A        -1.51\n",
       "B      -171.86\n",
       "C       588.78\n",
       "D       200.65"
      ]
     },
     "execution_count": 185,
     "metadata": {},
     "output_type": "execute_result"
    }
   ],
   "source": [
    "clean_values_fake_df.groupby('letter').mean(numeric_only=True)"
   ]
  },
  {
   "cell_type": "markdown",
   "id": "b29f97e1-0fb9-48c5-b204-eed4afa27549",
   "metadata": {
    "tags": []
   },
   "source": [
    "### The method ``.agg()``\n",
    "\n",
    "\n",
    "The .agg() method in Pandas is used to perform aggregation operations on a DataFrame or Series.\n",
    "\n",
    "We can specify one or more aggregation functions that we want to apply to the data. These functions can be built-in functions like ``sum()``, ``mean()``, ``min()``, ``max()``, or custom functions.\n",
    "\n",
    "It can take strings arguments, lists or even dictionaries."
   ]
  },
  {
   "cell_type": "markdown",
   "id": "3f87852a-32fa-4190-ae09-525740b47e4b",
   "metadata": {
    "tags": []
   },
   "source": [
    "#### ``.agg()`` with one function"
   ]
  },
  {
   "cell_type": "code",
   "execution_count": 186,
   "id": "c03a275a-efea-4772-abb0-fd5560fcff8d",
   "metadata": {
    "tags": []
   },
   "outputs": [
    {
     "data": {
      "text/html": [
       "<div>\n",
       "<style scoped>\n",
       "    .dataframe tbody tr th:only-of-type {\n",
       "        vertical-align: middle;\n",
       "    }\n",
       "\n",
       "    .dataframe tbody tr th {\n",
       "        vertical-align: top;\n",
       "    }\n",
       "\n",
       "    .dataframe thead th {\n",
       "        text-align: right;\n",
       "    }\n",
       "</style>\n",
       "<table border=\"1\" class=\"dataframe\">\n",
       "  <thead>\n",
       "    <tr style=\"text-align: right;\">\n",
       "      <th></th>\n",
       "      <th>value</th>\n",
       "    </tr>\n",
       "    <tr>\n",
       "      <th>letter</th>\n",
       "      <th></th>\n",
       "    </tr>\n",
       "  </thead>\n",
       "  <tbody>\n",
       "    <tr>\n",
       "      <th>A</th>\n",
       "      <td>-1.51</td>\n",
       "    </tr>\n",
       "    <tr>\n",
       "      <th>B</th>\n",
       "      <td>-171.86</td>\n",
       "    </tr>\n",
       "    <tr>\n",
       "      <th>C</th>\n",
       "      <td>588.78</td>\n",
       "    </tr>\n",
       "    <tr>\n",
       "      <th>D</th>\n",
       "      <td>200.65</td>\n",
       "    </tr>\n",
       "  </tbody>\n",
       "</table>\n",
       "</div>"
      ],
      "text/plain": [
       "         value\n",
       "letter        \n",
       "A        -1.51\n",
       "B      -171.86\n",
       "C       588.78\n",
       "D       200.65"
      ]
     },
     "execution_count": 186,
     "metadata": {},
     "output_type": "execute_result"
    }
   ],
   "source": [
    "clean_values_fake_df.groupby('letter').agg('mean', numeric_only=True)"
   ]
  },
  {
   "cell_type": "markdown",
   "id": "602f146d-1001-455b-a169-501cf6f0597b",
   "metadata": {},
   "source": [
    "#### ``.agg()`` with several functions\n",
    "\n",
    "Here we took only the Series \"value\" from the grouped data, and apply three different functions to it."
   ]
  },
  {
   "cell_type": "code",
   "execution_count": 188,
   "id": "ae717d6f-ecd0-490d-a73d-ed5131ebeb05",
   "metadata": {
    "tags": []
   },
   "outputs": [
    {
     "data": {
      "text/html": [
       "<div>\n",
       "<style scoped>\n",
       "    .dataframe tbody tr th:only-of-type {\n",
       "        vertical-align: middle;\n",
       "    }\n",
       "\n",
       "    .dataframe tbody tr th {\n",
       "        vertical-align: top;\n",
       "    }\n",
       "\n",
       "    .dataframe thead th {\n",
       "        text-align: right;\n",
       "    }\n",
       "</style>\n",
       "<table border=\"1\" class=\"dataframe\">\n",
       "  <thead>\n",
       "    <tr style=\"text-align: right;\">\n",
       "      <th></th>\n",
       "      <th>count</th>\n",
       "      <th>sum</th>\n",
       "      <th>mean</th>\n",
       "    </tr>\n",
       "    <tr>\n",
       "      <th>letter</th>\n",
       "      <th></th>\n",
       "      <th></th>\n",
       "      <th></th>\n",
       "    </tr>\n",
       "  </thead>\n",
       "  <tbody>\n",
       "    <tr>\n",
       "      <th>A</th>\n",
       "      <td>2</td>\n",
       "      <td>-3.03</td>\n",
       "      <td>-1.51</td>\n",
       "    </tr>\n",
       "    <tr>\n",
       "      <th>B</th>\n",
       "      <td>2</td>\n",
       "      <td>-343.71</td>\n",
       "      <td>-171.86</td>\n",
       "    </tr>\n",
       "    <tr>\n",
       "      <th>C</th>\n",
       "      <td>1</td>\n",
       "      <td>588.78</td>\n",
       "      <td>588.78</td>\n",
       "    </tr>\n",
       "    <tr>\n",
       "      <th>D</th>\n",
       "      <td>3</td>\n",
       "      <td>601.95</td>\n",
       "      <td>200.65</td>\n",
       "    </tr>\n",
       "  </tbody>\n",
       "</table>\n",
       "</div>"
      ],
      "text/plain": [
       "        count     sum    mean\n",
       "letter                       \n",
       "A           2   -3.03   -1.51\n",
       "B           2 -343.71 -171.86\n",
       "C           1  588.78  588.78\n",
       "D           3  601.95  200.65"
      ]
     },
     "execution_count": 188,
     "metadata": {},
     "output_type": "execute_result"
    }
   ],
   "source": [
    "clean_values_fake_df.groupby('letter')['value'].agg(['count', 'sum', 'mean'])"
   ]
  },
  {
   "cell_type": "markdown",
   "id": "084b6a0e-9a95-431d-8d4b-ae6530844d5b",
   "metadata": {},
   "source": [
    "#### ``.agg()`` with a dict of arguments\n",
    "\n",
    "Passing a dictionnary of arguments allows us to better control the behavior of the aggregation function."
   ]
  },
  {
   "cell_type": "code",
   "execution_count": 189,
   "id": "52938c2b-b54e-41e4-a22e-1d6944b54f8e",
   "metadata": {
    "tags": []
   },
   "outputs": [
    {
     "data": {
      "text/html": [
       "<div>\n",
       "<style scoped>\n",
       "    .dataframe tbody tr th:only-of-type {\n",
       "        vertical-align: middle;\n",
       "    }\n",
       "\n",
       "    .dataframe tbody tr th {\n",
       "        vertical-align: top;\n",
       "    }\n",
       "\n",
       "    .dataframe thead tr th {\n",
       "        text-align: left;\n",
       "    }\n",
       "\n",
       "    .dataframe thead tr:last-of-type th {\n",
       "        text-align: right;\n",
       "    }\n",
       "</style>\n",
       "<table border=\"1\" class=\"dataframe\">\n",
       "  <thead>\n",
       "    <tr>\n",
       "      <th></th>\n",
       "      <th colspan=\"4\" halign=\"left\">value</th>\n",
       "      <th>fruit</th>\n",
       "    </tr>\n",
       "    <tr>\n",
       "      <th></th>\n",
       "      <th>mean</th>\n",
       "      <th>median</th>\n",
       "      <th>max</th>\n",
       "      <th>min</th>\n",
       "      <th>count</th>\n",
       "    </tr>\n",
       "    <tr>\n",
       "      <th>letter</th>\n",
       "      <th></th>\n",
       "      <th></th>\n",
       "      <th></th>\n",
       "      <th></th>\n",
       "      <th></th>\n",
       "    </tr>\n",
       "  </thead>\n",
       "  <tbody>\n",
       "    <tr>\n",
       "      <th>A</th>\n",
       "      <td>-1.51</td>\n",
       "      <td>-1.51</td>\n",
       "      <td>0.29</td>\n",
       "      <td>-3.32</td>\n",
       "      <td>2</td>\n",
       "    </tr>\n",
       "    <tr>\n",
       "      <th>B</th>\n",
       "      <td>-171.86</td>\n",
       "      <td>-171.86</td>\n",
       "      <td>433.78</td>\n",
       "      <td>-777.49</td>\n",
       "      <td>1</td>\n",
       "    </tr>\n",
       "    <tr>\n",
       "      <th>C</th>\n",
       "      <td>588.78</td>\n",
       "      <td>588.78</td>\n",
       "      <td>588.78</td>\n",
       "      <td>588.78</td>\n",
       "      <td>1</td>\n",
       "    </tr>\n",
       "    <tr>\n",
       "      <th>D</th>\n",
       "      <td>200.65</td>\n",
       "      <td>359.92</td>\n",
       "      <td>667.92</td>\n",
       "      <td>-425.89</td>\n",
       "      <td>3</td>\n",
       "    </tr>\n",
       "  </tbody>\n",
       "</table>\n",
       "</div>"
      ],
      "text/plain": [
       "         value                        fruit\n",
       "          mean  median    max     min count\n",
       "letter                                     \n",
       "A        -1.51   -1.51   0.29   -3.32     2\n",
       "B      -171.86 -171.86 433.78 -777.49     1\n",
       "C       588.78  588.78 588.78  588.78     1\n",
       "D       200.65  359.92 667.92 -425.89     3"
      ]
     },
     "execution_count": 189,
     "metadata": {},
     "output_type": "execute_result"
    }
   ],
   "source": [
    "clean_values_fake_df.groupby('letter').agg({\n",
    "        'value' : ['mean','median', 'max', 'min'],\n",
    "        'fruit':  ['count']})"
   ]
  },
  {
   "cell_type": "markdown",
   "id": "fddaf4cb-8d89-4196-8683-74e53abc911e",
   "metadata": {},
   "source": [
    "**>>>** Let's find out if we can learn more about the participants of this survey. Using the previous \"salary_df\" we've created :\n",
    "\n",
    "- Group by **age** and look at the max, the min, the count, and the average salary.\n",
    "- Plot the average to better visualise.\n",
    "- Group by **gender** and look at the max, the min, the count, and the average salary.\n",
    "- Plot the average to better visualise."
   ]
  },
  {
   "cell_type": "code",
   "execution_count": 193,
   "id": "56877800-1ea7-42fa-9544-b953734de868",
   "metadata": {
    "tags": []
   },
   "outputs": [
    {
     "data": {
      "text/html": [
       "<div>\n",
       "<style scoped>\n",
       "    .dataframe tbody tr th:only-of-type {\n",
       "        vertical-align: middle;\n",
       "    }\n",
       "\n",
       "    .dataframe tbody tr th {\n",
       "        vertical-align: top;\n",
       "    }\n",
       "\n",
       "    .dataframe thead th {\n",
       "        text-align: right;\n",
       "    }\n",
       "</style>\n",
       "<table border=\"1\" class=\"dataframe\">\n",
       "  <thead>\n",
       "    <tr style=\"text-align: right;\">\n",
       "      <th></th>\n",
       "      <th>time</th>\n",
       "      <th>country</th>\n",
       "      <th>population</th>\n",
       "      <th>pop_clean</th>\n",
       "      <th>educ_years</th>\n",
       "      <th>salary</th>\n",
       "      <th>siblings</th>\n",
       "      <th>age_group</th>\n",
       "      <th>father_degree</th>\n",
       "      <th>mother_degree</th>\n",
       "      <th>size</th>\n",
       "      <th>gender</th>\n",
       "      <th>pets</th>\n",
       "      <th>sport</th>\n",
       "      <th>colour</th>\n",
       "      <th>show</th>\n",
       "    </tr>\n",
       "  </thead>\n",
       "  <tbody>\n",
       "    <tr>\n",
       "      <th>0</th>\n",
       "      <td>2023/09/15 11:45:35 PM UTC+3</td>\n",
       "      <td>China</td>\n",
       "      <td>1.4 billion</td>\n",
       "      <td>1400000000</td>\n",
       "      <td>6</td>\n",
       "      <td>4500</td>\n",
       "      <td>0</td>\n",
       "      <td>23 - 27 years old</td>\n",
       "      <td>No diploma</td>\n",
       "      <td>No diploma</td>\n",
       "      <td>165</td>\n",
       "      <td>Man</td>\n",
       "      <td>dog, cat, rabbit</td>\n",
       "      <td>tennis</td>\n",
       "      <td>red</td>\n",
       "      <td>Jimmy Fallon</td>\n",
       "    </tr>\n",
       "  </tbody>\n",
       "</table>\n",
       "</div>"
      ],
      "text/plain": [
       "                           time country   population   pop_clean  educ_years  \\\n",
       "0  2023/09/15 11:45:35 PM UTC+3   China  1.4 billion  1400000000           6   \n",
       "\n",
       "   salary  siblings          age_group father_degree mother_degree size  \\\n",
       "0    4500         0  23 - 27 years old    No diploma    No diploma  165   \n",
       "\n",
       "  gender              pets   sport colour          show  \n",
       "0    Man  dog, cat, rabbit  tennis    red  Jimmy Fallon  "
      ]
     },
     "execution_count": 193,
     "metadata": {},
     "output_type": "execute_result"
    }
   ],
   "source": [
    "salary_df.head(1)"
   ]
  },
  {
   "cell_type": "code",
   "execution_count": 200,
   "id": "3927e274-c620-4b8e-8b30-8574d9742204",
   "metadata": {
    "tags": []
   },
   "outputs": [
    {
     "data": {
      "text/html": [
       "<div>\n",
       "<style scoped>\n",
       "    .dataframe tbody tr th:only-of-type {\n",
       "        vertical-align: middle;\n",
       "    }\n",
       "\n",
       "    .dataframe tbody tr th {\n",
       "        vertical-align: top;\n",
       "    }\n",
       "\n",
       "    .dataframe thead th {\n",
       "        text-align: right;\n",
       "    }\n",
       "</style>\n",
       "<table border=\"1\" class=\"dataframe\">\n",
       "  <thead>\n",
       "    <tr style=\"text-align: right;\">\n",
       "      <th></th>\n",
       "      <th>min</th>\n",
       "      <th>max</th>\n",
       "      <th>count</th>\n",
       "      <th>mean</th>\n",
       "    </tr>\n",
       "    <tr>\n",
       "      <th>age_group</th>\n",
       "      <th></th>\n",
       "      <th></th>\n",
       "      <th></th>\n",
       "      <th></th>\n",
       "    </tr>\n",
       "  </thead>\n",
       "  <tbody>\n",
       "    <tr>\n",
       "      <th>18 - 22 years old</th>\n",
       "      <td>4000</td>\n",
       "      <td>4000</td>\n",
       "      <td>1</td>\n",
       "      <td>4_000.00</td>\n",
       "    </tr>\n",
       "    <tr>\n",
       "      <th>23 - 27 years old</th>\n",
       "      <td>4500</td>\n",
       "      <td>15000</td>\n",
       "      <td>7</td>\n",
       "      <td>7_714.29</td>\n",
       "    </tr>\n",
       "    <tr>\n",
       "      <th>31 - 34 years old</th>\n",
       "      <td>4500</td>\n",
       "      <td>4500</td>\n",
       "      <td>1</td>\n",
       "      <td>4_500.00</td>\n",
       "    </tr>\n",
       "    <tr>\n",
       "      <th>35 - 40 years old</th>\n",
       "      <td>7000</td>\n",
       "      <td>7000</td>\n",
       "      <td>1</td>\n",
       "      <td>7_000.00</td>\n",
       "    </tr>\n",
       "  </tbody>\n",
       "</table>\n",
       "</div>"
      ],
      "text/plain": [
       "                    min    max  count     mean\n",
       "age_group                                     \n",
       "18 - 22 years old  4000   4000      1 4_000.00\n",
       "23 - 27 years old  4500  15000      7 7_714.29\n",
       "31 - 34 years old  4500   4500      1 4_500.00\n",
       "35 - 40 years old  7000   7000      1 7_000.00"
      ]
     },
     "execution_count": 200,
     "metadata": {},
     "output_type": "execute_result"
    }
   ],
   "source": [
    "# Code here!\n",
    "# with a list\n",
    "salary_df.groupby('age_group')['salary'].agg(['min', 'max', 'count', 'mean'])\n",
    "# with a dict\n",
    "# salary_df.groupby('age_group').agg({'salary': ['min', 'max', 'count', 'mean']})"
   ]
  },
  {
   "cell_type": "code",
   "execution_count": 210,
   "id": "ca461abc-ec1e-4220-9c5e-8af01fcd3882",
   "metadata": {
    "tags": []
   },
   "outputs": [
    {
     "data": {
      "image/png": "[encoded data removed]",
      "text/plain": [
       "<Figure size 640x480 with 1 Axes>"
      ]
     },
     "metadata": {},
     "output_type": "display_data"
    }
   ],
   "source": [
    "# Code here!\n",
    "(\n",
    "    salary_df.groupby('age_group')['salary']\n",
    "             .mean()\n",
    "             .sort_index(ascending=False)\n",
    "             .plot(kind='bar', rot=45, title=\"Age and Salary\")\n",
    ");"
   ]
  },
  {
   "cell_type": "code",
   "execution_count": 211,
   "id": "85e4ec68-fd8a-4e6f-8a2d-e5a297d3a201",
   "metadata": {
    "tags": []
   },
   "outputs": [
    {
     "data": {
      "text/html": [
       "<div>\n",
       "<style scoped>\n",
       "    .dataframe tbody tr th:only-of-type {\n",
       "        vertical-align: middle;\n",
       "    }\n",
       "\n",
       "    .dataframe tbody tr th {\n",
       "        vertical-align: top;\n",
       "    }\n",
       "\n",
       "    .dataframe thead th {\n",
       "        text-align: right;\n",
       "    }\n",
       "</style>\n",
       "<table border=\"1\" class=\"dataframe\">\n",
       "  <thead>\n",
       "    <tr style=\"text-align: right;\">\n",
       "      <th></th>\n",
       "      <th>min</th>\n",
       "      <th>max</th>\n",
       "      <th>count</th>\n",
       "      <th>mean</th>\n",
       "    </tr>\n",
       "    <tr>\n",
       "      <th>gender</th>\n",
       "      <th></th>\n",
       "      <th></th>\n",
       "      <th></th>\n",
       "      <th></th>\n",
       "    </tr>\n",
       "  </thead>\n",
       "  <tbody>\n",
       "    <tr>\n",
       "      <th>Man</th>\n",
       "      <td>4000</td>\n",
       "      <td>15000</td>\n",
       "      <td>8</td>\n",
       "      <td>6_187.50</td>\n",
       "    </tr>\n",
       "    <tr>\n",
       "      <th>Woman</th>\n",
       "      <td>10000</td>\n",
       "      <td>10000</td>\n",
       "      <td>2</td>\n",
       "      <td>10_000.00</td>\n",
       "    </tr>\n",
       "  </tbody>\n",
       "</table>\n",
       "</div>"
      ],
      "text/plain": [
       "          min    max  count      mean\n",
       "gender                               \n",
       "Man      4000  15000      8  6_187.50\n",
       "Woman   10000  10000      2 10_000.00"
      ]
     },
     "execution_count": 211,
     "metadata": {},
     "output_type": "execute_result"
    }
   ],
   "source": [
    "# Code here!\n",
    "salary_df.groupby('gender')['salary'].agg(['min', 'max', 'count', 'mean'])"
   ]
  },
  {
   "cell_type": "code",
   "execution_count": 215,
   "id": "f9f752c9-f6d9-4607-8db2-b1144fc30682",
   "metadata": {
    "tags": []
   },
   "outputs": [
    {
     "data": {
      "image/png": "[encoded data removed]",
      "text/plain": [
       "<Figure size 640x480 with 1 Axes>"
      ]
     },
     "metadata": {},
     "output_type": "display_data"
    }
   ],
   "source": [
    "# Code here!\n",
    "(\n",
    "    salary_df.groupby('gender')['salary']\n",
    "             .mean()\n",
    "             .sort_index(ascending=False)\n",
    "             .plot(kind='bar', rot=45, title=\"Gender and Salary\")\n",
    ");"
   ]
  },
  {
   "cell_type": "markdown",
   "id": "58e17da6-9d0c-4c65-b6fc-55a61fcd514b",
   "metadata": {},
   "source": [
    "# The Series \"Siblings\"\n",
    "\n",
    "There is an error in the statement of the question. Can you spot it?\n",
    "\n",
    ">How many siblings do you have, including yourself? Example: If you have 2 sisters and 1 brother, write 4.\n",
    ">Include half-siblings - or your step-mother or step-father's children-  if you grew up with them.\n",
    ">If you are an only child, enter 0.\n",
    "\n",
    "We'll need to correct the answers before using it. To do so, we'll use `.map()`."
   ]
  },
  {
   "cell_type": "markdown",
   "id": "99c5bbb7-2806-4308-926c-b39cfd2b90db",
   "metadata": {},
   "source": [
    "## The `.map()` method\n",
    "\n",
    "The .map() method in Pandas is used to transform values in a Series based on a mapping or a provided function. It is a versatile and flexible way to apply custom transformations to the data. Here's how the .map() method works:\n",
    "\n",
    "\n",
    "- If you provide a dictionary, it maps existing values in the Series to new values.\n",
    "- If you provide a function, it applies the function to each element in the Series.\n",
    "\n",
    "**Output**: The result is a new Series with transformed values based on the mapping or function.\n",
    "\n",
    "Let's see some examples:"
   ]
  },
  {
   "cell_type": "markdown",
   "id": "e97719de-8aa9-48b6-9f70-28206de20c79",
   "metadata": {
    "tags": []
   },
   "source": [
    "### Using a custom function with `.map()`\n",
    "\n",
    "Once we've created a function, `.map()` will apply the function on each element and returns a new Series."
   ]
  },
  {
   "cell_type": "code",
   "execution_count": null,
   "id": "b24c3b5f-47aa-4662-899b-b04b1e9f48f5",
   "metadata": {
    "tags": []
   },
   "outputs": [],
   "source": [
    "# Let's define a function\n",
    "def adds_1000(number):\n",
    "    return number + 1000"
   ]
  },
  {
   "cell_type": "code",
   "execution_count": null,
   "id": "8a053d5b-230b-4ee9-bbae-de2e22cb99f6",
   "metadata": {
    "tags": []
   },
   "outputs": [],
   "source": [
    "# Test\n",
    "adds_1000(123.53)"
   ]
  },
  {
   "cell_type": "code",
   "execution_count": null,
   "id": "7a5c9cfd-8588-4adc-a00a-c4f6239bc76b",
   "metadata": {
    "tags": []
   },
   "outputs": [],
   "source": [
    "fake_df['value'].map(adds_1000)"
   ]
  },
  {
   "cell_type": "markdown",
   "id": "26fc3dee-9d08-4067-b943-3b0935fc7e72",
   "metadata": {
    "tags": []
   },
   "source": [
    "### Using a dictionary with `.map()`\n",
    "\n",
    "If we give a dictionary to `.map()`, it will map the different elements. If it finds the key, it will replace it with the corresponding value. Doing this is called \"mapping\"."
   ]
  },
  {
   "cell_type": "code",
   "execution_count": null,
   "id": "2ace6f5d-0123-4f39-964d-91eccd0b041a",
   "metadata": {
    "tags": []
   },
   "outputs": [],
   "source": [
    "my_mapping_dict = {'A': 'Z',\n",
    "                   'B': 'Y',\n",
    "                   'C': 'X',\n",
    "                   'D': 'W'}\n",
    "\n",
    "fake_df['letter'].map(my_mapping_dict)"
   ]
  },
  {
   "cell_type": "markdown",
   "id": "e06ec53b-a658-4683-9d61-1447ebd902b6",
   "metadata": {},
   "source": [
    "**>>>** Use `.map()` with a custom function to correct the \"Siblings\" Series.\n",
    "- If number of siblings is 0, set it to 1. Otherwise leave the current number.\n",
    "- When it's done replace the old Series with the new one.\n",
    "\n",
    "**TIP**: If you made a mistake you can re-run all the cells from the top to get your df as it was originally. You can do it with \"shift+enter\" or using the \"Run all above selected cells\" in the run menu."
   ]
  },
  {
   "cell_type": "code",
   "execution_count": null,
   "id": "3a4fd638-dda3-4424-9cc7-2ea4a4054905",
   "metadata": {
    "tags": []
   },
   "outputs": [],
   "source": [
    "# Code here!\n"
   ]
  },
  {
   "cell_type": "code",
   "execution_count": null,
   "id": "8a7aad59-2f64-4590-8125-972ddfa0cf5e",
   "metadata": {},
   "outputs": [],
   "source": [
    "# Replace the old Series with the new one in this cell\n",
    "# Code here!\n"
   ]
  },
  {
   "cell_type": "markdown",
   "id": "408d1241-d51b-43c3-b5b5-e52cf52a3bc7",
   "metadata": {},
   "source": [
    "# The Series \"age_group\"\n",
    "\n",
    "**>>>** Plot the data using a bar graph."
   ]
  },
  {
   "cell_type": "code",
   "execution_count": null,
   "id": "b147af27-7b49-4c60-8107-4129b0f35288",
   "metadata": {
    "tags": []
   },
   "outputs": [],
   "source": [
    "# Code here!\n"
   ]
  },
  {
   "cell_type": "markdown",
   "id": "32cce191-83a5-4746-9a83-d3db6f5e9ba4",
   "metadata": {},
   "source": [
    "## The methods `.unique()` and `.nunique()`\n",
    "\n",
    "### `.unique()` \n",
    "\n",
    "- The `.unique()` method is used to return an array of all the unique values present in a Series. In other words, it removes duplicate values and provides a list of unique values.\n",
    "\n",
    "- It returns a new Series.\n",
    "\n",
    "### `.nunique()` \n",
    "\n",
    "- The `.nunique()` method is used to count the number of distinct (unique) values in a Series.\n",
    "\n",
    "- It returns the count of unique values."
   ]
  },
  {
   "cell_type": "code",
   "execution_count": null,
   "id": "475bd916-71a2-4214-a513-1199faaa7cdb",
   "metadata": {
    "tags": []
   },
   "outputs": [],
   "source": [
    "fake_df['letter'].unique()"
   ]
  },
  {
   "cell_type": "code",
   "execution_count": null,
   "id": "843d05ea-0f13-433c-9290-0f91295c3f2a",
   "metadata": {
    "tags": []
   },
   "outputs": [],
   "source": [
    "fake_df['letter'].nunique()"
   ]
  },
  {
   "cell_type": "markdown",
   "id": "5f323d58-beba-44e2-9541-36674af1add1",
   "metadata": {},
   "source": [
    "**>>>** Create a new Series called \"age_mean\" which will take the mean of each age group. There are several ways to do it:\n",
    "\n",
    "- Use a dictionary and `.map()` (quick and simple way).\n",
    "- Use `.unique()` to get all the unique strings, convert the elements in integer and compute the mean. You can either use a custom function or a comprehensive dictionary. To compute the mean, you can use `np.mean()` (more complicated)."
   ]
  },
  {
   "cell_type": "code",
   "execution_count": null,
   "id": "b624032f-72c6-4cee-97c8-907c2fb7cd55",
   "metadata": {},
   "outputs": [],
   "source": [
    "# Code here!\n"
   ]
  },
  {
   "cell_type": "markdown",
   "id": "3b2efbfc-4ce3-4761-a40c-ac8b53f7722c",
   "metadata": {},
   "source": [
    "# The two Series about the Parents level of education\n",
    "\n",
    "These are ordinal values, but they are stored as strings. Let's make things right."
   ]
  },
  {
   "cell_type": "code",
   "execution_count": null,
   "id": "047a97c8-fb00-41e9-88ac-b6a71b537f29",
   "metadata": {
    "tags": []
   },
   "outputs": [],
   "source": [
    "df['father_degree']"
   ]
  },
  {
   "cell_type": "code",
   "execution_count": null,
   "id": "fbb2e52c-163c-4f32-b2b9-5ff7a1c62cf9",
   "metadata": {
    "tags": []
   },
   "outputs": [],
   "source": [
    "df['mother_degree']"
   ]
  },
  {
   "cell_type": "markdown",
   "id": "1468a784-f575-434a-ae92-05a68bed4009",
   "metadata": {},
   "source": [
    "**>>>** Create new series with integer instead of strings.\n",
    "\n",
    "- The two new Series will be named \"father_el\" and \"mother_el\" (\"el\" = \"education level\").\n",
    "- Create a dictionary and use the `.map()` function to convert the strings to integer. The values will be :\n",
    "    - If the string is Do not wish to answer / can't answer\", replace it with `None`.\n",
    "    - If it is \"No diploma\" then 0.\n",
    "    - If it is \"French baccalaureate\" then 1,\n",
    "    - If it is \"Licence\" then 2,\n",
    "    - If it is \"Master or PhD\" then 3 \n",
    "    \n",
    "- At the end create a new Series named \"parents_el\" which will be the sum of \"father_el\" and \"mother_el\"."
   ]
  },
  {
   "cell_type": "code",
   "execution_count": null,
   "id": "56cd1a57-8e69-4770-b783-9d102256fd1a",
   "metadata": {},
   "outputs": [],
   "source": [
    "# Code here!\n"
   ]
  },
  {
   "cell_type": "markdown",
   "id": "e7417227-bde6-43ba-b565-9963d2038ef9",
   "metadata": {},
   "source": [
    "# The Series \"Size\"\n",
    "\n",
    "Let's say we want to know what is the average size of the people who took the survey. We first need to clean and convert those strings in integer."
   ]
  },
  {
   "cell_type": "code",
   "execution_count": null,
   "id": "a037d6e6-d5b1-4b75-b7ee-277507dfce88",
   "metadata": {
    "tags": []
   },
   "outputs": [],
   "source": [
    "df['size']"
   ]
  },
  {
   "cell_type": "markdown",
   "id": "5caa491e-3f85-4bbb-a79c-65f0c22b0df2",
   "metadata": {},
   "source": [
    "**>>>** Write a custom function that clean the Series.\n",
    "\n",
    "- Apply it using `.map()`\n",
    "- Replace the old Series with the new one."
   ]
  },
  {
   "cell_type": "code",
   "execution_count": null,
   "id": "5a254790-1b41-46ce-8b0b-f25e1d52961a",
   "metadata": {},
   "outputs": [],
   "source": [
    "# Code here!\n"
   ]
  },
  {
   "cell_type": "markdown",
   "id": "40db09d3-62b2-43d5-8e68-f11138e83e4e",
   "metadata": {},
   "source": [
    "# The Series \"Gender\"\n",
    "\n",
    "**>>>** Create a new Series called \"gender_int\", and assign 1 if the gender is \"Woman\" and 0 if the gender is \"Man\"."
   ]
  },
  {
   "cell_type": "code",
   "execution_count": null,
   "id": "6b5a4f5e-c785-4880-88b5-9830f252c858",
   "metadata": {},
   "outputs": [],
   "source": [
    "# Code here!\n"
   ]
  },
  {
   "cell_type": "markdown",
   "id": "8fbb8bb2-592c-4f11-9fb4-b3bbe45bbcbe",
   "metadata": {},
   "source": [
    "# The Series \"Pets\"\n",
    "\n",
    "This Series has an issue. Several data are stored in the same string. Let's separate them."
   ]
  },
  {
   "cell_type": "code",
   "execution_count": null,
   "id": "b68505e2-e90d-4cca-b1c3-644bc411e2f1",
   "metadata": {
    "tags": []
   },
   "outputs": [],
   "source": [
    "df['pets']"
   ]
  },
  {
   "cell_type": "markdown",
   "id": "80f89edc-5385-4300-980f-da2f43f66661",
   "metadata": {},
   "source": [
    "## The `.str` methods\n",
    "\n",
    "Reminder : these methods allow us to use all kind of methods that can be applied on strings, but on Series."
   ]
  },
  {
   "cell_type": "code",
   "execution_count": null,
   "id": "e24bedd7-1fd8-4bbc-8826-8d356a86048c",
   "metadata": {
    "tags": []
   },
   "outputs": [],
   "source": [
    "fake_df['fruit'].str[::-1].str.capitalize()"
   ]
  },
  {
   "cell_type": "markdown",
   "id": "078df316-8b68-49b3-8f28-e120d26054d4",
   "metadata": {},
   "source": [
    "## The function `.str.split()`\n",
    "\n",
    "It behaves almost the same way than the `.split()` function."
   ]
  },
  {
   "cell_type": "code",
   "execution_count": null,
   "id": "ff09118c-3892-4792-a2b7-1ab7a8d68bd9",
   "metadata": {
    "tags": []
   },
   "outputs": [],
   "source": [
    "fake_df['numbers_list'].str.split()"
   ]
  },
  {
   "cell_type": "code",
   "execution_count": null,
   "id": "6176a415-734f-40a9-8ac0-b684db47da74",
   "metadata": {
    "tags": []
   },
   "outputs": [],
   "source": [
    "fake_df['numbers_list'].str.split()[0][0]"
   ]
  },
  {
   "cell_type": "code",
   "execution_count": null,
   "id": "3bcb60d1-7073-4b25-89d6-dd06f9ac66de",
   "metadata": {
    "tags": []
   },
   "outputs": [],
   "source": [
    "fake_df['numbers_list'].str.split('-')[0][0]"
   ]
  },
  {
   "cell_type": "markdown",
   "id": "268bdbdd-b42f-49cd-8bdf-0d62da994f83",
   "metadata": {},
   "source": [
    "**>>>** To deal with this data, we'll need to: \n",
    "\n",
    "- Put all the strings in lower case.\n",
    "- Find the right separator.\n",
    "- Split our data in three different Series named \"pet1\", \"pet2\" and \"pet3\". In order to do this use the parameter \"expand\"\n",
    "\n",
    "**TIP** : You can give a list of Series to a Dataframe. For example:\n",
    "\n",
    "```Python\n",
    "fake_df[['letter', 'value']]\n",
    "```\n",
    "It might be useful to create new Series in a single line of code."
   ]
  },
  {
   "cell_type": "code",
   "execution_count": null,
   "id": "6b78687c-8880-4015-b4f6-cc296d1e8c98",
   "metadata": {},
   "outputs": [],
   "source": [
    "# Code here!\n"
   ]
  },
  {
   "cell_type": "code",
   "execution_count": null,
   "id": "b0a1a5c0-78d4-4df6-a3f5-3a193239f634",
   "metadata": {},
   "outputs": [],
   "source": [
    "# Use this cell to create the 3 Series \"pet1\", \"pet2\" and \"pet3\"\n",
    "# Code here!\n"
   ]
  },
  {
   "cell_type": "markdown",
   "id": "ac0c4873-7e31-4324-a296-c7f899959960",
   "metadata": {},
   "source": [
    "# Correlation\n",
    "\n",
    "Let's see if we can find any correlation in our dataset."
   ]
  },
  {
   "cell_type": "markdown",
   "id": "988233fb-6213-4d94-a44a-1ba5f1411d82",
   "metadata": {},
   "source": [
    "## Prepare the dataset\n",
    "\n",
    "First let's create a view of our df with only the variables of interest such as:\n",
    "\n",
    "- 'pop_clean'\n",
    "- 'educ_years'\n",
    "- 'salary'\n",
    "- 'siblings'\n",
    "- 'size'\n",
    "- 'gender_int'\n",
    "- 'age_mean'\n",
    "- 'parents_el'\n",
    "\n",
    "### The method `.copy(deep=True)`\n",
    "\n",
    "When we slice our DataFrame, it creates a **view**, not a **copy**. However you can force Pandas to create a distinct copy using `.copy(deep=True)`"
   ]
  },
  {
   "cell_type": "code",
   "execution_count": null,
   "id": "39b2ed50-9e53-433b-a415-819a2605b35b",
   "metadata": {
    "tags": []
   },
   "outputs": [],
   "source": [
    "new_fake_df = fake_df.copy(deep=True)\n",
    "new_fake_df['letter'] = \"Z\"\n",
    "new_fake_df['letter']"
   ]
  },
  {
   "cell_type": "code",
   "execution_count": null,
   "id": "52a1c6bf-7e4f-4145-9d6e-c119a3df535e",
   "metadata": {
    "tags": []
   },
   "outputs": [],
   "source": [
    "# Original df hasn't been modified\n",
    "fake_df['letter']"
   ]
  },
  {
   "cell_type": "markdown",
   "id": "50191b98-a120-41e2-b3a6-bdf88ff3df66",
   "metadata": {},
   "source": [
    "**>>>** : Create a deep copy of our DataFrame named \"corr_df\" which contains only those columns of interest. Then apply the `.corr()` method on it."
   ]
  },
  {
   "cell_type": "code",
   "execution_count": null,
   "id": "c05c0c6d-9747-4244-b650-774e19d179d7",
   "metadata": {
    "tags": []
   },
   "outputs": [],
   "source": [
    "# Code here!\n"
   ]
  },
  {
   "cell_type": "markdown",
   "id": "c5f088cc-3845-4c49-b848-0abb964dd910",
   "metadata": {},
   "source": [
    "## An other way to deal with outliers.\n",
    "\n",
    "We still have some outliers, especially inside the \"salary column\". There are countless ways to remove them, let's use `np.where()`."
   ]
  },
  {
   "cell_type": "markdown",
   "id": "5d80f540-768f-481b-87f5-d358add7c68c",
   "metadata": {},
   "source": [
    "### `np.where()`\n",
    "\n",
    "This function provides a way to perform conditional operations on NumPy arrays and Pandas Series. It allows you to generate a new array or a new Series based on a specified condition. The general syntax for `np.where()` is:\n",
    "\n",
    "```python\n",
    "np.where(condition, value_is_true, value_if_false)\n",
    "```"
   ]
  },
  {
   "cell_type": "code",
   "execution_count": null,
   "id": "94febc11-87fb-4e3b-825e-58bc030db963",
   "metadata": {
    "tags": []
   },
   "outputs": [],
   "source": [
    "# Exemple\n",
    "\n",
    "np.where(fake_df['value'] > 0, 10, 0)"
   ]
  },
  {
   "cell_type": "code",
   "execution_count": null,
   "id": "cca5ef6d-ed5f-4c8d-aebf-9a50f9c24a6c",
   "metadata": {
    "tags": []
   },
   "outputs": [],
   "source": [
    "# Exemple\n",
    "\n",
    "# np.set_printoptions(precision=2, suppress=True) # useful to better visualize\n",
    "np.where(fake_df['value'] > 0, 10, fake_df['value'] / 100)"
   ]
  },
  {
   "cell_type": "code",
   "execution_count": null,
   "id": "b1b8d99e-18be-436e-a128-a14694efc498",
   "metadata": {
    "tags": []
   },
   "outputs": [],
   "source": [
    "# Creating or replacing a Series\n",
    "\n",
    "fake_df['new_value'] = np.where(fake_df['value'] > 0, 10, fake_df['value'] / 100)"
   ]
  },
  {
   "cell_type": "markdown",
   "id": "b3e19d88-f494-41e4-ba6f-911ba855f885",
   "metadata": {},
   "source": [
    "**>>>** Replace the two outliers values we have in the \"salary\" Series with the median of that Series."
   ]
  },
  {
   "cell_type": "code",
   "execution_count": null,
   "id": "b02c2131-3349-4b05-b63a-23ef968bf86d",
   "metadata": {
    "tags": []
   },
   "outputs": [],
   "source": [
    "# Code here!\n"
   ]
  },
  {
   "cell_type": "code",
   "execution_count": null,
   "id": "b0595256-d96e-43aa-bcc2-590f90e0530d",
   "metadata": {},
   "outputs": [],
   "source": [
    "# Let's display the ne result\n",
    "corr_df.corr()#.round(2)"
   ]
  },
  {
   "cell_type": "markdown",
   "id": "d02bfda8-1208-48e6-ab5b-ca34dcb24e35",
   "metadata": {},
   "source": [
    "# Correlation visualisations\n",
    "\n",
    "When dealing with data, it's always a good thing to look at the data and not just numbers.\n",
    "\n",
    "## Anscombe's quartet\n",
    "\n",
    "Anscombe's quartet comprises four data sets that have nearly identical simple descriptive statistics, yet have very different distributions and appear very different when graphed. ([wikipedia](https://en.wikipedia.org/wiki/Anscombe%27s_quartet))\n",
    "\n",
    "\n",
    "<img src=\"files/anscombe.png\" width=\"70%\" align=\"center\">\n",
    "\n",
    "\n",
    "| Property                                                  | Value             | Accuracy                                |\n",
    "|-----------------------------------------------------------|-------------------|-----------------------------------------|\n",
    "| Mean of x:                                                | 9                 | exact                                   |\n",
    "| Sample variance of x:                                     | 11                | exact                                   |\n",
    "| Mean of y:                                                | 7.50              | to 2 decimal places                     |\n",
    "| Sample variance of y:                                     | 4.125             | ±0.003                                  |\n",
    "| Correlation between x and y:                              | 0.816             | to 3 decimal places                     |\n",
    "| Linear regression line:                                   | y = 3.00 + 0.500x | to 2 and 3 decimal places, respectively |\n",
    "| Coefficient of determination of the linear regression: R² | 0.67              | to 2 decimal places                     |\n",
    "\n"
   ]
  },
  {
   "cell_type": "markdown",
   "id": "dff68879-b7e3-494f-b111-388e6594d281",
   "metadata": {},
   "source": [
    "## Seaborn and heatmap\n",
    "\n",
    "Let's use Seaborn, a libray built on top of matplotlib."
   ]
  },
  {
   "cell_type": "code",
   "execution_count": null,
   "id": "d3813aec-bea8-49b5-a537-cc62e04874c1",
   "metadata": {},
   "outputs": [],
   "source": [
    "import seaborn as sns\n",
    "sns.heatmap(corr_df.corr());"
   ]
  },
  {
   "cell_type": "code",
   "execution_count": null,
   "id": "aae9bff4-0e69-49f6-862c-3cd40e557c96",
   "metadata": {},
   "outputs": [],
   "source": [
    "# let's annot the heatmap and make it range from -1 to 1.\n",
    "sns.heatmap(corr_df.corr(), vmin=-1, vmax=1, annot=True);"
   ]
  },
  {
   "cell_type": "markdown",
   "id": "fff7f9d2-9956-48a4-9b13-286dc7eef621",
   "metadata": {
    "tags": []
   },
   "source": [
    "### The `sns.pairplot()` function\n",
    "\n",
    "This function is used to create a matrix of scatterplots, also known as a pairwise scatter plot matrix. It's a valuable tool for visualizing the relationships between multiple variables (columns or Series) in a DataFrame.\n"
   ]
  },
  {
   "cell_type": "code",
   "execution_count": null,
   "id": "09721d12-e110-4759-b971-934ad8ca32bc",
   "metadata": {},
   "outputs": [],
   "source": [
    "sns.pairplot(corr_df, diag_kind='kde', kind='reg', plot_kws={'color': 'red'});"
   ]
  },
  {
   "cell_type": "code",
   "execution_count": null,
   "id": "9b597e64-3f16-4d57-8afe-dbfe359b39f4",
   "metadata": {},
   "outputs": [],
   "source": [
    "sns.lmplot(x='parents_el',\n",
    "           y='salary',\n",
    "           data=corr_df,\n",
    "           fit_reg=True,\n",
    "           line_kws={'color': 'red'}\n",
    "          );"
   ]
  },
  {
   "cell_type": "code",
   "execution_count": null,
   "id": "f1e3a1dd-5012-4d12-8b62-d81baebabd54",
   "metadata": {},
   "outputs": [],
   "source": [
    "sns.lmplot(x='gender_int',\n",
    "           y='salary',\n",
    "           data=corr_df,\n",
    "           fit_reg=True,\n",
    "           line_kws={'color': 'red'}\n",
    "          );"
   ]
  },
  {
   "cell_type": "markdown",
   "id": "f275f645-367e-4df6-9bc8-75d266842d97",
   "metadata": {},
   "source": [
    "# Advanced cleaning\n",
    "\n",
    "Population, colour and TV Show can be cleaned using more complicated techniques."
   ]
  },
  {
   "cell_type": "markdown",
   "id": "0927e7ad-b50e-4c2b-b598-bc40d89fdfc7",
   "metadata": {},
   "source": [
    "## Population"
   ]
  },
  {
   "cell_type": "code",
   "execution_count": null,
   "id": "e70675b1-a40c-4b21-977e-499742b133c3",
   "metadata": {
    "tags": []
   },
   "outputs": [],
   "source": [
    "df['population']"
   ]
  },
  {
   "cell_type": "markdown",
   "id": "b380ae5d-3ec8-4249-ae1e-a3cb292a221a",
   "metadata": {
    "tags": []
   },
   "source": [
    "**>>>** Write a custom function and use `.map()` to clean the column population."
   ]
  },
  {
   "cell_type": "code",
   "execution_count": null,
   "id": "7de3cc8f-0b5a-42fe-800d-04c835d2e1c9",
   "metadata": {
    "tags": []
   },
   "outputs": [],
   "source": [
    "# Code here!\n"
   ]
  },
  {
   "cell_type": "markdown",
   "id": "97d3495b-6749-45a7-b255-86e1fa5fea0c",
   "metadata": {},
   "source": [
    "# The Series \"sports\"\n",
    "\n",
    "**>>>** Use this [list](https://gist.githubusercontent.com/stefanoverna/371f009900bbe9ceec208f5dd1688737/raw/db7a90fa9e5dcb4ec22f4aef2774348fff7ccf69/gistfile1.txt) found on github, and the function `SequenceMatcher` from the `difflib` library to autocorrect sport names. Name your function \"correct\"."
   ]
  },
  {
   "cell_type": "code",
   "execution_count": null,
   "id": "d6f0392a-6194-4f1c-ab61-2f4aee0f9919",
   "metadata": {
    "tags": []
   },
   "outputs": [],
   "source": [
    "# Code here!\n"
   ]
  },
  {
   "cell_type": "markdown",
   "id": "ca969022-e1f9-426c-bd12-9e96cd712593",
   "metadata": {},
   "source": [
    "# The Series \"Colour\"\n",
    "\n",
    "**>>>** Find a list of colours on the internet and, just like the previous question, find a way to correct the data. You can reuse functions you've already written."
   ]
  },
  {
   "cell_type": "code",
   "execution_count": null,
   "id": "d658961e-be49-47bb-a9f6-7f94de54e64c",
   "metadata": {
    "tags": []
   },
   "outputs": [],
   "source": [
    "df['colour']"
   ]
  },
  {
   "cell_type": "code",
   "execution_count": null,
   "id": "1454c072-116e-411d-b049-89c8775740b3",
   "metadata": {},
   "outputs": [],
   "source": [
    "# Code here!\n"
   ]
  },
  {
   "cell_type": "markdown",
   "id": "116a0bec-3a85-4a45-924b-d90737f18ef3",
   "metadata": {},
   "source": [
    "# TV Show"
   ]
  },
  {
   "cell_type": "markdown",
   "id": "bcd4342e-f267-4651-8b5c-3cb46882ffee",
   "metadata": {},
   "source": [
    "### Scrapping"
   ]
  },
  {
   "cell_type": "markdown",
   "id": "7f0347b1-80a9-424e-83d3-e90b9a7d5245",
   "metadata": {},
   "source": [
    "**>>>** Use scrapping to create a list of TV Show. And then correct the data."
   ]
  },
  {
   "cell_type": "code",
   "execution_count": null,
   "id": "bc214249-e2f3-4dfa-b86c-7de7bfe617a6",
   "metadata": {
    "tags": []
   },
   "outputs": [],
   "source": [
    "# Code here!\n"
   ]
  }
 ],
 "metadata": {
  "kernelspec": {
   "display_name": "Python 3 (ipykernel)",
   "language": "python",
   "name": "python3"
  },
  "language_info": {
   "codemirror_mode": {
    "name": "ipython",
    "version": 3
   },
   "file_extension": ".py",
   "mimetype": "text/x-python",
   "name": "python",
   "nbconvert_exporter": "python",
   "pygments_lexer": "ipython3",
   "version": "3.11.5"
  }
 },
 "nbformat": 4,
 "nbformat_minor": 5
}
