{
 "cells": [
  {
   "cell_type": "markdown",
   "id": "b3a4d2cc-a300-428e-8f34-cf7c1b25ea54",
   "metadata": {},
   "source": [
    "# Matplotlib\n",
    "\n",
    "It's an [open source library](https://github.com/matplotlib/matplotlib) hosted on github.\n",
    "\n",
    "👉 Don't forget to check out the [Gallery](https://matplotlib.org/stable/gallery/index.html)"
   ]
  },
  {
   "cell_type": "markdown",
   "id": "7d577738-8d9f-488b-aab2-7a8b24d9c4fb",
   "metadata": {},
   "source": [
    "## Several ways to import the library\n",
    "\n",
    "Matplotlib is a huge library, but the submodule we're interested is the one named \"pyplot\". It's usually done using this syntax:\n",
    "\n",
    "```python\n",
    "import matplotlib.pyplot as plt\n",
    "```\n",
    "\n",
    "But sometimes you'll see matplotlib imported like this, usually it's when we don't want to customize our graphs:\n",
    "\n",
    "```python\n",
    "import matplotlib\n",
    "```\n",
    "\n",
    "You'lle also notice this line in old notebooks:\n",
    "\n",
    "```python\n",
    "%matplotlib inline\n",
    "```\n",
    "\n",
    "But with the newer versions of IPython & Jupyter, it's no longer required."
   ]
  },
  {
   "cell_type": "code",
   "execution_count": null,
   "id": "90052d58-348b-4934-9a82-b054392517ec",
   "metadata": {
    "tags": []
   },
   "outputs": [],
   "source": [
    "import pandas as pd\n",
    "import numpy as np\n",
    "import matplotlib.pyplot as plt"
   ]
  },
  {
   "cell_type": "markdown",
   "id": "11e83af8-5a66-42c8-9ded-0fed9df47f55",
   "metadata": {},
   "source": [
    "## First graph\n",
    "\n",
    "You can pass x and y to matplotlib and to output graph. Using directly the function ```.plot()``` from the library."
   ]
  },
  {
   "cell_type": "code",
   "execution_count": null,
   "id": "7cf56bdd-75f9-4d75-9193-32edd5244e6b",
   "metadata": {
    "tags": []
   },
   "outputs": [],
   "source": [
    "x = [1980, 1985, 1990, 1995, 2000, 2005]\n",
    "y = [12, 20, 50, 25, 7, 12]"
   ]
  },
  {
   "cell_type": "code",
   "execution_count": null,
   "id": "1fdc28b9-93fa-4feb-9bab-0421a721cf3c",
   "metadata": {
    "tags": []
   },
   "outputs": [],
   "source": [
    "plt.plot(x, y);  # pro-tip : the ; makes disappear the object text"
   ]
  },
  {
   "cell_type": "markdown",
   "id": "7d1397ab-d415-4eda-b414-604a298e3230",
   "metadata": {},
   "source": [
    "## Matplotlib outside of a Jupyter Notebook\n",
    "\n",
    "💡 Jupyter notebooks are great to test, experiment and document code. And it displays automatically a graph you've created in a cell. But remember you can also use Matplotlib outside of a jupyter notebook. In that case, you need to tell python to display the graph using the instruction : ```plt.show()```."
   ]
  },
  {
   "cell_type": "markdown",
   "id": "7d364627-ca79-45be-b5e6-81fcad3682db",
   "metadata": {},
   "source": [
    "## Exercice\n",
    "\n",
    "❓ **>>>** Create a file named mpl_demo.py and add some instructions in it in order to generate the same graph. Use the terminal to run the script."
   ]
  },
  {
   "cell_type": "markdown",
   "id": "54bb43c5-8da0-4bd1-9969-25fba9f840bd",
   "metadata": {},
   "source": [
    "## Basics\n",
    "\n",
    "### Adding title\n",
    "\n",
    "Let's add a [title](https://matplotlib.org/3.1.1/api/_as_gen/matplotlib.pyplot.title.html) to our graph.\n",
    "\n"
   ]
  },
  {
   "cell_type": "code",
   "execution_count": null,
   "id": "856b9bce-f79c-4bec-8976-0ea5fccd483e",
   "metadata": {
    "tags": []
   },
   "outputs": [],
   "source": [
    "x = [1980, 1985, 1990, 1995, 2000, 2005]\n",
    "y = [12, 20, 50, 25, 7, 12]\n",
    "\n",
    "plt.title(\"My first amazing graph\")\n",
    "\n",
    "plt.plot(x, y);"
   ]
  },
  {
   "cell_type": "markdown",
   "id": "5f877f6f-c840-461d-bdd5-6417815824ce",
   "metadata": {},
   "source": [
    "### xlabel and y label"
   ]
  },
  {
   "cell_type": "code",
   "execution_count": null,
   "id": "aaed9815-fa8b-4b28-8f50-5f5b404709da",
   "metadata": {
    "tags": []
   },
   "outputs": [],
   "source": [
    "x = [1980, 1985, 1990, 1995, 2000, 2005]\n",
    "y = [12, 20, 50, 25, 7, 12]\n",
    "\n",
    "plt.title(\"My first amazing graph\")\n",
    "plt.xlabel('Years')\n",
    "plt.ylabel('Value')\n",
    "\n",
    "plt.plot(x, y);"
   ]
  },
  {
   "cell_type": "markdown",
   "id": "10e6c976-58ca-4928-8f6e-6e156d888b6a",
   "metadata": {},
   "source": [
    "### xticks and y ticks"
   ]
  },
  {
   "cell_type": "code",
   "execution_count": null,
   "id": "41731f1e-65a6-42ff-a973-e7d09f7a7fcb",
   "metadata": {
    "tags": []
   },
   "outputs": [],
   "source": [
    "x = [1980, 1985, 1990, 1995, 2000, 2005]\n",
    "y = [12, 20, 50, 25, 7, 12]\n",
    "\n",
    "plt.title(\"My first amazing graph\")\n",
    "plt.xlabel('Years')\n",
    "plt.ylabel('Value')\n",
    "\n",
    "plt.xticks([1980, 2000, 2005])\n",
    "plt.yticks([0, 25, 12, 35, 50])\n",
    "\n",
    "plt.plot(x, y);"
   ]
  },
  {
   "cell_type": "code",
   "execution_count": null,
   "id": "544fa73c-6ea7-4a57-b0c8-bb3b0dc80099",
   "metadata": {
    "tags": []
   },
   "outputs": [],
   "source": [
    "x = [1980, 1985, 1990, 1995, 2000, 2005]\n",
    "y = [12, 20, 50, 25, 7, 12]\n",
    "\n",
    "plt.title(\"My first amazing graph\")\n",
    "plt.xlabel('Years')\n",
    "plt.ylabel('Value')\n",
    "\n",
    "plt.xticks([1980, 2000, 2005], ['start', 2000, 'end'])\n",
    "plt.yticks([0, 25, 12, 35, 50], ['start', 25, 'twelve', 35, 'fifty'])\n",
    "\n",
    "plt.plot(x, y);"
   ]
  },
  {
   "cell_type": "markdown",
   "id": "41026bea-46ad-4d8d-b713-c4f869e0b88a",
   "metadata": {},
   "source": [
    "### xlim and ylim"
   ]
  },
  {
   "cell_type": "code",
   "execution_count": null,
   "id": "0f09d0ec-47c2-4718-9592-70919b3f4070",
   "metadata": {
    "tags": []
   },
   "outputs": [],
   "source": [
    "x = [1980, 1985, 1990, 1995, 2000, 2005]\n",
    "y = [12, 20, 50, 25, 7, 12]\n",
    "\n",
    "plt.title(\"My first amazing graph\")\n",
    "plt.xlabel('Years')\n",
    "plt.ylabel('Value')\n",
    "\n",
    "plt.xlim(1950, 2050)\n",
    "plt.ylim(-10, 70)\n",
    "\n",
    "plt.plot(x, y);"
   ]
  },
  {
   "cell_type": "markdown",
   "id": "d610a325-dbd0-4832-8157-f21b1e8e8370",
   "metadata": {},
   "source": [
    "### Plot several lines"
   ]
  },
  {
   "cell_type": "code",
   "execution_count": null,
   "id": "b1b09706-17fd-4145-8a0c-3a0d705940e1",
   "metadata": {
    "tags": []
   },
   "outputs": [],
   "source": [
    "x  = [1980, 1985, 1990, 1995, 2000, 2005]\n",
    "y1 = [12, 20, 50, 25, 7, 12]\n",
    "y2 = [32, 23, 7, 5, 31, 10]\n",
    "y3 = np.sum([y1, y2], axis=0)\n",
    "\n",
    "plt.title(\"My first amazing graph\")\n",
    "plt.xlabel('Years')\n",
    "plt.ylabel('Values')\n",
    "\n",
    "plt.plot(x, y1)\n",
    "plt.plot(x, y2)\n",
    "plt.plot(x, y3);"
   ]
  },
  {
   "cell_type": "markdown",
   "id": "cb66e933-ac5d-4603-abd6-c43355102dc4",
   "metadata": {},
   "source": [
    "### Legend\n",
    "\n",
    "By default, the argument is 'best'."
   ]
  },
  {
   "cell_type": "code",
   "execution_count": null,
   "id": "7590edeb-1002-4ed2-a9a9-c9f4a0d2866e",
   "metadata": {
    "tags": []
   },
   "outputs": [],
   "source": [
    "x  = [1980, 1985, 1990, 1995, 2000, 2005]\n",
    "y1 = [12, 20, 50, 25, 7, 12]\n",
    "y2 = [32, 23, 7, 5, 31, 10]\n",
    "y3 = np.sum([y1, y2], axis=0)\n",
    "\n",
    "plt.title(\"My first amazing graph\")\n",
    "plt.xlabel('Years')\n",
    "plt.ylabel('Values')\n",
    "\n",
    "plt.plot(x, y1, label='y1')\n",
    "plt.plot(x, y2, label='y2')\n",
    "plt.plot(x, y3, label='total')\n",
    "\n",
    "plt.legend();"
   ]
  },
  {
   "cell_type": "markdown",
   "id": "662ae307-7554-4f4f-95f8-d5c701d10999",
   "metadata": {
    "tags": []
   },
   "source": [
    "### Grid"
   ]
  },
  {
   "cell_type": "code",
   "execution_count": null,
   "id": "bc050ffe-41ef-435f-9aed-cf52345f171c",
   "metadata": {
    "tags": []
   },
   "outputs": [],
   "source": [
    "x  = [1980, 1985, 1990, 1995, 2000, 2005]\n",
    "y1 = [12, 20, 50, 25, 7, 12]\n",
    "y2 = [32, 23, 7, 5, 31, 10]\n",
    "y3 = np.sum([y1, y2], axis=0)\n",
    "\n",
    "plt.title(\"My first amazing graph\")\n",
    "plt.xlabel('Years')\n",
    "plt.ylabel('Values')\n",
    "\n",
    "plt.plot(x, y1, label='y1')\n",
    "plt.plot(x, y2, label='y2')\n",
    "plt.plot(x, y3, label='total')\n",
    "\n",
    "plt.legend()\n",
    "\n",
    "plt.grid();"
   ]
  },
  {
   "cell_type": "markdown",
   "id": "a01e14ee-b1be-4fdb-b59c-2e98ab2ca0ec",
   "metadata": {},
   "source": [
    "We can custmize our grid with many different options."
   ]
  },
  {
   "cell_type": "code",
   "execution_count": null,
   "id": "7c1ae7a3-429c-4e51-9a55-04efdac988ec",
   "metadata": {
    "tags": []
   },
   "outputs": [],
   "source": [
    "x  = [1980, 1985, 1990, 1995, 2000, 2005]\n",
    "y1 = [12, 20, 50, 25, 7, 12]\n",
    "y2 = [32, 23, 7, 5, 31, 10]\n",
    "y3 = np.sum([y1, y2], axis=0)\n",
    "\n",
    "plt.title(\"My first amazing graph\")\n",
    "plt.xlabel('Years')\n",
    "plt.ylabel('Values')\n",
    "\n",
    "plt.plot(x, y1, label='y1')\n",
    "plt.plot(x, y2, label='y2')\n",
    "plt.plot(x, y3, label='total')\n",
    "\n",
    "plt.legend()\n",
    "\n",
    "plt.grid(axis=\"y\", color=\"#FFCC00\", linestyle='--', linewidth=0.7);"
   ]
  },
  {
   "cell_type": "markdown",
   "id": "2fb76fb2-84b2-4c7f-8f2d-d6573771bfe6",
   "metadata": {},
   "source": [
    "### Styles\n",
    "\n",
    "There are many predefined styles inside Matplotlib. You can either check out the [documentation](https://matplotlib.org/stable/gallery/style_sheets/style_sheets_reference.html) or do it with Python with this trick :"
   ]
  },
  {
   "cell_type": "code",
   "execution_count": null,
   "id": "93ce808b-ecd7-491c-8194-8dd023c2c8dc",
   "metadata": {
    "tags": []
   },
   "outputs": [],
   "source": [
    "print(sorted(plt.style.available))"
   ]
  },
  {
   "cell_type": "code",
   "execution_count": null,
   "id": "3ab23302-9de2-4544-8b71-024e9a2d22f5",
   "metadata": {
    "tags": []
   },
   "outputs": [],
   "source": [
    "plt.style.use('dark_background')\n",
    "\n",
    "\n",
    "x  = [1980, 1985, 1990, 1995, 2000, 2005]\n",
    "y1 = [12, 20, 50, 25, 7, 12]\n",
    "y2 = [32, 23, 7, 5, 31, 10]\n",
    "y3 = np.sum([y1, y2], axis=0)\n",
    "\n",
    "plt.title(\"My first amazing graph\")\n",
    "plt.xlabel('Years')\n",
    "plt.ylabel('Values')\n",
    "\n",
    "plt.plot(x, y1, label='y1')\n",
    "plt.plot(x, y2, label='y2')\n",
    "plt.plot(x, y3, label='total')\n",
    "\n",
    "plt.legend()\n",
    "\n",
    "plt.grid(axis=\"y\", color=\"#FFCC00\", linestyle='--', linewidth=0.7);"
   ]
  },
  {
   "cell_type": "markdown",
   "id": "240ad0e2-8634-4867-979d-7ca1e39f025a",
   "metadata": {},
   "source": [
    "But this style will apply to our entier notebook. If you want to use a specific style for only one graph, you need to use a ```with``` statement."
   ]
  },
  {
   "cell_type": "code",
   "execution_count": null,
   "id": "ae902310-3417-44d8-9aef-31c36b53f391",
   "metadata": {
    "tags": []
   },
   "outputs": [],
   "source": [
    "with plt.style.context('seaborn-v0_8-whitegrid'):\n",
    "\n",
    "    x  = [1980, 1985, 1990, 1995, 2000, 2005]\n",
    "    y1 = [12, 20, 50, 25, 7, 12]\n",
    "    y2 = [32, 23, 7, 5, 31, 10]\n",
    "    y3 = np.sum([y1, y2], axis=0)\n",
    "\n",
    "    plt.title(\"My first amazing graph\")\n",
    "    plt.xlabel('Years')\n",
    "    plt.ylabel('Values')\n",
    "\n",
    "    plt.plot(x, y1, label='y1')\n",
    "    plt.plot(x, y2, label='y2')\n",
    "    plt.plot(x, y3, label='total')\n",
    "\n",
    "    plt.legend()\n",
    "\n",
    "    plt.grid(axis=\"y\", color=\"#FFCC00\", linestyle='--', linewidth=0.7);"
   ]
  },
  {
   "cell_type": "code",
   "execution_count": null,
   "id": "c13aabff-98c0-422c-bb07-c0ac91ac2ffd",
   "metadata": {
    "tags": []
   },
   "outputs": [],
   "source": [
    "# The first style is still present\n",
    "x  = [1980, 1985, 1990, 1995, 2000, 2005]\n",
    "y = [12, 20, 50, 25, 7, 12]\n",
    "\n",
    "plt.plot(x, y);"
   ]
  },
  {
   "cell_type": "markdown",
   "id": "04768d5e-a966-447c-b85e-852f5e088d96",
   "metadata": {},
   "source": [
    "### Lines\n",
    "\n",
    "You can customize lines using:\n",
    "    \n",
    "- Different [linestyles](https://matplotlib.org/stable/gallery/lines_bars_and_markers/linestyles.html)\n",
    "- Different [markers](https://matplotlib.org/stable/gallery/lines_bars_and_markers/marker_reference.html)\n",
    "- Different widths.\n"
   ]
  },
  {
   "cell_type": "code",
   "execution_count": null,
   "id": "825f6b0d-0103-40b5-992c-f21b25a8b7e5",
   "metadata": {
    "tags": []
   },
   "outputs": [],
   "source": [
    "plt.style.use('default')\n",
    "\n",
    "x  = [1980, 1985, 1990, 1995, 2000, 2005]\n",
    "y1 = [12, 20, 50, 25, 7, 12]\n",
    "y2 = [32, 23, 7, 5, 31, 10]\n",
    "y3 = np.sum([y1, y2], axis=0)\n",
    "\n",
    "plt.title(\"My first amazing graph\")\n",
    "plt.xlabel('Years')\n",
    "plt.ylabel('Values')\n",
    "\n",
    "plt.plot(x, y1, label='y1', linestyle=':', marker='s')\n",
    "plt.plot(x, y2, label='y2', linestyle=':', marker=5)\n",
    "plt.plot(x, y3, label='total', linestyle='-.', linewidth=3)\n",
    "\n",
    "plt.legend()\n",
    "\n",
    "plt.grid(axis=\"y\", color=\"#FFCC00\", linestyle='--', linewidth=0.7);"
   ]
  },
  {
   "cell_type": "markdown",
   "id": "b2831771-2311-4319-8def-e6b996b02a2f",
   "metadata": {},
   "source": [
    "❓ **>>>**\n",
    "\n",
    "- Create a dataframe named \"df\" from the file named \"programming_language_trend_over_time.csv\" located inside the \"data\" folder. Make sure the first column, named 'week', is parsed by Pandas as a date. You can do this using the \"parse_dates\" parameter or by converting the series using the method ```.astype()```.\n",
    "\n",
    "- Generate a graph to visualize the evolution of the 3 programming languages and also create a new one to visualize the total score. Use a new style than the default one, different style width and appropriate title and legends."
   ]
  },
  {
   "cell_type": "code",
   "execution_count": null,
   "id": "ce0940d2-74e4-45b0-829b-0dd11bcbe0ea",
   "metadata": {},
   "outputs": [],
   "source": [
    "# Code here!\n"
   ]
  }
 ],
 "metadata": {
  "kernelspec": {
   "display_name": "Python 3 (ipykernel)",
   "language": "python",
   "name": "python3"
  },
  "language_info": {
   "codemirror_mode": {
    "name": "ipython",
    "version": 3
   },
   "file_extension": ".py",
   "mimetype": "text/x-python",
   "name": "python",
   "nbconvert_exporter": "python",
   "pygments_lexer": "ipython3",
   "version": "3.11.0"
  }
 },
 "nbformat": 4,
 "nbformat_minor": 5
}
